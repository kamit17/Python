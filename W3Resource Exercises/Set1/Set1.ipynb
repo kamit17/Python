{
 "cells": [
  {
   "cell_type": "code",
   "execution_count": null,
   "metadata": {},
   "outputs": [],
   "source": [
    " #1)Write a Python program to print the following string in a specific format (see the output).\n",
    "    \n",
    "  #'''Twinkle, twinkle, little star,\n",
    "#\tHow I wonder what you are! \n",
    "#\t\tUp above the world so high,   \t\t\n",
    "#\t\tLike a diamond in the sky. \n",
    "#Twinkle, twinkle, little star, \n",
    "#\tHow I wonder what you are'''\n",
    "\n",
    "print('Twinkle, twinkle, little start,\\n\\tHow I wonder what you are!\\n\\t\\tUp above the world so high,\\n\\t\\tLIke a diamond in the Sky\\nTwinkle, Twinkle little Star\\n\\tHow I wonder what you are')"
   ]
  },
  {
   "cell_type": "code",
   "execution_count": null,
   "metadata": {},
   "outputs": [],
   "source": [
    "#3. Write a Python program to display the current date and time.\n",
    "import datetime\n",
    "now = datetime.datetime.now()\n",
    "print('Current date and time: ')\n",
    "print(now.strftime('%Y-%m-%d %H:%M:%S'))\n"
   ]
  },
  {
   "cell_type": "code",
   "execution_count": null,
   "metadata": {},
   "outputs": [],
   "source": [
    "#4. Write a Python program which accepts the radius of a circle from the user and compute the area.\n",
    "import math\n",
    "#math.pi\n",
    "r  = float(input(\"Enter the radius of the circle: \"))\n",
    "area = math.pi*r*r\n",
    "print(\"The area of the circle with radius \"+str (area))"
   ]
  },
  {
   "cell_type": "code",
   "execution_count": null,
   "metadata": {},
   "outputs": [],
   "source": [
    "#5. Write a Python program which accepts the user's first and last name and print them in reverse order with a space between them\n",
    "first_name = input('Enter your first name: ')\n",
    "last_name = input('Enter your last name:  ')\n",
    "print(last_name +\" \"+first_name)"
   ]
  },
  {
   "cell_type": "code",
   "execution_count": null,
   "metadata": {},
   "outputs": [],
   "source": [
    "#6. Write a Python program which accepts a sequence of comma-separated numbers from user and generate a list and a tuple with those numbers. \n",
    "\n",
    "values = input('input numbers seperated by comma: ')\n",
    "list = values.split(',') #String.split() returns a list of strings after breaking the given string by the specified seprarator\n",
    "tuple = tuple(list)\n",
    "print('List: ',list)\n",
    "print('Tuple: ',tuple)"
   ]
  },
  {
   "cell_type": "code",
   "execution_count": null,
   "metadata": {},
   "outputs": [],
   "source": [
    "#7. Write a Python program to accept a filename from the user and print the extension of that\n",
    "filename = input('Filename with extension: ')\n",
    "extension= filename.split('.')\n",
    "print('the extension of the file is:',extension[-1])"
   ]
  },
  {
   "cell_type": "code",
   "execution_count": null,
   "metadata": {},
   "outputs": [],
   "source": [
    "#8. Write a Python program to display the first and last colors from the following list\n",
    "#color_list = [\"Red\",\"Green\",\"White\" ,\"Black\"]\n",
    "\n",
    "color_list = [\"Red\",\"Green\",\"White\" ,\"Black\"]\n",
    "print(color_list[0],color_list[3])"
   ]
  },
  {
   "cell_type": "code",
   "execution_count": null,
   "metadata": {},
   "outputs": [],
   "source": [
    "#9 .Write a Python program to display the examination schedule. (extract the date from exam_st_date). r\n",
    "#exam_st_date = (11, 12, 2014)\n",
    "#˙Sample Output : The examination will start from : 11 / 12 / 2014\n",
    "\n",
    "exam_st_date = (11, 12, 2014)\n",
    "print('The exam will start from : %i/%i/%i' %(exam_st_date))"
   ]
  },
  {
   "cell_type": "code",
   "execution_count": null,
   "metadata": {},
   "outputs": [],
   "source": [
    "#10 Write a Python program that accepts an integer (n) and computes the value of n+nn+nnn. Go to the editor\n",
    "#Sample value of n is 5 \n",
    "#Expected Result : 615\n",
    "\n",
    "n = int(input('Enter an integer: '))\n",
    "n1 = int('%s' %n)\n",
    "n2 = int ('%s%s'%(n,n))\n",
    "n3 = int('%s%s%s'%(n,n,n))\n",
    "print(n1+n2+n3)\n",
    "\n"
   ]
  },
  {
   "cell_type": "code",
   "execution_count": null,
   "metadata": {},
   "outputs": [],
   "source": [
    "i = int(input('Enter a number: '))\n",
    "n= (i+((i*10)+i) + (i*100)+(i*10)+i)\n",
    "print(n)"
   ]
  },
  {
   "cell_type": "code",
   "execution_count": null,
   "metadata": {},
   "outputs": [],
   "source": [
    "'''11. Write a Python program to print the documents (syntax, description etc.) of Python built-in function(s). \n",
    "Sample function : abs()\n",
    "Expected Result : \n",
    "abs(number) -> number\n",
    "Return the absolute value of the argument.'''\n",
    "\n"
   ]
  },
  {
   "cell_type": "code",
   "execution_count": null,
   "metadata": {},
   "outputs": [],
   "source": [
    "'''12. Write a Python program to print the calendar of a given month and year.\n",
    "Note : Use 'calendar' module. '''\n"
   ]
  },
  {
   "cell_type": "code",
   "execution_count": null,
   "metadata": {},
   "outputs": [],
   "source": [
    "#13. Write a Python program to print the following here document. a string that you \"don't\" have to escape\n",
    "#This\n",
    "#is a ....... multi-line\n",
    "#heredoc string --------> example\n",
    "\n",
    "\n",
    "print('''a string that you \"don't\" have to escape\n",
    "This\n",
    "is a ....... multi-line\n",
    "heredoc string --------> example''')\n"
   ]
  },
  {
   "cell_type": "code",
   "execution_count": null,
   "metadata": {},
   "outputs": [],
   "source": [
    "'''14. Write a Python program to calculate number of days between two dates.\n",
    "Sample dates : (2014, 7, 2), (2014, 7, 11)\n",
    "Expected output : 9 days \n",
    "'''\n"
   ]
  },
  {
   "cell_type": "code",
   "execution_count": null,
   "metadata": {},
   "outputs": [],
   "source": [
    "import math\n",
    "r = 6.0\n",
    "V= 4.0/3.0*math.pi*r**3\n",
    "print(V)"
   ]
  },
  {
   "cell_type": "code",
   "execution_count": null,
   "metadata": {},
   "outputs": [],
   "source": [
    "'''16. Write a Python program to get the difference between a given number and 17, if the number is greater than 17 return double the absolute difference.'''\n",
    "n= int(input('Enter given number: '))\n",
    "diff= (n-17)\n",
    "if diff <=17:\n",
    "    print(n-17)\n",
    "else:\n",
    "    print(int(n-17)*2) "
   ]
  },
  {
   "cell_type": "code",
   "execution_count": null,
   "metadata": {},
   "outputs": [],
   "source": [
    "'''17. Write a Python program to test whether a number is within 100 of 1000 or 2000.'''\n"
   ]
  },
  {
   "cell_type": "code",
   "execution_count": null,
   "metadata": {},
   "outputs": [],
   "source": [
    "'''18. Write a Python program to calculate the sum of three given numbers, if the values are equal then return thrice of their sum'''\n",
    "def sum (a,b,c):\n",
    "    sum = a+b+c\n",
    "    \n",
    "    if a==b==c:\n",
    "        sum = sum * 3\n",
    "    return sum\n",
    "print(sum(1,2,3))\n",
    "print(sum(2,2,2))"
   ]
  },
  {
   "cell_type": "code",
   "execution_count": null,
   "metadata": {},
   "outputs": [],
   "source": [
    "'''19. Write a Python program to get a new string from a given string where \"Is\" has been added to the front. If the given string already begins with \"Is\" then return the string unchanged.'''\n",
    "\n",
    "def String(str):\n",
    "    if  str[:2] == 'Is':\n",
    "        return str\n",
    "    return \"Is\" + str\n",
    "print(String('Hello'))\n",
    "print(String('Isolate'))\n"
   ]
  },
  {
   "cell_type": "code",
   "execution_count": null,
   "metadata": {},
   "outputs": [],
   "source": [
    "'''20. Write a Python program to get a string which is n (non-negative integer) copies of a given string.'''\n",
    "def string(str , n):\n",
    "    output = ''\n",
    "    for i in range(n):\n",
    "        output = output + str\n",
    "    return output\n",
    "print(string('Hello',4))"
   ]
  },
  {
   "cell_type": "code",
   "execution_count": null,
   "metadata": {},
   "outputs": [],
   "source": [
    "'''21. Write a Python program to find whether a given number (accept from the user) is even or odd, print out an appropriate message to the user. '''\n",
    "def test(n):\n",
    "    mod = n % 2\n",
    "    if mod > 0:\n",
    "        print('Number is negative')\n",
    "    else:\n",
    "        print('Number is positive')\n",
    " \n",
    "test(6)\n",
    "test(7)"
   ]
  },
  {
   "cell_type": "code",
   "execution_count": null,
   "metadata": {},
   "outputs": [],
   "source": [
    "'''22. Write a Python program to count the number 4 in a given list. '''\n",
    "\n",
    "def list_count (n):\n",
    "    count = 0\n",
    "    for i in n:\n",
    "        if i == 4:\n",
    "            count = count + 1\n",
    "    return count\n",
    "print(list_count([1,4,4,4,5,6,7]))"
   ]
  },
  {
   "cell_type": "code",
   "execution_count": null,
   "metadata": {},
   "outputs": [],
   "source": [
    "'''23. Write a Python program to get the n (non-negative integer) copies of the first 2 characters of a given string. Return the n copies of the whole string if the length is less than 2.'''\n",
    "def string(str , n):\n",
    "    len_str = 2\n",
    "    if len_str > len(str):\n",
    "        len_str = len(str)\n",
    "    substring = str[:len_str]\n",
    "    \n",
    "    output = ''\n",
    "    for i in range(n):\n",
    "        output = output+substring\n",
    "    return output\n",
    "print(string('alphaomegatau',4))"
   ]
  },
  {
   "cell_type": "code",
   "execution_count": null,
   "metadata": {},
   "outputs": [],
   "source": [
    "'''24. Write a Python program to test whether a passed letter is a vowel or not'''\n",
    "def test(char):\n",
    "    vowels = 'aeiou'\n",
    "    return char in vowels\n",
    "print(test('c'))\n"
   ]
  },
  {
   "cell_type": "code",
   "execution_count": null,
   "metadata": {},
   "outputs": [],
   "source": []
  }
 ],
 "metadata": {
  "kernelspec": {
   "display_name": "Python 3",
   "language": "python",
   "name": "python3"
  },
  "language_info": {
   "codemirror_mode": {
    "name": "ipython",
    "version": 3
   },
   "file_extension": ".py",
   "mimetype": "text/x-python",
   "name": "python",
   "nbconvert_exporter": "python",
   "pygments_lexer": "ipython3",
   "version": "3.6.7"
  }
 },
 "nbformat": 4,
 "nbformat_minor": 2
}
