{
 "cells": [
  {
   "cell_type": "code",
   "execution_count": 6,
   "metadata": {},
   "outputs": [
    {
     "name": "stdout",
     "output_type": "stream",
     "text": [
      "Enter the first integer: 2\n",
      "Enter the second integer: 4\n",
      "Enter the third integer: 5\n",
      "Sum is :  11\n"
     ]
    }
   ],
   "source": [
    "#33. Write a Python program to sum of three given integers. However, if two values are equal sum will be zero.\n",
    "num1 = int(input('Enter the first integer: '))\n",
    "num2 = int(input('Enter the second integer: '))\n",
    "num3 = int(input('Enter the third integer: '))\n",
    "sum = num1+num2+num3\n",
    "\n",
    "if num1==num2 or num2==num3 or num1==num3:\n",
    "    sum = 0\n",
    "else:\n",
    "    sum = num1+num2+num3\n",
    "\n",
    "print('Sum is : ',sum)"
   ]
  },
  {
   "cell_type": "code",
   "execution_count": 5,
   "metadata": {},
   "outputs": [
    {
     "name": "stdout",
     "output_type": "stream",
     "text": [
      "0\n",
      "9\n"
     ]
    }
   ],
   "source": [
    "#Above program using a function:\n",
    "def sum(x,y,z):\n",
    "    if x == y or y == z or z == x:\n",
    "        sum = 0\n",
    "    else:\n",
    "        sum = x+y+z\n",
    "    return sum\n",
    "\n",
    "print(sum(2,1,2))\n",
    "print(sum(3,2,4))"
   ]
  },
  {
   "cell_type": "code",
   "execution_count": 10,
   "metadata": {},
   "outputs": [
    {
     "name": "stdout",
     "output_type": "stream",
     "text": [
      "26\n",
      "30\n",
      "20\n"
     ]
    }
   ],
   "source": [
    "#34. Write a Python program to sum of two given integers. However, if the sum is between 15 to 20 it will return 20.\n",
    "def sum(x,y):\n",
    "    sum = x+y\n",
    "    if sum in range(15,20):\n",
    "        return 20\n",
    "    else:\n",
    "        return sum\n",
    "print(sum(10,16))\n",
    "print(sum(10,20))\n",
    "print(sum(10,5))"
   ]
  },
  {
   "cell_type": "code",
   "execution_count": 12,
   "metadata": {},
   "outputs": [
    {
     "name": "stdout",
     "output_type": "stream",
     "text": [
      "True\n",
      "False\n"
     ]
    }
   ],
   "source": [
    "#35. Write a Python program that will return true if the two given integer values are equal or their sum or difference is 5. \n",
    "def test(x,y):\n",
    "    if x == y or (x-y) == 5 or (x+y) == 5:\n",
    "        return True\n",
    "    else:\n",
    "        return False\n",
    "    \n",
    "print(test(7,2))\n",
    "print(test(11,22))"
   ]
  },
  {
   "cell_type": "code",
   "execution_count": null,
   "metadata": {},
   "outputs": [],
   "source": [
    "#36. Write a Python program to add two objects if both objects are an integer type\n",
    "\n",
    "        "
   ]
  }
 ],
 "metadata": {
  "kernelspec": {
   "display_name": "Python 3",
   "language": "python",
   "name": "python3"
  },
  "language_info": {
   "codemirror_mode": {
    "name": "ipython",
    "version": 3
   },
   "file_extension": ".py",
   "mimetype": "text/x-python",
   "name": "python",
   "nbconvert_exporter": "python",
   "pygments_lexer": "ipython3",
   "version": "3.6.7"
  }
 },
 "nbformat": 4,
 "nbformat_minor": 2
}
