{
  "nbformat": 4,
  "nbformat_minor": 0,
  "metadata": {
    "colab": {
      "name": "PCC- Chp4.ipynb",
      "provenance": [],
      "include_colab_link": true
    },
    "kernelspec": {
      "name": "python3",
      "display_name": "Python 3"
    }
  },
  "cells": [
    {
      "cell_type": "markdown",
      "metadata": {
        "id": "view-in-github",
        "colab_type": "text"
      },
      "source": [
        "<a href=\"https://colab.research.google.com/github/kamit17/Python/blob/Cloud9/PCC_Chp4.ipynb\" target=\"_parent\"><img src=\"https://colab.research.google.com/assets/colab-badge.svg\" alt=\"Open In Colab\"/></a>"
      ]
    },
    {
      "cell_type": "code",
      "metadata": {
        "id": "qJ5U55YPY5ov",
        "colab_type": "code",
        "colab": {}
      },
      "source": [
        " pizza = ['Veggie','Buffalo Chicken','Cheese']\n",
        "for i in pizza:\n",
        "  print(i)\n",
        "  \n"
      ],
      "execution_count": 0,
      "outputs": []
    },
    {
      "cell_type": "code",
      "metadata": {
        "id": "j8g4nFMwZpAZ",
        "colab_type": "code",
        "colab": {}
      },
      "source": [
        "for i in pizza:\n",
        "  print('I like '+ i + 'Pizza.'  )"
      ],
      "execution_count": 0,
      "outputs": []
    },
    {
      "cell_type": "code",
      "metadata": {
        "id": "orBH0aZGZ7Ol",
        "colab_type": "code",
        "colab": {}
      },
      "source": [
        "for i in pizza:\n",
        "  print('I like '+ i + 'Pizza.'  )\n",
        "print('I like pizza')"
      ],
      "execution_count": 0,
      "outputs": []
    },
    {
      "cell_type": "code",
      "metadata": {
        "id": "YbLWF3MJaHkD",
        "colab_type": "code",
        "colab": {}
      },
      "source": [
        "animals = ['Goat','Cow','Horse']\n",
        "for animal in animals:\n",
        "  print(animal + ' is Herbivore')"
      ],
      "execution_count": 0,
      "outputs": []
    },
    {
      "cell_type": "code",
      "metadata": {
        "id": "iY-9vUhPbxzf",
        "colab_type": "code",
        "colab": {}
      },
      "source": [
        "squares = []\n",
        "for value in range(1,11):\n",
        "  #square = value**2\n",
        "  #squares.append(square)\n",
        "  squares.append(value**2)\n",
        "\n",
        "print(squares)"
      ],
      "execution_count": 0,
      "outputs": []
    },
    {
      "cell_type": "code",
      "metadata": {
        "id": "46LHNt2weUjY",
        "colab_type": "code",
        "colab": {}
      },
      "source": [
        "digits = []\n",
        "for digit in range(1,12332):\n",
        "  #list = []\n",
        "  #print(digit)\n",
        "  \n",
        "  digits.append(digit)\n",
        "print('The value of list is : ' , digits)\n",
        "print(min(digits))\n",
        "print(max(digits))\n",
        "print(sum(digits))\n"
      ],
      "execution_count": 0,
      "outputs": []
    },
    {
      "cell_type": "code",
      "metadata": {
        "id": "e2Ea668vgmzY",
        "colab_type": "code",
        "colab": {}
      },
      "source": [
        "squares = [value**2 for value in range(1,232)]\n",
        "print(squares)"
      ],
      "execution_count": 0,
      "outputs": []
    },
    {
      "cell_type": "code",
      "metadata": {
        "id": "saAzGl_WiFBz",
        "colab_type": "code",
        "colab": {}
      },
      "source": [
        "list= []\n",
        "for i in range(1,21):\n",
        "  #print(i)\n",
        "  list.append(i)\n",
        "print(list)"
      ],
      "execution_count": 0,
      "outputs": []
    },
    {
      "cell_type": "code",
      "metadata": {
        "id": "8spOZILujlyx",
        "colab_type": "code",
        "colab": {}
      },
      "source": [
        "list = []\n",
        "for i in range(1,1000000):\n",
        "  list.append(i)\n",
        "#print(list)\n",
        "print(min(list))\n",
        "print(max(list))\n",
        "print(sum(list))"
      ],
      "execution_count": 0,
      "outputs": []
    },
    {
      "cell_type": "code",
      "metadata": {
        "id": "Ih_dVbdtlyiw",
        "colab_type": "code",
        "colab": {}
      },
      "source": [
        "#4.8 - cube comprehensions\n",
        "cubes = [i**3 for i in range(1,999,3)]\n",
        "print(cubes)\n"
      ],
      "execution_count": 0,
      "outputs": []
    },
    {
      "cell_type": "code",
      "metadata": {
        "id": "2Guul6s5mVL0",
        "colab_type": "code",
        "colab": {}
      },
      "source": [
        "#4.6 prints only  odd numbers\n",
        "for i in range(1,20,2):\n",
        "  print(i)"
      ],
      "execution_count": 0,
      "outputs": []
    },
    {
      "cell_type": "code",
      "metadata": {
        "id": "AdZgMYd1mCcd",
        "colab_type": "code",
        "colab": {}
      },
      "source": [
        "#Slicing through lists\n",
        "players = ['Charles','Martina','Mike','phil','florence']\n",
        "for player in players[3:]:\n",
        "  print(player.title())"
      ],
      "execution_count": 0,
      "outputs": []
    },
    {
      "cell_type": "code",
      "metadata": {
        "id": "7XpsOyQftNsU",
        "colab_type": "code",
        "colab": {}
      },
      "source": [
        "#Copying a list\n",
        "my_foods = ['Pizza','falafel','carrot cake']\n",
        "friend_food = my_foods[:]\n",
        "print(friend_food)\n",
        "friend_food.append('ice cream')\n",
        "my_foods.append('Granola')\n",
        "print(my_foods)\n",
        "print(friend_food)\n"
      ],
      "execution_count": 0,
      "outputs": []
    },
    {
      "cell_type": "code",
      "metadata": {
        "id": "W1tqODR5xekd",
        "colab_type": "code",
        "colab": {}
      },
      "source": [
        "print('The first 3 items in my friends food are ',(friend_food[:3]))"
      ],
      "execution_count": 0,
      "outputs": []
    },
    {
      "cell_type": "code",
      "metadata": {
        "id": "LpPltb3IyFi7",
        "colab_type": "code",
        "colab": {}
      },
      "source": [
        "#Writing over a tuple\n",
        "dimensions = (200,500)\n",
        "print(\"original dimensions: \")\n",
        "for dimension in dimensions:\n",
        "  print(dimension)\n",
        "\n",
        "dimensions = (400,100)\n",
        "print(\"\\nModified dimensions\")\n",
        "for dimension in dimensions:\n",
        "  print(dimension)"
      ],
      "execution_count": 0,
      "outputs": []
    },
    {
      "cell_type": "code",
      "metadata": {
        "id": "2Dc8LrJwy6T4",
        "colab_type": "code",
        "colab": {}
      },
      "source": [
        "#4.13 Buffet\n",
        "\n",
        "foods = ('Naan','Chicken 65','Tandoori','Rice','Daal')\n",
        "print(\"Original foods\")\n",
        "for food in foods:\n",
        "  print(food)\n",
        "\n",
        "foods = ('Naan','Chicken 65','Tandoori','Paneer tikka','Daal')\n",
        "print('modified foods')\n",
        "for food in foods:\n",
        "  print(food)\n",
        "\n"
      ],
      "execution_count": 0,
      "outputs": []
    }
  ]
}