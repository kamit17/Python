{
  "nbformat": 4,
  "nbformat_minor": 0,
  "metadata": {
    "colab": {
      "name": "PCC- Chp 6.ipynb",
      "provenance": [],
      "include_colab_link": true
    },
    "kernelspec": {
      "name": "python3",
      "display_name": "Python 3"
    }
  },
  "cells": [
    {
      "cell_type": "markdown",
      "metadata": {
        "id": "view-in-github",
        "colab_type": "text"
      },
      "source": [
        "<a href=\"https://colab.research.google.com/github/kamit17/Python/blob/Cloud9/PCC_Chp_6.ipynb\" target=\"_parent\"><img src=\"https://colab.research.google.com/assets/colab-badge.svg\" alt=\"Open In Colab\"/></a>"
      ]
    },
    {
      "cell_type": "code",
      "metadata": {
        "id": "Xpp3P-eGNRz1",
        "colab_type": "code",
        "colab": {}
      },
      "source": [
        "#tracking position of an alien\n",
        "\n",
        "alien_0 = {'x_position':0,'y_position':25,'speed' :'medium','color':'green','points':5}\n",
        "print('Original x-position: ' + str(alien_0['x_position']))\n",
        "\n",
        "#Move the alient to the right\n",
        "#Determine how far to move the alien based on its current speed.\n",
        "\n",
        "if alien_0['speed'] == 'slow':\n",
        "  x_increment = 1\n",
        "elif alien_0['speed'] == 'medium':\n",
        "  x_increment = 2\n",
        "else:\n",
        "  #This must be a fast alien\n",
        "  x_increment = 3\n",
        "\n",
        "# The new position is the old position plus the increment.\n",
        "alien_0['x_position'] = alien_0['x_position'] + x_increment\n",
        "\n",
        "print('New x-postion: ' + str(alien_0['x_position']))\n",
        "\n",
        "del alien_0['points']\n",
        "print(alien_0)"
      ],
      "execution_count": 0,
      "outputs": []
    },
    {
      "cell_type": "code",
      "metadata": {
        "id": "P7_jjc-uVmGK",
        "colab_type": "code",
        "colab": {}
      },
      "source": [
        "#6.2 Favourite Number\n",
        "names = {'Mick':8,'Greg':9,'Romain':11,'Seb':5,'Juan':12}\n",
        "print(\"Mick's favorite number is : \" +str(names['Mick']))\n",
        "print(\"Greg's favorite number is : \" +str(names['Greg']))\n",
        "print(\"Romain's favorite number is : \" +str(names['Romain']))\n",
        "print(\"Seb's favorite number is : \" +str(names['Seb']))\n",
        "print(\"Juan's favorite number is : \" +str(names['Juan']))\n"
      ],
      "execution_count": 0,
      "outputs": []
    },
    {
      "cell_type": "code",
      "metadata": {
        "id": "_SE3cOXmWzLi",
        "colab_type": "code",
        "colab": {}
      },
      "source": [
        "#looping through Dictionaries\n",
        "\n",
        "user_0 = {\n",
        "    'username': 'efermi',\n",
        "    'first':'enrico',\n",
        "    'last':'fermi'\n",
        "}\n",
        "\n",
        "for key,value in user_0.items():\n",
        "  print('\\nkey: ' + key)\n",
        "  print(('Value: '+value))"
      ],
      "execution_count": 0,
      "outputs": []
    }
  ]
}