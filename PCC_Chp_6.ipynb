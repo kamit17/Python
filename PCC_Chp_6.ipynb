{
  "nbformat": 4,
  "nbformat_minor": 0,
  "metadata": {
    "colab": {
      "name": "PCC- Chp 6.ipynb",
      "provenance": [],
      "include_colab_link": true
    },
    "kernelspec": {
      "name": "python3",
      "display_name": "Python 3"
    }
  },
  "cells": [
    {
      "cell_type": "markdown",
      "metadata": {
        "id": "view-in-github",
        "colab_type": "text"
      },
      "source": [
        "<a href=\"https://colab.research.google.com/github/kamit17/Python/blob/Cloud9/PCC_Chp_6.ipynb\" target=\"_parent\"><img src=\"https://colab.research.google.com/assets/colab-badge.svg\" alt=\"Open In Colab\"/></a>"
      ]
    },
    {
      "cell_type": "code",
      "metadata": {
        "id": "Xpp3P-eGNRz1",
        "colab_type": "code",
        "colab": {}
      },
      "source": [
        "#tracking position of an alien\n",
        "\n",
        "alien_0 = {'x_position':0,'y_position':25,'speed' :'medium','color':'green','points':5}\n",
        "print('Original x-position: ' + str(alien_0['x_position']))\n",
        "\n",
        "#Move the alient to the right\n",
        "#Determine how far to move the alien based on its current speed.\n",
        "\n",
        "if alien_0['speed'] == 'slow':\n",
        "  x_increment = 1\n",
        "elif alien_0['speed'] == 'medium':\n",
        "  x_increment = 2\n",
        "else:\n",
        "  #This must be a fast alien\n",
        "  x_increment = 3\n",
        "\n",
        "# The new position is the old position plus the increment.\n",
        "alien_0['x_position'] = alien_0['x_position'] + x_increment\n",
        "\n",
        "print('New x-postion: ' + str(alien_0['x_position']))\n",
        "\n",
        "del alien_0['points']\n",
        "print(alien_0)"
      ],
      "execution_count": 0,
      "outputs": []
    },
    {
      "cell_type": "code",
      "metadata": {
        "id": "P7_jjc-uVmGK",
        "colab_type": "code",
        "colab": {}
      },
      "source": [
        "#6.2 Favourite Number\n",
        "names = {'Mick':8,'Greg':9,'Romain':11,'Seb':5,'Juan':12}\n",
        "print(\"Mick's favorite number is : \" +str(names['Mick']))\n",
        "print(\"Greg's favorite number is : \" +str(names['Greg']))\n",
        "print(\"Romain's favorite number is : \" +str(names['Romain']))\n",
        "print(\"Seb's favorite number is : \" +str(names['Seb']))\n",
        "print(\"Juan's favorite number is : \" +str(names['Juan']))\n"
      ],
      "execution_count": 0,
      "outputs": []
    },
    {
      "cell_type": "code",
      "metadata": {
        "id": "_SE3cOXmWzLi",
        "colab_type": "code",
        "colab": {}
      },
      "source": [
        "#looping through Dictionaries \n",
        "#Looping Through All Key-Value Pairs\n",
        "#See every thing stored in the users dictionary . \n",
        "\n",
        "user_0 = {\n",
        "    'username': 'efermi',\n",
        "    'first':'enrico',\n",
        "    'last':'fermi'\n",
        "}\n",
        "\n",
        "for k,v in user_0.items():  #items() method is used to return the list with all dictionary keys with values\n",
        "  print('\\nkey: ' + key)\n",
        "  print(('Value: '+value))"
      ],
      "execution_count": 0,
      "outputs": []
    },
    {
      "cell_type": "code",
      "metadata": {
        "id": "7E-_ycWra9d6",
        "colab_type": "code",
        "colab": {}
      },
      "source": [
        "#Looping Through All Key-Value Pairs\n",
        "favourite_languages = {\n",
        "    'jen':'python',\n",
        "    'sarah':'c',\n",
        "    'edward':'ruby',\n",
        "    'phil':'python'\n",
        "    }\n",
        "for name , language in favourite_languages.items():\n",
        "  print(name.title() + \"'s favourite language is: \"+language.title()+ '.')"
      ],
      "execution_count": 0,
      "outputs": []
    },
    {
      "cell_type": "code",
      "metadata": {
        "id": "5oJoNFhTb1QY",
        "colab_type": "code",
        "colab": {}
      },
      "source": [
        "#Looping through all the keys in a dictionary using the keys method\n",
        "favourite_languages = {\n",
        "    'jen':'python',\n",
        "    'sarah':'c',\n",
        "    'edward':'ruby',\n",
        "    'phil':'python'\n",
        "    }\n",
        "for name in favourite_languages.keys():\n",
        "  print(name.title())\n"
      ],
      "execution_count": 0,
      "outputs": []
    },
    {
      "cell_type": "code",
      "metadata": {
        "id": "5vlm4eC5cOTP",
        "colab_type": "code",
        "colab": {}
      },
      "source": [
        "favourite_languages = {\n",
        "    'jen':'python',\n",
        "    'sarah':'c',\n",
        "    'edward':'ruby',\n",
        "    'phil':'python'\n",
        "    }\n",
        "friends = ['phil','sarah'] # list of our friends\n",
        "for name in favourite_languages.keys():  #check  if the name we have is in the list\n",
        "  print(name.title())\n",
        "\n",
        "  if name in friends:  #if name is in the list, print special greeting\n",
        "  #To access favourite language below, we  use the name of the dictionary  and the current value of name as the key\n",
        "    print(' Hi '+name.title() + \",I see your favourite language is : \"+ favourite_languages[name].title()+ \"!\") "
      ],
      "execution_count": 0,
      "outputs": []
    },
    {
      "cell_type": "code",
      "metadata": {
        "id": "HPSbLQXddtTc",
        "colab_type": "code",
        "colab": {}
      },
      "source": [
        "#Looping Through a Dictionary’s Keys in Order\n",
        "#one way to return items in a certain order is to sort the keys as they are returned in the for loop\n",
        "favourite_languages = {\n",
        "    'jen':'python',\n",
        "    'sarah':'c',\n",
        "    'edward':'ruby',\n",
        "    'phil':'python'\n",
        "    }\n",
        "for name in sorted(favourite_languages.keys()):\n",
        "  print(name.title() + ',thank you for taking the poll')"
      ],
      "execution_count": 0,
      "outputs": []
    },
    {
      "cell_type": "code",
      "metadata": {
        "id": "WkpwQKDBjFXX",
        "colab_type": "code",
        "colab": {}
      },
      "source": [
        "#Looping Through All Values in a Dictionary\n",
        "#This approach works for small dictionaries  with repeated items\n",
        "favourite_languages = {\n",
        "    'jen':'python',\n",
        "    'sarah':'c',\n",
        "    'edward':'ruby',\n",
        "    'phil':'python'\n",
        "    }\n",
        "\n",
        "print('The following languages have been mentioned:')\n",
        "for language in favourite_languages.values():\n",
        "  print(language.title())"
      ],
      "execution_count": 0,
      "outputs": []
    },
    {
      "cell_type": "code",
      "metadata": {
        "id": "RNp-STT0jilY",
        "colab_type": "code",
        "colab": {}
      },
      "source": [
        "#To see each language chosen without repetition, we can use a set.\n",
        "favourite_languages = {\n",
        "    'jen':'python',\n",
        "    'sarah':'c',\n",
        "    'edward':'ruby',\n",
        "    'phil':'python'\n",
        "    }\n",
        "print('The following lanuages have been  mentioned:')\n",
        "for language in set(favourite_languages.values()):\n",
        "  print(language.title())\n",
        "  "
      ],
      "execution_count": 0,
      "outputs": []
    },
    {
      "cell_type": "code",
      "metadata": {
        "id": "47VexMG0kBft",
        "colab_type": "code",
        "colab": {}
      },
      "source": [
        "#6.4 Glossary2\n",
        "words = {\n",
        "    'Dictionary':'stores values in key value pairs',\n",
        "    'List':'stores values in  a list',\n",
        "    'tuples':'Similar to lists but cannot be modified',\n",
        "    'set':'similar to dictionary, but returns only unique values',\n",
        "    'for loop':'iterate over something '\n",
        "}\n",
        "\n",
        "for datatype,explanation in words.items():\n",
        "  print('\\nDatatype:',datatype)\n",
        "  print('\\nexplanation: ',explanation)"
      ],
      "execution_count": 0,
      "outputs": []
    },
    {
      "cell_type": "code",
      "metadata": {
        "id": "svl8Fq6ulk2d",
        "colab_type": "code",
        "colab": {}
      },
      "source": [
        "#6.5 Rivers\n",
        "rivers = {\n",
        "    'nile':'Egypt',\n",
        "    'Amazon':'Brazil',\n",
        "    'Missisippi':'USA',\n",
        "    'Ganges':'India',\n",
        "    'Brahmaputra':'India'\n"
      ],
      "execution_count": 0,
      "outputs": []
    }
  ]
}