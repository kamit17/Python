{
  "nbformat": 4,
  "nbformat_minor": 0,
  "metadata": {
    "colab": {
      "name": "PCC- Chp 5.ipynb",
      "provenance": [],
      "include_colab_link": true
    },
    "kernelspec": {
      "name": "python3",
      "display_name": "Python 3"
    }
  },
  "cells": [
    {
      "cell_type": "markdown",
      "metadata": {
        "id": "view-in-github",
        "colab_type": "text"
      },
      "source": [
        "<a href=\"https://colab.research.google.com/github/kamit17/Python/blob/Cloud9/PCC_Chp_5.ipynb\" target=\"_parent\"><img src=\"https://colab.research.google.com/assets/colab-badge.svg\" alt=\"Open In Colab\"/></a>"
      ]
    },
    {
      "cell_type": "code",
      "metadata": {
        "id": "pp-WYl4i0AOa",
        "colab_type": "code",
        "colab": {}
      },
      "source": [
        "cars = ['audi','bmw','subaru','toyota']\n",
        "for car in cars:\n",
        "  if car == 'bmw':\n",
        "    print(car.upper())\n",
        "  else:\n",
        "    print(car.title())"
      ],
      "execution_count": 0,
      "outputs": []
    },
    {
      "cell_type": "code",
      "metadata": {
        "id": "6W6iYlyh0cTI",
        "colab_type": "code",
        "colab": {}
      },
      "source": [
        "#Checking for inequality\n",
        "requested_topping = 'Mushrooms'\n",
        "if requested_topping != 'anchovies':\n",
        "  print('Hold the anchovies!')"
      ],
      "execution_count": 0,
      "outputs": []
    },
    {
      "cell_type": "code",
      "metadata": {
        "id": "871oFl_z0uL2",
        "colab_type": "code",
        "colab": {}
      },
      "source": [
        "#Checking if list is empty\n",
        "list  = []\n",
        "if list:\n",
        "  for i in list:\n",
        "    print('Adding '+ list + '.')\n",
        "  print('Still does not make sense')\n",
        "else:\n",
        "  print('Are you sure you want anyhting in your empty list??')"
      ],
      "execution_count": 0,
      "outputs": []
    },
    {
      "cell_type": "code",
      "metadata": {
        "id": "v-_IEN3s20Pu",
        "colab_type": "code",
        "colab": {}
      },
      "source": [
        "#5.8 Hello Admin\n",
        "usernames = ['admin','adminadmin','subuser','root','cmadmin']\n",
        "username = 'admin'\n",
        "for i  in usernames:\n",
        "  if i == username:\n",
        "    print('Hello admin,would you like to see a status report?')\n",
        "  else:\n",
        "    print('Hello user,',i, 'thank you for logging in again.')\n",
        "\n",
        "\n",
        "\n"
      ],
      "execution_count": 0,
      "outputs": []
    },
    {
      "cell_type": "code",
      "metadata": {
        "id": "sYuzgEzWKD5u",
        "colab_type": "code",
        "colab": {}
      },
      "source": [
        "#5.10 Checking Usernames:\n",
        "current_users = ['Phil','jack','Rob','Bill','Daniel']\n",
        "new_users = ['Phil','Mick','Rob','Greg','Daniel']\n",
        "for user in new_users:\n",
        "  if user in current_users:\n",
        "    print('The user ' +user + ' has been already used. Please user a different username.')\n",
        "  else:\n",
        "    print('The user ' + user+ ' is available.')"
      ],
      "execution_count": 0,
      "outputs": []
    },
    {
      "cell_type": "code",
      "metadata": {
        "id": "njp5lfqpLe1_",
        "colab_type": "code",
        "colab": {}
      },
      "source": [
        "#5.11 Ordinal numbers:\n",
        "numbers = ['1','2','3','4','5','6','7','8','9']\n",
        "for num in numbers:\n",
        "  if num == 1:\n",
        "    print(numbers[0] + \"st\")\n",
        "  elif num == '2':\n",
        "    print(numbers[1] + \"nd\")\n",
        "  elif num == '3':\n",
        "    print(numbers[2] + \"rd\")\n",
        "  else: print(num + \"th\")"
      ],
      "execution_count": 0,
      "outputs": []
    }
  ]
}