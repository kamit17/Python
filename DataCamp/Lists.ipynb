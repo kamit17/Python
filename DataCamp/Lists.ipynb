{
 "cells": [
  {
   "cell_type": "code",
   "execution_count": null,
   "metadata": {},
   "outputs": [],
   "source": [
    "#python List\n",
    "\n",
    "a = [5,10,15,20,25,30,25,40]\n",
    "\n",
    "print('a[2] = ',a[2])\n",
    "\n",
    "print('a[0:3] = ',a[0:3])\n",
    "\n",
    "print('a[5:] = ',a[5:])\n",
    "a[2] = 4\n",
    "a"
   ]
  },
  {
   "cell_type": "code",
   "execution_count": null,
   "metadata": {},
   "outputs": [],
   "source": [
    "my_list = ['Hello',1,3.14,[8,4,6],['a']]\n",
    "\n",
    "print(my_list[0])\n",
    "print(my_list[2])\n",
    "\n",
    "print(my_list[3][0])\n",
    "print(my_list[4][0])\n",
    "\n",
    "print(my_list[-5])"
   ]
  },
  {
   "cell_type": "code",
   "execution_count": null,
   "metadata": {},
   "outputs": [],
   "source": [
    "new_list = ['p','r','o','g','r','e','s','i','v','e']\n",
    "\n",
    "#elements 3rd to 5th\n",
    "print(new_list[2:5])\n",
    "\n",
    "#elements 6th to end\n",
    "print(new_list[5:])\n",
    "\n",
    "#elements from start till end\n",
    "print(new_list[:])"
   ]
  },
  {
   "cell_type": "code",
   "execution_count": null,
   "metadata": {},
   "outputs": [],
   "source": [
    "odd = [1,3,5]\n",
    "odd.append(7)\n",
    "print(odd)\n",
    "\n",
    "odd.extend([9,11,13])\n",
    "print(odd)\n"
   ]
  },
  {
   "cell_type": "code",
   "execution_count": null,
   "metadata": {},
   "outputs": [],
   "source": [
    "odd = [1,3,5]\n",
    "print(odd + [9,7,5])\n",
    "\n",
    "print(['re'] * 3)\n",
    "\n",
    "odd[2:2] = [5,7]\n",
    "\n",
    "print(odd)"
   ]
  },
  {
   "cell_type": "code",
   "execution_count": null,
   "metadata": {},
   "outputs": [],
   "source": [
    "#removing elements from a list\n",
    "new_list = ['p','r','o','g','r','e','s','i','v','e']\n",
    "\n",
    "del new_list[2]\n",
    "print(new_list)\n",
    "\n",
    "del new_list[1:5]\n",
    "print(new_list)\n",
    "\n",
    "new_list.remove('p')\n",
    "print(new_list)\n",
    "\n",
    "print(new_list.pop(1))\n",
    "\n",
    "#pop() method removes and returns the last item if index is not provided\n",
    "print(new_list.pop())\n",
    "\n",
    "new_list.clear()\n",
    "print(new_list)"
   ]
  },
  {
   "cell_type": "code",
   "execution_count": null,
   "metadata": {},
   "outputs": [],
   "source": [
    "#python list methods:\n",
    "\n",
    "my_list = [3,8,1,6,5,2,7,8]\n",
    "\n",
    "print(my_list.index(8))\n",
    "\n",
    "print(my_list.count(8))\n",
    "\n",
    "my_list.sort()\n",
    "\n",
    "print(my_list)\n",
    "\n",
    "my_list.reverse()\n",
    "\n",
    "print(my_list)"
   ]
  },
  {
   "cell_type": "code",
   "execution_count": 1,
   "metadata": {},
   "outputs": [
    {
     "name": "stdout",
     "output_type": "stream",
     "text": [
      "[1, 2, 4, 8, 16, 32, 64, 128, 256, 512]\n"
     ]
    }
   ],
   "source": [
    "#list Comprehension - Create new list from an existing list\n",
    "#list Comprehension consits of an expression followed by for statemnt\n",
    "\n",
    "#make alist with each item being increasing power of 2\n",
    "\n",
    "pow2 = [2 ** x for x in range(10)]\n",
    "\n",
    "print(pow2)"
   ]
  },
  {
   "cell_type": "code",
   "execution_count": 6,
   "metadata": {},
   "outputs": [
    {
     "name": "stdout",
     "output_type": "stream",
     "text": [
      "[0, 1, 2, 3, 4, 5, 6, 7, 8, 9]\n",
      "[1, 2, 4, 8, 16, 32, 64, 128, 256, 512]\n",
      "[1, 3, 5, 7, 9, 11, 13, 15, 17, 19]\n"
     ]
    }
   ],
   "source": [
    "#creating a simple list\n",
    "a = [i for i in range(10)]\n",
    "print (a)\n",
    "\n",
    "pow2 == [2 ** x for x in range(10) if x > 5]\n",
    "print(pow2)\n",
    "\n",
    "odd = [x for x in range(20) if x % 2 == 1]\n",
    "print(odd)"
   ]
  },
  {
   "cell_type": "code",
   "execution_count": null,
   "metadata": {},
   "outputs": [],
   "source": []
  }
 ],
 "metadata": {
  "kernelspec": {
   "display_name": "Python 3",
   "language": "python",
   "name": "python3"
  },
  "language_info": {
   "codemirror_mode": {
    "name": "ipython",
    "version": 3
   },
   "file_extension": ".py",
   "mimetype": "text/x-python",
   "name": "python",
   "nbconvert_exporter": "python",
   "pygments_lexer": "ipython3",
   "version": "3.6.7"
  }
 },
 "nbformat": 4,
 "nbformat_minor": 2
}
