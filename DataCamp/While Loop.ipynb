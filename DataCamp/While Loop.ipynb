{
 "cells": [
  {
   "cell_type": "code",
   "execution_count": 1,
   "metadata": {},
   "outputs": [
    {
     "name": "stdout",
     "output_type": "stream",
     "text": [
      "Enter n10\n",
      "The sum is :  55\n"
     ]
    }
   ],
   "source": [
    "#Program to add natural numbers upto\n",
    "# sum = 1+2+3+...+n\n",
    "\n",
    "\n",
    "n = int(input('Enter n'))\n",
    "\n",
    "#initialize sum and counter\n",
    "\n",
    "sum = 0\n",
    "i = 1\n",
    "\n",
    "while i <= n:\n",
    "    sum = sum + i\n",
    "    i = i+1 #update counter\n",
    "\n",
    "#print the sum\n",
    "print('The sum is : ',sum)"
   ]
  },
  {
   "cell_type": "code",
   "execution_count": 2,
   "metadata": {},
   "outputs": [
    {
     "name": "stdout",
     "output_type": "stream",
     "text": [
      "Inside loop\n",
      "Inside loop\n",
      "Inside loop\n",
      "Inside else\n"
     ]
    }
   ],
   "source": [
    "# Else statement with while\n",
    "\n",
    "counter = 0\n",
    "\n",
    "while counter < 3:\n",
    "    print('Inside loop')\n",
    "    counter = counter + 1\n",
    "else:\n",
    "    print('Inside else')"
   ]
  },
  {
   "cell_type": "code",
   "execution_count": 3,
   "metadata": {},
   "outputs": [
    {
     "name": "stdout",
     "output_type": "stream",
     "text": [
      "S\n",
      "t\n",
      "r\n",
      "The end\n"
     ]
    }
   ],
   "source": [
    "#Use of break insdie loop\n",
    "\n",
    "for val in 'String':\n",
    "    if val == 'i':\n",
    "        break\n",
    "    print(val)\n",
    "print('The end')"
   ]
  },
  {
   "cell_type": "code",
   "execution_count": 4,
   "metadata": {},
   "outputs": [
    {
     "name": "stdout",
     "output_type": "stream",
     "text": [
      "s\n",
      "t\n",
      "r\n",
      "n\n",
      "g\n",
      "The End\n"
     ]
    }
   ],
   "source": [
    "#continue inside loops\n",
    "\n",
    "for val in 'string':\n",
    "    if val == 'i':\n",
    "        continue\n",
    "    print(val)\n",
    "\n",
    "print('The End')"
   ]
  },
  {
   "cell_type": "code",
   "execution_count": 5,
   "metadata": {},
   "outputs": [],
   "source": [
    "#pass is just a placeholder for\n",
    "# functionality to be added later .\n",
    "\n",
    "sequence = {'p','a','s','s'}\n",
    "for val in sequence:\n",
    "    pass\n"
   ]
  },
  {
   "cell_type": "code",
   "execution_count": null,
   "metadata": {},
   "outputs": [],
   "source": []
  }
 ],
 "metadata": {
  "kernelspec": {
   "display_name": "Python 3",
   "language": "python",
   "name": "python3"
  },
  "language_info": {
   "codemirror_mode": {
    "name": "ipython",
    "version": 3
   },
   "file_extension": ".py",
   "mimetype": "text/x-python",
   "name": "python",
   "nbconvert_exporter": "python",
   "pygments_lexer": "ipython3",
   "version": "3.6.7"
  }
 },
 "nbformat": 4,
 "nbformat_minor": 2
}
