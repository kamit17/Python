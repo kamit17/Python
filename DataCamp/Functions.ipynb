{
 "cells": [
  {
   "cell_type": "code",
   "execution_count": null,
   "metadata": {},
   "outputs": [],
   "source": [
    "def greet(name):\n",
    "    \"\"\"This function greets to \n",
    "    the person passed in as paramter\"\"\"\n",
    "    print('Hello, '+ name + '.Good Day!')\n",
    "\n",
    "greet('Paul')"
   ]
  },
  {
   "cell_type": "code",
   "execution_count": null,
   "metadata": {},
   "outputs": [],
   "source": [
    "print(greet.__doc__)\n",
    "\n",
    "    "
   ]
  },
  {
   "cell_type": "code",
   "execution_count": null,
   "metadata": {},
   "outputs": [],
   "source": [
    "#Scope and lifetime of variables\n",
    "def my_fun():\n",
    "    x = 10\n",
    "    print('Value insdie function: ',x)\n",
    "\n",
    "x = 20\n",
    "my_fun()\n",
    "print('Value outside function: ',x)"
   ]
  },
  {
   "cell_type": "code",
   "execution_count": null,
   "metadata": {},
   "outputs": [],
   "source": [
    "#user defined function\n",
    "\n",
    "def add_numbers(x,y):\n",
    "    sum = x + y\n",
    "    return sum\n",
    "num1 = 5\n",
    "num2 = 6\n",
    "\n",
    "print('The sum is ', add_numbers(num1,num2))"
   ]
  },
  {
   "cell_type": "code",
   "execution_count": null,
   "metadata": {},
   "outputs": [],
   "source": [
    "#function with argument\n",
    "def greet(name,msg):\n",
    "    \"\"\"This function greets to \n",
    "    the person with the provided message\"\"\"\n",
    "    print('Hello ',name + ', '+msg)\n",
    "greet('Monica','Good morning!')"
   ]
  },
  {
   "cell_type": "code",
   "execution_count": null,
   "metadata": {},
   "outputs": [],
   "source": [
    "#Python default Arguments\n",
    "#providing default value to an argument by using =\n",
    "\n",
    "def greet(name, msg = 'Good morning!'):\n",
    "    \"\"\"This function greets to the person wit the provided message\n",
    "    \n",
    "    If message is not provided, it defaults to Good morning!\"\"\"\n",
    "    print('Hello',name + ', '+msg)\n",
    "\n",
    "greet('Kate')\n",
    "greet('Bruce', 'how do you do?')\n"
   ]
  },
  {
   "cell_type": "code",
   "execution_count": null,
   "metadata": {},
   "outputs": [],
   "source": [
    "#Arbitrary Arguments\n",
    "def greet(*names):\n",
    "    \"\"\"This function greets all\n",
    "    the person in the names tuple.\"\"\"\n",
    "    #names is a tuple with arguments\n",
    "    \n",
    "    for name in names:\n",
    "        print('Hello ',name)\n",
    "        \n",
    "greet('Monica','Luke','Steve','John')\n"
   ]
  },
  {
   "cell_type": "code",
   "execution_count": null,
   "metadata": {},
   "outputs": [],
   "source": [
    "def my_Sum(*args):\n",
    "    if len(args) == 1:\n",
    "        return args[0]\n",
    "    else:\n",
    "        return args[-1] + my_Sum(*args[:-1])\n",
    "my_Sum(2,23)"
   ]
  },
  {
   "cell_type": "code",
   "execution_count": null,
   "metadata": {},
   "outputs": [],
   "source": [
    "#Recursive Function - A function which calls itself\n",
    "#n! = n*(n-1)*(n-2)*(n-3)...1\n",
    "\n",
    "#An example of recursive function to find the factorial\n",
    "\n",
    "def calc_factorial(x):\n",
    "    \"\"\"This is a recursive function\n",
    "    to find the factorial of an integer\"\"\"\n",
    "    \n",
    "    if x == 1:\n",
    "        return 1\n",
    "    else:\n",
    "        return(x *  calc_factorial(x-1))\n",
    "\n",
    "num = 4\n",
    "print('The factorial of ',num, 'is',calc_factorial(num))"
   ]
  },
  {
   "cell_type": "code",
   "execution_count": null,
   "metadata": {},
   "outputs": [],
   "source": [
    "#Lambda Functions - A function defined wihout a name using the lambda keyword\n",
    "#synatx : lambda arguments: expression\n",
    "\n",
    "#program to show the use of lambda functions\n",
    "double = lambda x:x ** 2\n",
    "print(double(5))\n"
   ]
  },
  {
   "cell_type": "code",
   "execution_count": null,
   "metadata": {},
   "outputs": [],
   "source": [
    "#Example of lambda function with filter\n",
    "#filter() takes in a function and a list as arguments.\n",
    "#The function is called with all the items in the list and\n",
    "#a new list is returned which contains items for which the\n",
    "#function evaluats to True.\n"
   ]
  },
  {
   "cell_type": "code",
   "execution_count": null,
   "metadata": {},
   "outputs": [],
   "source": [
    "#program to filer out only the even items from a list\n",
    "my_list = [1,5,4,6,8,10,12,24,16]\n",
    "new_list = list(filter(lambda x:(x % 2 == 0),my_list))\n",
    "print(new_list)"
   ]
  },
  {
   "cell_type": "code",
   "execution_count": null,
   "metadata": {},
   "outputs": [],
   "source": [
    "#Map function\n",
    "#The map() function in Python takes in a function and a list.\n",
    "\n",
    "#The function is called with all the items in the list and \n",
    "#a new list is returned which contains items returned by \n",
    "#thatfunction for each item."
   ]
  },
  {
   "cell_type": "code",
   "execution_count": null,
   "metadata": {},
   "outputs": [],
   "source": [
    "my_list = [1,5,4,6,8,10,12,24,16]\n",
    "new_list = list(map(lambda x: x **2,my_list))\n",
    "print(new_list)"
   ]
  },
  {
   "cell_type": "code",
   "execution_count": null,
   "metadata": {},
   "outputs": [],
   "source": [
    "#global and local Variables\n",
    "x = 'global'\n",
    "def foo():\n",
    "    print('x is inside', x)\n",
    "foo()\n",
    "print('x outside:',x)"
   ]
  },
  {
   "cell_type": "code",
   "execution_count": null,
   "metadata": {},
   "outputs": [],
   "source": [
    "x = 'global'\n",
    "def foo():\n",
    "    x = x * 2\n",
    "    print(x)\n",
    "foo()\n",
    "#print(x)"
   ]
  },
  {
   "cell_type": "code",
   "execution_count": null,
   "metadata": {},
   "outputs": [],
   "source": [
    "#changing Global variable from inside a function using global\n",
    "\n",
    "x = 'global'\n",
    "\n",
    "def foo():\n",
    "    global x\n",
    "    x = x * 2\n",
    "    print('Inside foo():',x)\n",
    "foo()\n",
    "print('in main:',x)"
   ]
  },
  {
   "cell_type": "code",
   "execution_count": null,
   "metadata": {},
   "outputs": [],
   "source": [
    "#local Variables\n",
    "x = 'global'\n",
    "\n",
    "def foo():\n",
    "    global x\n",
    "    y = 'local'\n",
    "    x = x * 2\n",
    "    print(x)\n",
    "    print(y)\n",
    "foo()"
   ]
  },
  {
   "cell_type": "code",
   "execution_count": null,
   "metadata": {},
   "outputs": [],
   "source": [
    "#global variable and local variable with same name\n",
    "\n",
    "x = 5\n",
    "def foo():\n",
    "    x = 10\n",
    "    print('local x:',x)\n",
    "foo()\n",
    "print('global x:',x)"
   ]
  },
  {
   "cell_type": "code",
   "execution_count": null,
   "metadata": {},
   "outputs": [],
   "source": [
    "# non local variables\n",
    "\"\"\"\n",
    "Nonlocal variable are used in nested function whose local\n",
    "scope is not defined. This means, the variable can be \n",
    "neither in the local nor the global scope.\n",
    "\"\"\"\n",
    "def outer():\n",
    "    x = 'local'\n",
    "    \n",
    "    def inner():\n",
    "        nonlocal x\n",
    "        x = 'nonlocal'\n",
    "        print('inner:',x)\n",
    "    inner()\n",
    "    print('outer: ',x)\n",
    "outer()"
   ]
  },
  {
   "cell_type": "code",
   "execution_count": null,
   "metadata": {},
   "outputs": [],
   "source": [
    "#Global keyword\n",
    "# A global keyword allows you to modify the variable outside of the current scope\n"
   ]
  },
  {
   "cell_type": "code",
   "execution_count": null,
   "metadata": {},
   "outputs": [],
   "source": [
    "#Global in nested function\n",
    "\n",
    "def foo():\n",
    "    x = 20\n",
    "    \n",
    "    def bar():\n",
    "        global x\n",
    "        x = 25\n",
    "        \n",
    "    print('Before calling bar: ',x)\n",
    "    print('Calling bar now')\n",
    "    bar()\n",
    "    print('After calling bar: ',x)\n",
    "foo()\n",
    "print('x in main: ',x)"
   ]
  },
  {
   "cell_type": "code",
   "execution_count": null,
   "metadata": {},
   "outputs": [],
   "source": [
    "In the above program, we declare global variable inside the nested function bar(). Inside foo() function, x has no effect of global keyword.\n",
    "\n",
    "Before and after calling bar(), the variable x takes the value of local variable i.e x = 20. Outside of the foo() function, the variable x will take value defined in the bar() function i.e x = 25. This is because we have used global keyword in x to create global variable inside the bar() function (local scope).\n",
    "\n",
    "If we make any changes inside the bar() function, the changes appears outside the local scope, i.e. foo().\n",
    "\n"
   ]
  }
 ],
 "metadata": {
  "kernelspec": {
   "display_name": "Python 3",
   "language": "python",
   "name": "python3"
  },
  "language_info": {
   "codemirror_mode": {
    "name": "ipython",
    "version": 3
   },
   "file_extension": ".py",
   "mimetype": "text/x-python",
   "name": "python",
   "nbconvert_exporter": "python",
   "pygments_lexer": "ipython3",
   "version": "3.6.7"
  }
 },
 "nbformat": 4,
 "nbformat_minor": 2
}
