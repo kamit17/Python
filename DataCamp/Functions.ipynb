{
 "cells": [
  {
   "cell_type": "code",
   "execution_count": 3,
   "metadata": {},
   "outputs": [
    {
     "name": "stdout",
     "output_type": "stream",
     "text": [
      "Hello, paul.Good Day!\n"
     ]
    }
   ],
   "source": [
    "def greet(name):\n",
    "    \"\"\"This function greets to \n",
    "    the person passed in as paramter\"\"\"\n",
    "    print('Hello, '+ name + '.Good Day!')\n",
    "\n",
    "greet('Paul')"
   ]
  },
  {
   "cell_type": "code",
   "execution_count": 4,
   "metadata": {},
   "outputs": [
    {
     "ename": "SyntaxError",
     "evalue": "invalid syntax (<ipython-input-4-6a355924372d>, line 2)",
     "output_type": "error",
     "traceback": [
      "\u001b[0;36m  File \u001b[0;32m\"<ipython-input-4-6a355924372d>\"\u001b[0;36m, line \u001b[0;32m2\u001b[0m\n\u001b[0;31m    This function greets to\u001b[0m\n\u001b[0m                ^\u001b[0m\n\u001b[0;31mSyntaxError\u001b[0m\u001b[0;31m:\u001b[0m invalid syntax\n"
     ]
    }
   ],
   "source": [
    "print(greet.__doc__)\n",
    "This function greets to \n",
    "    the person passed into the \n",
    "    name parameter\n",
    "    "
   ]
  },
  {
   "cell_type": "code",
   "execution_count": 7,
   "metadata": {},
   "outputs": [
    {
     "name": "stdout",
     "output_type": "stream",
     "text": [
      "Value insdie function:  10\n",
      "Value outside function:  20\n"
     ]
    }
   ],
   "source": [
    "#Scope and lifetime of variables\n",
    "def my_fun():\n",
    "    x = 10\n",
    "    print('Value insdie function: ',x)\n",
    "\n",
    "x = 20\n",
    "my_fun()\n",
    "print('Value outside function: ',x)"
   ]
  },
  {
   "cell_type": "code",
   "execution_count": 8,
   "metadata": {},
   "outputs": [
    {
     "name": "stdout",
     "output_type": "stream",
     "text": [
      "The sum is  11\n"
     ]
    }
   ],
   "source": [
    "#user defined function\n",
    "\n",
    "def add_numbers(x,y):\n",
    "    sum = x + y\n",
    "    return sum\n",
    "num1 = 5\n",
    "num2 = 6\n",
    "\n",
    "print('The sum is ', add_numbers(num1,num2))"
   ]
  },
  {
   "cell_type": "code",
   "execution_count": 9,
   "metadata": {},
   "outputs": [
    {
     "name": "stdout",
     "output_type": "stream",
     "text": [
      "Hello  Monica, Good morning!\n"
     ]
    }
   ],
   "source": [
    "#function with argument\n",
    "def greet(name,msg):\n",
    "    \"\"\"This function greets to \n",
    "    the person with the provided message\"\"\"\n",
    "    print('Hello ',name + ', '+msg)\n",
    "greet('Monica','Good morning!')"
   ]
  },
  {
   "cell_type": "code",
   "execution_count": 10,
   "metadata": {},
   "outputs": [
    {
     "name": "stdout",
     "output_type": "stream",
     "text": [
      "Hello Kate, Good morning!\n",
      "Hello Bruce, how do you do?\n"
     ]
    }
   ],
   "source": [
    "#Python default Arguments\n",
    "#providing default value to an argument by using =\n",
    "\n",
    "def greet(name, msg = 'Good morning!'):\n",
    "    \"\"\"This function greets to the person wit the provided message\n",
    "    \n",
    "    If message is not provided, it default to Good morning!\"\"\"\n",
    "    print('Hello',name + ', '+msg)\n",
    "\n",
    "greet('Kate')\n",
    "greet('Bruce', 'how do you do?')\n"
   ]
  },
  {
   "cell_type": "code",
   "execution_count": 13,
   "metadata": {},
   "outputs": [
    {
     "name": "stdout",
     "output_type": "stream",
     "text": [
      "Hello  Monica\n",
      "Hello  Luke\n",
      "Hello  Steve\n",
      "Hello  John\n"
     ]
    }
   ],
   "source": [
    "#Arbitrary Arguments\n",
    "def greet(*names):\n",
    "    \"\"\"This function greets all\n",
    "    the person in the names tuple.\"\"\"\n",
    "    #names is a tuple with arguments\n",
    "    \n",
    "    for name in names:\n",
    "        print('Hello ',name)\n",
    "        \n",
    "greet('Monica','Luke','Steve','John')\n"
   ]
  },
  {
   "cell_type": "code",
   "execution_count": 14,
   "metadata": {},
   "outputs": [
    {
     "data": {
      "text/plain": [
       "45"
      ]
     },
     "execution_count": 14,
     "metadata": {},
     "output_type": "execute_result"
    }
   ],
   "source": [
    "def my_Sum(*args):\n",
    "    if len(args) == 1:\n",
    "        return args[0]\n",
    "    else:\n",
    "        return args[-1] + my_Sum(*args[:-1])\n",
    "my_Sum(22,23)"
   ]
  },
  {
   "cell_type": "code",
   "execution_count": 15,
   "metadata": {},
   "outputs": [
    {
     "name": "stdout",
     "output_type": "stream",
     "text": [
      "The factorial of  4 is 24\n"
     ]
    }
   ],
   "source": [
    "#Recursive Function - A function which calls itself\n",
    "#n! = n*(n-1)*(n-2)*(n-3)...1\n",
    "\n",
    "#An example of recursive function to find the factorial\n",
    "\n",
    "def calc_factorial(x):\n",
    "    \"\"\"This is a recursive function\n",
    "    to find the factorial of an integer\"\"\"\n",
    "    \n",
    "    if x == 1:\n",
    "        return 1\n",
    "    else:\n",
    "        return(x *  calc_factorial(x-1))\n",
    "\n",
    "num = 4\n",
    "print('The factorial of ',num, 'is',calc_factorial(num))"
   ]
  },
  {
   "cell_type": "code",
   "execution_count": null,
   "metadata": {},
   "outputs": [],
   "source": []
  }
 ],
 "metadata": {
  "kernelspec": {
   "display_name": "Python 3",
   "language": "python",
   "name": "python3"
  },
  "language_info": {
   "codemirror_mode": {
    "name": "ipython",
    "version": 3
   },
   "file_extension": ".py",
   "mimetype": "text/x-python",
   "name": "python",
   "nbconvert_exporter": "python",
   "pygments_lexer": "ipython3",
   "version": "3.6.7"
  }
 },
 "nbformat": 4,
 "nbformat_minor": 2
}
