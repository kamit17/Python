{
 "cells": [
  {
   "cell_type": "code",
   "execution_count": null,
   "metadata": {},
   "outputs": [],
   "source": [
    "#infinite loop\n",
    "\n",
    "while True:\n",
    "    num = int(input('Enter an integer: '))\n",
    "    print('The double of',num,'is',2 * num)"
   ]
  },
  {
   "cell_type": "code",
   "execution_count": 1,
   "metadata": {},
   "outputs": [
    {
     "name": "stdout",
     "output_type": "stream",
     "text": [
      "Enter a number: 2\n",
      "The sum is:  3\n"
     ]
    }
   ],
   "source": [
    "# Loop with condition at the top\n",
    "\n",
    "n = int(input('Enter a number: '))\n",
    "\n",
    "#intialize sum and counter\n",
    "sum = 0\n",
    "i = 1\n",
    "\n",
    "while i <=n:\n",
    "    sum = sum + i\n",
    "    i = i+1 #update counter\n",
    "\n",
    "#print the sum\n",
    "print('The sum is: ',sum)"
   ]
  },
  {
   "cell_type": "code",
   "execution_count": 2,
   "metadata": {},
   "outputs": [
    {
     "name": "stdout",
     "output_type": "stream",
     "text": [
      "Enter a vowel: r\n",
      "That is not a vowel. Try again\n",
      "Enter a vowel: r\n",
      "That is not a vowel. Try again\n",
      "Enter a vowel: a\n",
      "Thank you!\n"
     ]
    }
   ],
   "source": [
    "#Loop with condition in middle\n",
    "#take  input from the user until a vowel is entered\n",
    "\n",
    "vowels = 'aeiouAEIOU'\n",
    "\n",
    "#infinite loop\n",
    "while True:\n",
    "    v = input('Enter a vowel: ')\n",
    "    #condition in the middle\n",
    "    if v in vowels:\n",
    "        break\n",
    "    print('That is not a vowel. Try again')\n",
    "    \n",
    "print('Thank you!')\n"
   ]
  },
  {
   "cell_type": "code",
   "execution_count": 3,
   "metadata": {},
   "outputs": [
    {
     "name": "stdout",
     "output_type": "stream",
     "text": [
      "Press enter to roll the dice\n",
      "You got:  6\n",
      "Roll again?(y/n) y\n",
      "Press enter to roll the dice\n",
      "You got:  1\n",
      "Roll again?(y/n) n\n"
     ]
    }
   ],
   "source": [
    "# Loop with condition at the bottom\n",
    "\n",
    "# Roll a dice until user chooses to exit\n",
    "\n",
    "import random\n",
    "\n",
    "while True:\n",
    "    input('Press enter to roll the dice')\n",
    "    \n",
    "    #get a number between 1 to 6\n",
    "    num = random.randint(1,6)\n",
    "    print('You got: ',num)\n",
    "    option = input('Roll again?(y/n) ')\n",
    "    \n",
    "    #condition\n",
    "    if option == 'n':\n",
    "        break"
   ]
  },
  {
   "cell_type": "code",
   "execution_count": null,
   "metadata": {},
   "outputs": [],
   "source": []
  }
 ],
 "metadata": {
  "kernelspec": {
   "display_name": "Python 3",
   "language": "python",
   "name": "python3"
  },
  "language_info": {
   "codemirror_mode": {
    "name": "ipython",
    "version": 3
   },
   "file_extension": ".py",
   "mimetype": "text/x-python",
   "name": "python",
   "nbconvert_exporter": "python",
   "pygments_lexer": "ipython3",
   "version": "3.6.7"
  }
 },
 "nbformat": 4,
 "nbformat_minor": 2
}
