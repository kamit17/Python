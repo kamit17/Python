{
 "cells": [
  {
   "cell_type": "code",
   "execution_count": 21,
   "metadata": {},
   "outputs": [
    {
     "name": "stdout",
     "output_type": "stream",
     "text": [
      "Square of : 0 is:  0\n",
      "Square of : 1 is:  1\n",
      "Square of : 2 is:  4\n",
      "Square of : 3 is:  9\n",
      "Square of : 4 is:  16\n",
      "Square of : 5 is:  25\n",
      "Square of : 6 is:  36\n",
      "Square of : 7 is:  49\n",
      "Square of : 8 is:  64\n",
      "Square of : 9 is:  81\n",
      "10\n"
     ]
    }
   ],
   "source": [
    "#1. Write a python program to print the square of all numbers from 0 to 10\n",
    "\n",
    "a = 0\n",
    "for i in range(10):\n",
    "    Square = a * a\n",
    "    print('Square of :',i, 'is: ',Square)\n",
    "    a= a+1\n"
   ]
  },
  {
   "cell_type": "code",
   "execution_count": 22,
   "metadata": {},
   "outputs": [
    {
     "name": "stdout",
     "output_type": "stream",
     "text": [
      "The sum of even numbers between 1 and 10 is : 30\n"
     ]
    }
   ],
   "source": [
    "#2. Write a python program to find the sum of all even numbers from 0 to 10\n",
    "\n",
    "\n",
    "sum = 0\n",
    "for i in range(11):\n",
    "    if (i % 2 == 0):\n",
    "        sum = sum + i\n",
    "print('The sum of even numbers between 1 and 10 is :',sum)\n",
    "        \n",
    "    "
   ]
  },
  {
   "cell_type": "code",
   "execution_count": 36,
   "metadata": {},
   "outputs": [
    {
     "name": "stdout",
     "output_type": "stream",
     "text": [
      "1\n",
      "2\n",
      "3\n",
      "4\n"
     ]
    },
    {
     "data": {
      "text/plain": [
       "4"
      ]
     },
     "execution_count": 36,
     "metadata": {},
     "output_type": "execute_result"
    }
   ],
   "source": [
    "#. Write a python program to read three numbers (a,b,c) and check how many numbers between ‘a’ and ‘b’ are divisible by ‘c’\n",
    "\n",
    "def test(a,b,c):\n",
    "    count = 0\n",
    "    for i in range(a,b):\n",
    "        if (i % c == 0):\n",
    "            count = count + 1\n",
    "            \n",
    "    return count\n",
    "            \n",
    "            \n",
    "    \n",
    "    \n",
    "\n",
    "test(1,10,2)\n",
    "    "
   ]
  },
  {
   "cell_type": "code",
   "execution_count": null,
   "metadata": {},
   "outputs": [],
   "source": [
    "4. Write a python program to get the following output\n",
    "\n",
    "1-----99\n",
    "\n",
    "2-----98\n",
    "\n",
    "3-----97\n",
    "\n",
    ".\t.\n",
    "\n",
    ".\t.\n",
    "\n",
    ".\t.\n",
    "\n",
    "98-----2\n",
    "\n",
    "99-----1\n",
    "\n",
    "5. Write a python program to read a number and print the binary of that number (hint: if ‘a’ is a string , a[::-1] will be reverse of that string)\n",
    "\n",
    "6. Write a python program to read four numbers (representing the four octets of an IP) and print the next five IP address\n",
    "\n",
    "Eg:\n",
    "\n",
    "Input:\n",
    "\n",
    "192 168 255 252\n",
    "\n",
    "----------Output---------\n",
    "\n",
    "192 168 255 253\n",
    "\n",
    "192 168 255 254\n",
    "\n",
    "192 168 255 255\n",
    "\n",
    "192 169 0 0\n",
    "\n",
    "192 169 0 1\n",
    "\n",
    "7. Write a python program to print the factorial of a given number\n",
    "\n",
    "8. Write a python program to print the first 10 numbers Fibonacci series\n",
    "\n",
    "9. Write a python program to read a number and print a right triangle using \"*\"\n",
    "\n",
    "Eg :\n",
    "\n",
    "Input : 5\n",
    "\n",
    "----------Output---------\n",
    "\n",
    "*\n",
    "\n",
    "* *\n",
    "\n",
    "* * *\n",
    "\n",
    "* * * *\n",
    "\n",
    "* * * * *\n",
    "\n",
    "10. Write a python program to check given number is prime or not\n",
    "\n",
    "11. Write a python program to print all prime numbers between 0 to 100 , and print how many prime numbers are there.\n",
    "\n",
    "12. a, b, c = 0, 0, 0 . Write a python program to print all permutations using those three variables\n",
    "\n",
    "Output : 000 , 001 ,002, 003, 004, 0005 ,006, 007, 008, 009, 010, 011 …… 999"
   ]
  }
 ],
 "metadata": {
  "kernelspec": {
   "display_name": "Python 3",
   "language": "python",
   "name": "python3"
  },
  "language_info": {
   "codemirror_mode": {
    "name": "ipython",
    "version": 3
   },
   "file_extension": ".py",
   "mimetype": "text/x-python",
   "name": "python",
   "nbconvert_exporter": "python",
   "pygments_lexer": "ipython3",
   "version": "3.6.7"
  }
 },
 "nbformat": 4,
 "nbformat_minor": 2
}
