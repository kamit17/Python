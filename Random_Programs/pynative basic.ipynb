{
 "cells": [
  {
   "cell_type": "code",
   "execution_count": 6,
   "metadata": {},
   "outputs": [
    {
     "name": "stdout",
     "output_type": "stream",
     "text": [
      "Enter an integer: 12\n",
      "Enter second integer: 12\n",
      "144\n"
     ]
    }
   ],
   "source": [
    "#Accept two int values from the user and return their product. If the product is greater than 1000, then return their sum\n",
    "\n",
    "x = int(input('Enter an integer: '))\n",
    "y = int(input('Enter second integer: '))\n",
    "product = x * y\n",
    "sum = x  + y\n",
    "\n",
    "\n",
    "if product >1000:\n",
    "    print(sum)\n",
    "else:\n",
    "    print(product)\n",
    "\n"
   ]
  },
  {
   "cell_type": "code",
   "execution_count": 9,
   "metadata": {},
   "outputs": [
    {
     "name": "stdout",
     "output_type": "stream",
     "text": [
      "Enter first digit: 12\n",
      "Enter second digit: 12\n",
      "The result is :  144\n"
     ]
    }
   ],
   "source": [
    "def product_sum(x,y):\n",
    "    product = x * y\n",
    "    sum = x + y\n",
    "    if product > 1000:\n",
    "        return sum\n",
    "    else:\n",
    "        return product\n",
    "def main():\n",
    "    a = int(input('Enter first digit: '))\n",
    "    b = int(input('Enter second digit: '))\n",
    "    result = product_sum(a,b)\n",
    "    print('The result is : ',result)\n",
    "main()\n",
    "    \n",
    "    "
   ]
  },
  {
   "cell_type": "code",
   "execution_count": null,
   "metadata": {},
   "outputs": [],
   "source": []
  }
 ],
 "metadata": {
  "kernelspec": {
   "display_name": "Python 3",
   "language": "python",
   "name": "python3"
  },
  "language_info": {
   "codemirror_mode": {
    "name": "ipython",
    "version": 3
   },
   "file_extension": ".py",
   "mimetype": "text/x-python",
   "name": "python",
   "nbconvert_exporter": "python",
   "pygments_lexer": "ipython3",
   "version": "3.6.7"
  }
 },
 "nbformat": 4,
 "nbformat_minor": 2
}
