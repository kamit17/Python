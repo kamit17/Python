{
 "cells": [
  {
   "cell_type": "code",
   "execution_count": null,
   "metadata": {},
   "outputs": [],
   "source": [
    "#Count number of digits in a number:\n",
    "num = int(input('Enter any number: '))\n",
    "count = 0\n",
    "while(num > 0):\n",
    "    num = num //10\n",
    "    count = count+1\n",
    "print('the number of digits is : ',count)"
   ]
  },
  {
   "cell_type": "code",
   "execution_count": null,
   "metadata": {},
   "outputs": [],
   "source": [
    "#number of digits using function\n",
    "\n",
    "def count(num):\n",
    "    count = 0\n",
    "    while(num > 0):\n",
    "        num = num //10\n",
    "        count = count + 1\n",
    "    print(count)\n",
    "count(1234)"
   ]
  },
  {
   "cell_type": "code",
   "execution_count": null,
   "metadata": {},
   "outputs": [],
   "source": [
    "#Count number of digits using recursion\n",
    "\n",
    "count = 0\n",
    "def counting(num):\n",
    "    global count\n",
    "    if(num >0):\n",
    "        count = count + 1\n",
    "        counting(num //10)\n",
    "    return count\n",
    "    \n",
    "num = int(input('Ener any number: '))\n",
    "count = counting(num)\n",
    "print('The number of digits in given number is {0}'.format(count))"
   ]
  },
  {
   "cell_type": "code",
   "execution_count": null,
   "metadata": {},
   "outputs": [],
   "source": [
    "#fibonacci Series\n",
    "#every number is the sum of the two preceding ones\n",
    "num = int(input('Enter a number: '))\n",
    "\n",
    "#initializing first and second values of the series\n",
    "\n",
    "i = 0\n",
    "first_value = 0\n",
    "second_value = 1\n",
    "\n",
    "#find and display fibonacci series\n",
    "\n",
    "while ( i < num):\n",
    "    if ( i <= 1):\n",
    "        next = i\n",
    "    else:\n",
    "        next = first_value+ second_value\n",
    "        first_value = second_value\n",
    "        second_value = next\n",
    "    print(next)\n",
    "    i = i + 1\n"
   ]
  },
  {
   "cell_type": "code",
   "execution_count": null,
   "metadata": {},
   "outputs": [],
   "source": [
    "#Fibonacci using for loop\n",
    "num = int(input('Enter a number: '))\n",
    "\n",
    "#initializing first and second values of the series\n",
    "\n",
    "i = 0\n",
    "first_value = 0\n",
    "second_value = 1\n",
    "\n",
    "#find and display fibonacci series\n",
    "for i in range(0,num):\n",
    "    if i <=1:\n",
    "        \n",
    "        next = i\n",
    "    else:\n",
    "        \n",
    "        next = first_value+ second_value\n",
    "        first_value = second_value\n",
    "        second_value = next\n",
    "    print(next)\n"
   ]
  },
  {
   "cell_type": "code",
   "execution_count": null,
   "metadata": {},
   "outputs": [],
   "source": [
    "#fibonacci using recursion\n",
    "\n",
    "def fibonacci(num):\n",
    "    if(num == 0):\n",
    "        return 0\n",
    "    elif(num == 1):\n",
    "        return 1\n",
    "    else:\n",
    "        return(fibonacci(num - 2)+ fibonacci(num - 1))\n",
    "    \n",
    "num = int(input('Enter the range: '))\n",
    "\n",
    "for num in range(0,num):\n",
    "    print(fibonacci(num), end = ' ')"
   ]
  },
  {
   "cell_type": "code",
   "execution_count": null,
   "metadata": {},
   "outputs": [],
   "source": []
  }
 ],
 "metadata": {
  "kernelspec": {
   "display_name": "Python 3",
   "language": "python",
   "name": "python3"
  },
  "language_info": {
   "codemirror_mode": {
    "name": "ipython",
    "version": 3
   },
   "file_extension": ".py",
   "mimetype": "text/x-python",
   "name": "python",
   "nbconvert_exporter": "python",
   "pygments_lexer": "ipython3",
   "version": "3.6.7"
  }
 },
 "nbformat": 4,
 "nbformat_minor": 2
}
