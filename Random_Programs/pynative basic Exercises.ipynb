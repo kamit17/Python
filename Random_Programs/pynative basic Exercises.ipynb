{
 "cells": [
  {
   "cell_type": "code",
   "execution_count": null,
   "metadata": {},
   "outputs": [],
   "source": [
    "#Accept two int values from the user and return their product. If the product is greater than 1000, then return their sum\n",
    "\n",
    "x = int(input('Enter an integer: '))\n",
    "y = int(input('Enter second integer: '))\n",
    "product = x * y\n",
    "sum = x  + y\n",
    "\n",
    "\n",
    "if product >1000:\n",
    "    print(sum)\n",
    "else:\n",
    "    print(product)\n",
    "\n"
   ]
  },
  {
   "cell_type": "code",
   "execution_count": null,
   "metadata": {},
   "outputs": [],
   "source": [
    "def product_sum(x,y):\n",
    "    product = x * y\n",
    "    sum = x + y\n",
    "    if product > 1000:\n",
    "        return sum\n",
    "    else:\n",
    "        return product\n",
    "def main():\n",
    "    a = int(input('Enter first digit: '))\n",
    "    b = int(input('Enter second digit: '))\n",
    "    result = product_sum(a,b)\n",
    "    print('The result is : ',result)\n",
    "main()\n",
    "    \n",
    "    "
   ]
  },
  {
   "cell_type": "code",
   "execution_count": 1,
   "metadata": {},
   "outputs": [
    {
     "name": "stdout",
     "output_type": "stream",
     "text": [
      "The out put is: \n",
      "0\n",
      "1\n",
      "3\n",
      "5\n",
      "7\n",
      "9\n",
      "11\n",
      "13\n",
      "15\n",
      "17\n"
     ]
    }
   ],
   "source": [
    "#Question 2: Given a range of numbers. Iterate from o^th number to the end number and print the sum of the current number and previous number\n",
    "def sum(n):\n",
    "    previous = 0\n",
    "    for i in range(n):\n",
    "        sum = previous + i\n",
    "        print(sum)\n",
    "        previous = i\n",
    "print('The out put is: ')\n",
    "sum(10)"
   ]
  },
  {
   "cell_type": "code",
   "execution_count": null,
   "metadata": {},
   "outputs": [],
   "source": []
  }
 ],
 "metadata": {
  "kernelspec": {
   "display_name": "Python 3",
   "language": "python",
   "name": "python3"
  },
  "language_info": {
   "codemirror_mode": {
    "name": "ipython",
    "version": 3
   },
   "file_extension": ".py",
   "mimetype": "text/x-python",
   "name": "python",
   "nbconvert_exporter": "python",
   "pygments_lexer": "ipython3",
   "version": "3.6.7"
  }
 },
 "nbformat": 4,
 "nbformat_minor": 2
}
