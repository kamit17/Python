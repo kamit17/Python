{
 "cells": [
  {
   "cell_type": "code",
   "execution_count": 7,
   "metadata": {},
   "outputs": [
    {
     "name": "stdout",
     "output_type": "stream",
     "text": [
      "Enter the number : 12\n",
      "The sum if first 12 numbers is : 78\n"
     ]
    }
   ],
   "source": [
    "#Calculate the sum of n numbers\n",
    "n = int(input('Enter the number : '))\n",
    "sum = 0\n",
    "for i in range(0,n+1,1):\n",
    "    sum = sum + i\n",
    "print('The sum if first {} numbers is : {}'.format(n,sum))"
   ]
  },
  {
   "cell_type": "code",
   "execution_count": 8,
   "metadata": {},
   "outputs": [
    {
     "name": "stdout",
     "output_type": "stream",
     "text": [
      "Enter the number : 22\n",
      "Average is : 11.5\n"
     ]
    }
   ],
   "source": [
    "#calculate avergae of n numbers:\n",
    "average = 0\n",
    "n = int(input('Enter the number : '))\n",
    "sum = 0\n",
    "for i in range(0,n+1,1):\n",
    "    sum = sum + i\n",
    "for i in range(0,n+1,1):\n",
    "    average = sum /n\n",
    "print('Average is :',average)"
   ]
  },
  {
   "cell_type": "code",
   "execution_count": 9,
   "metadata": {},
   "outputs": [
    {
     "name": "stdout",
     "output_type": "stream",
     "text": [
      "Sum is :  308\n",
      "Average is :  44.0\n"
     ]
    }
   ],
   "source": [
    "#Sum and average using Lists\n",
    "\n",
    "sum = 0\n",
    "list = [11,22,33,44,55,66,77]\n",
    "for num in list:\n",
    "    sum = sum + num\n",
    "average = sum / len(list)\n",
    "print('Sum is : ',sum)\n",
    "print('Average is : ', average)"
   ]
  },
  {
   "cell_type": "code",
   "execution_count": 10,
   "metadata": {},
   "outputs": [
    {
     "name": "stdout",
     "output_type": "stream",
     "text": [
      "Sum is :  210\n",
      "Avg is :  10.5\n"
     ]
    }
   ],
   "source": [
    "#Sum and avergae using While loop\n",
    "\n",
    "n = 20\n",
    "total_numbers = n\n",
    "sum = 0\n",
    "while ( n >= 0):\n",
    "    sum = sum + n\n",
    "    n = n -1\n",
    "print('Sum is : ',sum)\n",
    "average = sum / total_numbers\n",
    "print('Avg is : ', average)\n",
    "    "
   ]
  },
  {
   "cell_type": "code",
   "execution_count": 11,
   "metadata": {},
   "outputs": [
    {
     "name": "stdout",
     "output_type": "stream",
     "text": [
      "Result is \n",
      "[21, 27, 22]\n",
      "[28, 18, 27]\n"
     ]
    }
   ],
   "source": [
    "# Adding two matrices in python\n",
    "matrixOne = [[6,9,11],[2,3,8]]\n",
    "matrixTwo = [[15,18,11],[26,15,19]]\n",
    "\n",
    "result = [[0,0,0],[0,0,0]]\n",
    "\n",
    "#iterating rows\n",
    "for i in range ( len(matrixOne)):\n",
    "    #iterate columns\n",
    "    for j in range(len(matrixOne[0])):\n",
    "        result[i][j] = matrixOne[i][j] + matrixTwo[i][j]\n",
    "print('Result is ')\n",
    "for res in result:\n",
    "    print(res)"
   ]
  },
  {
   "cell_type": "code",
   "execution_count": null,
   "metadata": {},
   "outputs": [],
   "source": []
  }
 ],
 "metadata": {
  "kernelspec": {
   "display_name": "Python 3",
   "language": "python",
   "name": "python3"
  },
  "language_info": {
   "codemirror_mode": {
    "name": "ipython",
    "version": 3
   },
   "file_extension": ".py",
   "mimetype": "text/x-python",
   "name": "python",
   "nbconvert_exporter": "python",
   "pygments_lexer": "ipython3",
   "version": "3.6.7"
  }
 },
 "nbformat": 4,
 "nbformat_minor": 2
}
