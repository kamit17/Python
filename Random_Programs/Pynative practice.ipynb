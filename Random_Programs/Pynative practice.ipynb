{
 "cells": [
  {
   "cell_type": "code",
   "execution_count": null,
   "metadata": {},
   "outputs": [],
   "source": [
    "#Calculate the sum of n numbers\n",
    "n = int(input('Enter the number : '))\n",
    "sum = 0\n",
    "for i in range(0,n+1,1):\n",
    "    sum = sum + i\n",
    "print('The sum if first {} numbers is : {}'.format(n,sum))"
   ]
  },
  {
   "cell_type": "code",
   "execution_count": null,
   "metadata": {},
   "outputs": [],
   "source": [
    "#calculate avergae of n numbers:\n",
    "average = 0\n",
    "n = int(input('Enter the number : '))\n",
    "sum = 0\n",
    "for i in range(0,n+1,1):\n",
    "    sum = sum + i\n",
    "for i in range(0,n+1,1):\n",
    "    average = sum /n\n",
    "print('Average is :',average)"
   ]
  },
  {
   "cell_type": "code",
   "execution_count": null,
   "metadata": {},
   "outputs": [],
   "source": [
    "#Sum and average using Lists\n",
    "\n",
    "sum = 0\n",
    "list = [11,22,33,44,55,66,77]\n",
    "for num in list:\n",
    "    sum = sum + num\n",
    "average = sum / len(list)\n",
    "print('Sum is : ',sum)\n",
    "print('Average is : ', average)"
   ]
  },
  {
   "cell_type": "code",
   "execution_count": null,
   "metadata": {},
   "outputs": [],
   "source": [
    "#Sum and avergae using While loop\n",
    "\n",
    "n = 20\n",
    "total_numbers = n\n",
    "sum = 0\n",
    "while ( n >= 0):\n",
    "    sum = sum + n\n",
    "    n = n -1\n",
    "print('Sum is : ',sum)\n",
    "average = sum / total_numbers\n",
    "print('Avg is : ', average)\n",
    "    "
   ]
  },
  {
   "cell_type": "code",
   "execution_count": null,
   "metadata": {},
   "outputs": [],
   "source": [
    "# Adding two matrices in python\n",
    "matrixOne = [[6,9,11],[2,3,8]]\n",
    "matrixTwo = [[15,18,11],[26,15,19]]\n",
    "\n",
    "result = [[0,0,0],[0,0,0]]\n",
    "\n",
    "#iterating rows\n",
    "for i in range ( len(matrixOne)):\n",
    "    #iterate columns\n",
    "    for j in range(len(matrixOne[0])):\n",
    "        result[i][j] = matrixOne[i][j] + matrixTwo[i][j]\n",
    "print('Result is ')\n",
    "for res in result:\n",
    "    print(res)"
   ]
  },
  {
   "cell_type": "code",
   "execution_count": null,
   "metadata": {},
   "outputs": [],
   "source": [
    "matrixOne = [[6,9,11],[2,3,8]]\n",
    "matrixTwo = [[15,18,11],[26,15,19]]\n",
    "\n",
    "result = [[0,0,0],[0,0,0]]\n",
    "\n",
    "for i in range ( len(matrixOne)):\n",
    "    for j in range(len(matrixTwo)):\n",
    "        result[i][j] = matrixOne[i][j] + matrixTwo[i][j]\n",
    "        print(result[i][j], end = ' ' )\n",
    "    print()"
   ]
  },
  {
   "cell_type": "code",
   "execution_count": null,
   "metadata": {},
   "outputs": [],
   "source": [
    "#Python program to accept a list of numbers as input from a user and calculate teh sum of it\n",
    "\n",
    "input_string = input('Enter a list element separated by comma ')\n",
    "\n",
    "list = input_string.split(',')\n",
    "print('calculating the sum  of elements of a list')\n",
    "sum = 0\n",
    "for num in list:\n",
    "    sum += int(num)\n",
    "print('Sum = ',sum)"
   ]
  },
  {
   "cell_type": "code",
   "execution_count": null,
   "metadata": {},
   "outputs": [],
   "source": [
    "#python program to accept a list of string input from user\n",
    "\n",
    "input_string = input('Enter family members name seperated by comma ')\n",
    "family_list =  input_string.split(',')\n",
    "print('printing all family members names')\n",
    "#str(total) == 0\n",
    "for name in family_list:\n",
    "    print(name)\n"
   ]
  },
  {
   "cell_type": "code",
   "execution_count": null,
   "metadata": {},
   "outputs": [],
   "source": [
    "#Accessing Output string arguments by name\n",
    "name = input('Enter Name')\n",
    "marks = input('Enter marks')\n",
    "print('Student:Name: {firstName},Marks: {percentage}%'.format(firstName= name,percentage=marks))"
   ]
  },
  {
   "cell_type": "code",
   "execution_count": null,
   "metadata": {},
   "outputs": [],
   "source": [
    "#Aligning the out text and specifying a width\n",
    "text = 'Hello'#input('Enter text ')\n",
    "#left aligned\n",
    "print('{:<25}'.format(text))\n",
    "print('{:>25}'.format(text))\n",
    "print('{:^25}'.format(text))"
   ]
  },
  {
   "cell_type": "code",
   "execution_count": null,
   "metadata": {},
   "outputs": [],
   "source": [
    "#Specifying a sign while displaying output Numbers\n",
    "positiveNumber = float(input('Enter positive number: '))\n",
    "negativeNumber = float(input('Enter Negative number: '))\n",
    "\n",
    "print('{:+f}; {:+f}'.format(positiveNumber,negativeNumber))\n",
    "print('{:-f};{:-f}'.format(positiveNumber,negativeNumber))"
   ]
  },
  {
   "cell_type": "code",
   "execution_count": null,
   "metadata": {},
   "outputs": [],
   "source": [
    "#Display output Number in various type format\n",
    "number = int(input('Enter number'))\n",
    "\n",
    "#d is for integer number formatting\n",
    "print('The number is :{:d}'.format(number))\n",
    "\n",
    "#'o' is for octal number formatting, binary and hexadecimal format\n",
    "print('output number in octal format :{0:o}'.format(number))\n",
    "\n",
    "#b is for binary number formatting\n",
    "print('Output number in binary format:{0:b}'.format(number))\n",
    "\n",
    "# x is for hexadecimal format\n",
    "print('output in hexadecimal format:{0:x}'.format(number))\n",
    "\n",
    "# X is for hexadecimal format\n",
    "print('output number in HEXADECIMAL :{0:X}'.format(number))"
   ]
  },
  {
   "cell_type": "code",
   "execution_count": null,
   "metadata": {},
   "outputs": [],
   "source": [
    "#Display output numbers in float format\n",
    "number = float(input('Enter float number'))\n",
    "#f is for float number arguments\n",
    "print('Output number in the float type:{:f}'.format(number))\n",
    "\n",
    "#padding for float numbers\n",
    "print('padding for output float number{:.2f}'.format(number))\n",
    "\n",
    "#e is for exponent notaton\n",
    "print('output exponenet notation{:e}'.format(number))\n",
    "\n",
    "#E is for Exponent in Uppercase\n",
    "print('Output Exponenet notation{:E}'.format(number))"
   ]
  },
  {
   "cell_type": "code",
   "execution_count": null,
   "metadata": {},
   "outputs": [],
   "source": []
  }
 ],
 "metadata": {
  "kernelspec": {
   "display_name": "Python 3",
   "language": "python",
   "name": "python3"
  },
  "language_info": {
   "codemirror_mode": {
    "name": "ipython",
    "version": 3
   },
   "file_extension": ".py",
   "mimetype": "text/x-python",
   "name": "python",
   "nbconvert_exporter": "python",
   "pygments_lexer": "ipython3",
   "version": "3.6.7"
  }
 },
 "nbformat": 4,
 "nbformat_minor": 2
}
