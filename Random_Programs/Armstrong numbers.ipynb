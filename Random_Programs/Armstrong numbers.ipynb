{
 "cells": [
  {
   "cell_type": "code",
   "execution_count": null,
   "metadata": {},
   "outputs": [],
   "source": [
    "#Armstrong number\n",
    "#If the given number is equal to the sum of the Nth power of each digit present in that integer then, that number can be a Armstrong Number\n",
    "def armstrong(x):\n",
    "    #initialize sum\n",
    "    sum = 0\n",
    "    \n",
    "    #finding the sum of the cube of each digit\n",
    "    temp = x\n",
    "    while temp > 0:\n",
    "        digit = temp % 10\n",
    "        sum += digit ** 3\n",
    "        temp //= 10\n",
    "    if( x == sum):\n",
    "        print('Num is armstrong number:')\n",
    "    else:\n",
    "        print('Num is not an armonstrong number:')\n",
    "armstrong(371)\n",
    "    \n"
   ]
  },
  {
   "cell_type": "code",
   "execution_count": null,
   "metadata": {},
   "outputs": [],
   "source": [
    "#Armstrong number by using the numer as a string data type\n",
    "\n",
    "for i in range(1001):\n",
    "    num = i\n",
    "    result = 0\n",
    "    n = len(str(i))\n",
    "    while(i != 0):\n",
    "        #extract the digit\n",
    "        digit = i % 10\n",
    "        result = result + digit ** n\n",
    "        i //=10\n",
    "    if num == result:\n",
    "        print(num,end = ' ')\n",
    "\n"
   ]
  },
  {
   "cell_type": "code",
   "execution_count": null,
   "metadata": {},
   "outputs": [],
   "source": [
    "#python program for Armstrong numbers using Functions\n",
    "def Armstrong_Number(num):\n",
    "    #initializing sum and digits of number\n",
    "    sum = 0\n",
    "    n = 0\n",
    "   \n",
    "    \n",
    "    #calculating number of individual digits\n",
    "    temp = num\n",
    "    while temp > 0:\n",
    "        n = n + 1\n",
    "        temp = temp //10\n",
    "        \n",
    "    #finding Armstrong number\n",
    "    temp = num\n",
    "    for i in range(1,temp + 1):\n",
    "        remainder = temp % 10\n",
    "        sum = sum + (remainder ** n)\n",
    "        temp //=10\n",
    "    return sum\n",
    "\n",
    "num = int(input('\\n Enter the number:'))\n",
    "\n",
    "if ( num == Armstrong_Number(num)):\n",
    "    print('{0} is Armstrong number'.format(num))\n",
    "else:\n",
    "    print('{0} is not an Armstrong number'.format(num))"
   ]
  },
  {
   "cell_type": "code",
   "execution_count": null,
   "metadata": {},
   "outputs": [],
   "source": [
    "# Armstrong number using recursion:\n"
   ]
  }
 ],
 "metadata": {
  "kernelspec": {
   "display_name": "Python 3",
   "language": "python",
   "name": "python3"
  },
  "language_info": {
   "codemirror_mode": {
    "name": "ipython",
    "version": 3
   },
   "file_extension": ".py",
   "mimetype": "text/x-python",
   "name": "python",
   "nbconvert_exporter": "python",
   "pygments_lexer": "ipython3",
   "version": "3.6.7"
  }
 },
 "nbformat": 4,
 "nbformat_minor": 2
}
