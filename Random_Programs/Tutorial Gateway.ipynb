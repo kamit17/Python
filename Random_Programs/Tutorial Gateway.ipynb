{
 "cells": [
  {
   "cell_type": "code",
   "execution_count": 1,
   "metadata": {},
   "outputs": [
    {
     "name": "stdout",
     "output_type": "stream",
     "text": [
      "Enter the number that you need to find cube of:9\n",
      "The cube of 9.0 is 729.0\n"
     ]
    }
   ],
   "source": [
    "#cube of a number\n",
    "def cube(a):\n",
    "    cube_number = a**3\n",
    "    return cube_number\n",
    "\n",
    "number = float(input('Enter the number that you need to find cube of:'))\n",
    "print('The cube of {0} is {1}'.format(number,cube(number)))"
   ]
  },
  {
   "cell_type": "code",
   "execution_count": 22,
   "metadata": {},
   "outputs": [
    {
     "name": "stdout",
     "output_type": "stream",
     "text": [
      "1 2 3 4 5 6 7 8 9 10 "
     ]
    }
   ],
   "source": [
    "#print natural numbers\n",
    "def natural(a):\n",
    "    for i in range(1,a+1):\n",
    "        print(i,end = ' ')\n",
    "        i= i +1\n",
    "natural(10)\n"
   ]
  },
  {
   "cell_type": "code",
   "execution_count": 17,
   "metadata": {},
   "outputs": [
    {
     "name": "stdout",
     "output_type": "stream",
     "text": [
      "1 2 3 4 5 6 7 8 9 10 "
     ]
    }
   ],
   "source": [
    "#print natural numbers using while loop\n",
    "def natural(n):\n",
    "    i = 1\n",
    "    while (i <=n):\n",
    "        print(i, end = ' ')\n",
    "        i = i + 1\n",
    "natural(10)\n",
    "        "
   ]
  },
  {
   "cell_type": "code",
   "execution_count": null,
   "metadata": {},
   "outputs": [],
   "source": [
    "# Python Program to Print Natural Numbers in Reverse Order\n",
    "def reverse(a):\n",
    "    i = a\n",
    "    while (i >= 1):\n",
    "        print(i,end = ' ')\n",
    "        i = i - 1\n",
    "reverse(10)"
   ]
  },
  {
   "cell_type": "code",
   "execution_count": null,
   "metadata": {},
   "outputs": [],
   "source": [
    "#Python Program to find Sum and Average of N Natural Numbers using For Loop\n",
    "def sum(n):\n",
    "   \n",
    "    sum = 0\n",
    "    avg = 0\n",
    "    for i in range(1,n+1):\n",
    "        sum = sum + i\n",
    "    print('The sum of first {0} numbers is:  {1}'.format(n,sum))\n",
    "    \n",
    "   \n",
    "    avg = sum / n\n",
    "    print('The average  of first {0} numbers is:  {1}'.format(n,avg))\n",
    "\n",
    "   \n",
    "n = int(input(\"Enter a number: \"))\n",
    "sum(n)\n",
    "   "
   ]
  },
  {
   "cell_type": "code",
   "execution_count": 3,
   "metadata": {},
   "outputs": [
    {
     "name": "stdout",
     "output_type": "stream",
     "text": [
      "Enter a number: 10\n",
      "Sum is: 55\n",
      "The average  of first 10 numbers is:  5.5\n"
     ]
    }
   ],
   "source": [
    "#Python Program to find Sum and Average of N Natural Numbers using while Loop\n",
    "def sum(n):\n",
    "    sum = 0\n",
    "    avg = 0\n",
    "    total_numbers = n\n",
    "    \n",
    "    while (n >=0):\n",
    "        sum = sum + n\n",
    "        n = n -1\n",
    "\n",
    "    print('Sum is:',sum)\n",
    "    \n",
    "    avg = sum / total_numbers\n",
    "    print('The average  of first {0} numbers is:  {1}'.format(total_numbers,avg))\n",
    "    \n",
    "n = int(input('Enter a number: '))\n",
    "sum(n)"
   ]
  },
  {
   "cell_type": "code",
   "execution_count": 8,
   "metadata": {},
   "outputs": [
    {
     "name": "stdout",
     "output_type": "stream",
     "text": [
      "Enter the year: 1200\n",
      "Leap year\n"
     ]
    }
   ],
   "source": [
    "#Leap year\n",
    "\n",
    "def year(year):\n",
    "    if ((year % 400 == 0) or ((year % 4 == 0) and (year % 100 != 0)) ):\n",
    "        print('Leap year')\n",
    "    else:\n",
    "        print('Non leap')\n",
    "n = int(input('Enter the year: '))\n",
    "year(n)"
   ]
  },
  {
   "cell_type": "code",
   "execution_count": 61,
   "metadata": {},
   "outputs": [
    {
     "name": "stdout",
     "output_type": "stream",
     "text": [
      "Enter the initial year: 1992\n",
      "Enter the  final year: 2002\n",
      "The leap years in between  1992 and 2002 are: \n",
      "1992 1996 2000 \n",
      "The total number of years  is :  3\n"
     ]
    }
   ],
   "source": [
    "#list of leap years in a range\n",
    "def year(x,y):\n",
    "    #start = 0 \n",
    "    sum = 0\n",
    "    for i in range(x, y):\n",
    "        #print(x,y)\n",
    "        if((i % 400 == 0) or ((i %4 == 0) and (i % 100 !=0))):\n",
    "            \n",
    "            print (i, end = ' ')\n",
    "            sum = sum + 1\n",
    "            i = i + 1   \n",
    "    print('\\nThe total number of years  is : ',sum)\n",
    "\n",
    "\n",
    "           \n",
    "    \n",
    "initial = int(input('Enter the initial year: '))\n",
    "final = int(input('Enter the  final year: '))\n",
    "print('The leap years in between ',initial,'and', final, 'are: ')\n",
    "\n",
    "year(initial,final)\n"
   ]
  },
  {
   "cell_type": "code",
   "execution_count": 64,
   "metadata": {},
   "outputs": [
    {
     "name": "stdout",
     "output_type": "stream",
     "text": [
      "Enter any number: 23\n",
      "23 is and odd number\n"
     ]
    }
   ],
   "source": [
    "# odd or even\n",
    "def test(x):\n",
    "    if x %2 == 0:\n",
    "        print('{0} is an even number'.format(x))\n",
    "    else:\n",
    "        print('{0} is and odd number'.format(x))\n",
    "\n",
    "n = int(input('Enter any number: '))\n",
    "test(n)"
   ]
  },
  {
   "cell_type": "code",
   "execution_count": 65,
   "metadata": {},
   "outputs": [
    {
     "name": "stdout",
     "output_type": "stream",
     "text": [
      "2 4 6 8 10 12 14 16 18 20 22 24 26 28 30 32 34 36 38 40 42 44 46 48 50 52 54 56 58 60 62 64 66 68 70 72 74 76 78 80 82 84 86 88 90 92 94 96 98 100 "
     ]
    }
   ],
   "source": [
    "#Even numbers from 1 to 100\n",
    "\n",
    "for i in range(1,100+1):\n",
    "    if ( i % 2 == 0):\n",
    "        print(i, end = ' ')\n",
    "        i = i +1\n",
    "        "
   ]
  },
  {
   "cell_type": "code",
   "execution_count": 66,
   "metadata": {},
   "outputs": [
    {
     "name": "stdout",
     "output_type": "stream",
     "text": [
      "1 3 5 7 9 11 13 15 17 19 21 23 25 27 29 31 33 35 37 39 41 43 45 47 49 51 53 55 57 59 61 63 65 67 69 71 73 75 77 79 81 83 85 87 89 91 93 95 97 99 "
     ]
    }
   ],
   "source": [
    "# odd numbers\n",
    "for i in range(1,100+1):\n",
    "    if ( i % 2 != 0):\n",
    "        print(i, end = ' ')\n",
    "        i = i +1"
   ]
  },
  {
   "cell_type": "code",
   "execution_count": 68,
   "metadata": {},
   "outputs": [
    {
     "name": "stdout",
     "output_type": "stream",
     "text": [
      "Enter any number9\n",
      "negative\n"
     ]
    }
   ],
   "source": [
    "# positive or negative\n",
    "def test(x):\n",
    "    if x <=0:\n",
    "        print('positive')\n",
    "    else:\n",
    "        print('negative')\n",
    "x = int(input('Enter any number'))\n",
    "test(x)"
   ]
  },
  {
   "cell_type": "code",
   "execution_count": 69,
   "metadata": {},
   "outputs": [
    {
     "name": "stdout",
     "output_type": "stream",
     "text": [
      "Enter the selling price: 1500\n",
      "Enter the cost price1200\n"
     ]
    },
    {
     "data": {
      "text/plain": [
       "300.0"
      ]
     },
     "execution_count": 69,
     "metadata": {},
     "output_type": "execute_result"
    }
   ],
   "source": [
    "#profit or loss\n",
    "def test(x, y, z):\n",
    "    if ( x > y):\n",
    "        z = x - y\n",
    "        return z\n",
    "    elif( y > x):\n",
    "        z = y - x\n",
    "        return z\n",
    "    else:\n",
    "        return 0\n",
    "x = float(input('Enter the selling price: '))\n",
    "y = float(input('Enter the cost price: '))\n",
    "z = 0\n",
    "test(x,y,z)\n",
    "        "
   ]
  },
  {
   "cell_type": "code",
   "execution_count": null,
   "metadata": {},
   "outputs": [],
   "source": []
  }
 ],
 "metadata": {
  "kernelspec": {
   "display_name": "Python 3",
   "language": "python",
   "name": "python3"
  },
  "language_info": {
   "codemirror_mode": {
    "name": "ipython",
    "version": 3
   },
   "file_extension": ".py",
   "mimetype": "text/x-python",
   "name": "python",
   "nbconvert_exporter": "python",
   "pygments_lexer": "ipython3",
   "version": "3.6.7"
  }
 },
 "nbformat": 4,
 "nbformat_minor": 2
}
