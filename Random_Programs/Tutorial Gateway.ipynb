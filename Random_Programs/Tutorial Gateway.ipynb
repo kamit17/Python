{
 "cells": [
  {
   "cell_type": "code",
   "execution_count": 1,
   "metadata": {},
   "outputs": [
    {
     "name": "stdout",
     "output_type": "stream",
     "text": [
      "Enter the number that you need to find cube of:9\n",
      "The cube of 9.0 is 729.0\n"
     ]
    }
   ],
   "source": [
    "#cube of a number\n",
    "def cube(a):\n",
    "    cube_number = a**3\n",
    "    return cube_number\n",
    "\n",
    "number = float(input('Enter the number that you need to find cube of:'))\n",
    "print('The cube of {0} is {1}'.format(number,cube(number)))"
   ]
  },
  {
   "cell_type": "code",
   "execution_count": null,
   "metadata": {},
   "outputs": [],
   "source": [
    "#print natural numbers\n",
    "def natural(a):\n",
    "    for i in range(1,a+1):\n",
    "        print(i,end = ' ')\n",
    "        i= i +1\n",
    "natural(10)\n"
   ]
  },
  {
   "cell_type": "code",
   "execution_count": 17,
   "metadata": {},
   "outputs": [
    {
     "name": "stdout",
     "output_type": "stream",
     "text": [
      "1 2 3 4 5 6 7 8 9 10 "
     ]
    }
   ],
   "source": [
    "#print natural numbers using while loop\n",
    "def natural(n):\n",
    "    i = 1\n",
    "    while (i <=n):\n",
    "        print(i, end = ' ')\n",
    "        i = i + 1\n",
    "natural(10)\n",
    "        "
   ]
  },
  {
   "cell_type": "code",
   "execution_count": null,
   "metadata": {},
   "outputs": [],
   "source": [
    "# Python Program to Print Natural Numbers in Reverse Order\n",
    "def reverse(a):\n",
    "    i = a\n",
    "    while (i >= 1):\n",
    "        print(i,end = ' ')\n",
    "        i = i - 1\n",
    "reverse(10)"
   ]
  },
  {
   "cell_type": "code",
   "execution_count": null,
   "metadata": {},
   "outputs": [],
   "source": [
    "#Python Program to find Sum and Average of N Natural Numbers using For Loop\n",
    "def sum(n):\n",
    "   \n",
    "    sum = 0\n",
    "    avg = 0\n",
    "    for i in range(1,n+1):\n",
    "        sum = sum + i\n",
    "    print('The sum of first {0} numbers is:  {1}'.format(n,sum))\n",
    "    \n",
    "   \n",
    "    avg = sum / n\n",
    "    print('The average  of first {0} numbers is:  {1}'.format(n,avg))\n",
    "\n",
    "   \n",
    "n = int(input(\"Enter a number: \"))\n",
    "sum(n)\n",
    "   "
   ]
  },
  {
   "cell_type": "code",
   "execution_count": 3,
   "metadata": {},
   "outputs": [
    {
     "name": "stdout",
     "output_type": "stream",
     "text": [
      "Enter a number: 10\n",
      "Sum is: 55\n",
      "The average  of first 10 numbers is:  5.5\n"
     ]
    }
   ],
   "source": [
    "#Python Program to find Sum and Average of N Natural Numbers using while Loop\n",
    "def sum(n):\n",
    "    sum = 0\n",
    "    avg = 0\n",
    "    total_numbers = n\n",
    "    \n",
    "    while (n >=0):\n",
    "        sum = sum + n\n",
    "        n = n -1\n",
    "\n",
    "    print('Sum is:',sum)\n",
    "    \n",
    "    avg = sum / total_numbers\n",
    "    print('The average  of first {0} numbers is:  {1}'.format(total_numbers,avg))\n",
    "    \n",
    "n = int(input('Enter a number: '))\n",
    "sum(n)"
   ]
  },
  {
   "cell_type": "code",
   "execution_count": null,
   "metadata": {},
   "outputs": [],
   "source": []
  },
  {
   "cell_type": "code",
   "execution_count": null,
   "metadata": {},
   "outputs": [],
   "source": []
  }
 ],
 "metadata": {
  "kernelspec": {
   "display_name": "Python 3",
   "language": "python",
   "name": "python3"
  },
  "language_info": {
   "codemirror_mode": {
    "name": "ipython",
    "version": 3
   },
   "file_extension": ".py",
   "mimetype": "text/x-python",
   "name": "python",
   "nbconvert_exporter": "python",
   "pygments_lexer": "ipython3",
   "version": "3.6.7"
  }
 },
 "nbformat": 4,
 "nbformat_minor": 2
}
