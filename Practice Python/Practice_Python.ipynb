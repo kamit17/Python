{
 "cells": [
  {
   "cell_type": "code",
   "execution_count": null,
   "metadata": {},
   "outputs": [],
   "source": [
    "#1.Program to ask user for their name and age and print out when they will be 100\n",
    "\n",
    "name = input('Give me your name: ')\n",
    "#print('Your name is : ' + name)\n",
    "\n",
    "age = int(input('Enter your age: '))\n",
    "#print('your age is : '+ str(age))\n",
    "\n",
    "year = str((2018 -age) + 100)\n",
    "\n",
    "print(year)\n",
    "\n"
   ]
  },
  {
   "cell_type": "code",
   "execution_count": null,
   "metadata": {},
   "outputs": [],
   "source": [
    "#1.a/bProgram to ask user for their name and age and print out when they will be 100\n",
    "\n",
    "name = input('Give me your name: ')\n",
    "#print('Your name is : ' + name)\n",
    "\n",
    "age = int(input('Enter your age: '))\n",
    "#print('your age is : '+ str(age))\n",
    "\n",
    "another = int(input('Please enter another input: '))\n",
    "i = 1\n",
    "while(i <= another):\n",
    "    year = str((2018 -age) + 100)\n",
    "    print('Your name is : '+ name +', your age is :' +str(age) +', and you will be 100 in ' +year)\n",
    "    i = i+1\n"
   ]
  },
  {
   "cell_type": "code",
   "execution_count": null,
   "metadata": {},
   "outputs": [],
   "source": [
    "#2.Program to check if number is even or odd\n",
    "x = int(input(\"Enter the first number: \"))\n",
    "\n",
    "if (x %2 == 0):\n",
    "    print(\"The number is even\")\n",
    "else:\n",
    "    print('The number is odd')\n"
   ]
  },
  {
   "cell_type": "code",
   "execution_count": null,
   "metadata": {},
   "outputs": [],
   "source": [
    "#2.1Program to check if number is even or odd\n",
    "x = int(input(\"Enter the  number: \"))\n",
    "\n",
    "test = x%2\n",
    "test4 = x%4\n",
    "if (test == 0):\n",
    "    print(\"The number is even\")\n",
    "    if test4==0:\n",
    "        print( 'The number is a multipe of 4')\n",
    "else:\n",
    "    print('The number is odd')"
   ]
  },
  {
   "cell_type": "code",
   "execution_count": null,
   "metadata": {},
   "outputs": [],
   "source": [
    "#2.2Program to check if number is even or odd\n",
    "x = int(input(\"Enter the first number: \"))\n",
    "y = int(input(\"Enter the second number: \"))\n",
    "\n",
    "if (x % y == 0):\n",
    "    print(\"The number is even\")\n",
    "else:\n",
    "    print('The number is odd')"
   ]
  },
  {
   "cell_type": "code",
   "execution_count": 19,
   "metadata": {},
   "outputs": [
    {
     "name": "stdout",
     "output_type": "stream",
     "text": [
      "89\n"
     ]
    }
   ],
   "source": [
    "# 3 . Program to print all elements that are less than 5\n",
    "a = [1,1,2,3,5,8,13,21,34,55,89]\n",
    "i = 0\n",
    "for i  in a:\n",
    "    if i < 5:\n",
    "        print(i)\n",
    "        i +=1\n"
   ]
  },
  {
   "cell_type": "code",
   "execution_count": 20,
   "metadata": {},
   "outputs": [
    {
     "name": "stdout",
     "output_type": "stream",
     "text": [
      "[1, 1, 2, 3]\n"
     ]
    }
   ],
   "source": [
    "#3.1 Making a new list for elements less than 5 and printing it\n",
    "a = [1,1,2,3,5,8,13,21,34,55,89]\n",
    "new_list=[]\n",
    "for i in a:\n",
    "    if i < 5:\n",
    "        new_list.append(i)\n",
    "print(new_list)\n"
   ]
  },
  {
   "cell_type": "code",
   "execution_count": 29,
   "metadata": {},
   "outputs": [
    {
     "name": "stdout",
     "output_type": "stream",
     "text": [
      "[[1, 1, 2, 3]]\n"
     ]
    }
   ],
   "source": [
    "#3.2 Trying to write it in one line of code\n",
    "a = [1,1,2,3,5,8,13,21,34,55,89]\n",
    "b = []\n",
    "b.append([i for i in a if i < 5])\n",
    "print(b)\n"
   ]
  },
  {
   "cell_type": "code",
   "execution_count": 30,
   "metadata": {},
   "outputs": [
    {
     "name": "stdout",
     "output_type": "stream",
     "text": [
      "[1, 1, 2, 3, 5]\n"
     ]
    }
   ],
   "source": [
    "#3.3 Making a new list for elements less than 5 and printing it\n",
    "a = [1,1,2,3,5,8,13,21,34,55,89]\n",
    "num = int(input(\"Enter a number: \"))\n",
    "new_list=[]\n",
    "for i in a:\n",
    "    if i < num:\n",
    "        new_list.append(i)\n",
    "print(new_list)"
   ]
  },
  {
   "cell_type": "code",
   "execution_count": 41,
   "metadata": {},
   "outputs": [
    {
     "name": "stdout",
     "output_type": "stream",
     "text": [
      "[2, 3, 6, 7, 9, 13, 14, 18, 21, 26, 37, 39, 42, 63, 74, 78, 91, 111, 117, 126, 169, 182, 222, 234, 259, 273, 333, 338, 481, 507, 518, 546, 666, 777, 819, 962, 1014, 1183, 1443, 1521, 1554, 1638, 2331, 2366, 2886, 3042, 3367, 3549, 4329, 4662, 6253, 6734, 7098, 8658, 10101, 10647, 12506, 18759, 20202, 21294, 30303, 37518, 43771, 56277, 60606, 87542, 112554, 131313, 262626, 393939]\n"
     ]
    }
   ],
   "source": [
    "#4. Program to print Divisors\n",
    "num = int(input('Enter a number: '))\n",
    "divisor_list= []\n",
    "x = range(2,num)\n",
    "for i in x:\n",
    "    if(num % i ==0):\n",
    "        divisor_list.append(i)\n",
    "print(divisor_list)\n",
    "\n",
    "#divisor_list.append([i for i in range(2,num) if num % i ==0])\n",
    "#print(divisor_list)"
   ]
  },
  {
   "cell_type": "code",
   "execution_count": null,
   "metadata": {},
   "outputs": [],
   "source": []
  },
  {
   "cell_type": "code",
   "execution_count": null,
   "metadata": {},
   "outputs": [],
   "source": []
  },
  {
   "cell_type": "code",
   "execution_count": null,
   "metadata": {},
   "outputs": [],
   "source": []
  }
 ],
 "metadata": {
  "kernelspec": {
   "display_name": "Python 3",
   "language": "python",
   "name": "python3"
  },
  "language_info": {
   "codemirror_mode": {
    "name": "ipython",
    "version": 3
   },
   "file_extension": ".py",
   "mimetype": "text/x-python",
   "name": "python",
   "nbconvert_exporter": "python",
   "pygments_lexer": "ipython3",
   "version": "3.6.4"
  }
 },
 "nbformat": 4,
 "nbformat_minor": 2
}
