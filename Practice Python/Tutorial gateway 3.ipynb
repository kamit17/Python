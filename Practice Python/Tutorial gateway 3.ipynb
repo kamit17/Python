{
 "cells": [
  {
   "cell_type": "code",
   "execution_count": null,
   "metadata": {},
   "outputs": [],
   "source": [
    "#palindrome number # 1441\n",
    "\"\"\"Enter any number\n",
    "Reverse a given number\n",
    "Compare original value with reverse value.\n",
    "If they exactly matched then it is Palindrome number otherwise, it is not Palindrome number.\"\"\"\n",
    "\n",
    "num = int(input('Enter any integer: '))\n",
    "reverse = 0\n",
    "temp = num\n",
    "\n",
    "while (temp > 0):\n",
    "    remainder = temp % 10\n",
    "    reverse = (reverse * 10) + remainder\n",
    "    temp = temp //10\n",
    "print('reverse of given number is : ', reverse)\n",
    "\n",
    "if(num == reverse):\n",
    "    print('number is palindrome')\n",
    "else:\n",
    "    print('number is not palindrome')\n",
    "\n",
    "    \n",
    "\n"
   ]
  },
  {
   "cell_type": "code",
   "execution_count": null,
   "metadata": {},
   "outputs": [],
   "source": [
    "# reverse the digits\n",
    "\n",
    "x = int(input('Enter the number: '))\n",
    "i = x\n",
    "rev = 0\n",
    "\n",
    "while i  > 0:\n",
    "    rev = (rev * 10 ) + (i % 10)\n",
    "    i = i //10\n",
    "print(rev, end = ' ')\n",
    "\n",
    "\n",
    "\n",
    "    \n",
    "    \n"
   ]
  },
  {
   "cell_type": "code",
   "execution_count": null,
   "metadata": {},
   "outputs": [],
   "source": [
    "#palindrome numbers from 1 to 100\n",
    "\n",
    "num1 = int(input('Enter the start  '))\n",
    "num2 = int(input('Enter the end: '))\n",
    "print('The palindrome numbers between {0} and {1} are :'.format(num1,num2))\n",
    "for num in range(num1, num2+1):\n",
    "    reverse = 0\n",
    "    temp = num\n",
    "    while(temp !=0):\n",
    "        reverse = (reverse*10) + (temp%10)\n",
    "        temp = temp //10\n",
    "    \n",
    "    if ( num == reverse ):\n",
    "        print(num, end = ' ')\n",
    "\n",
    "\n",
    "\n"
   ]
  },
  {
   "cell_type": "code",
   "execution_count": null,
   "metadata": {},
   "outputs": [],
   "source": []
  }
 ],
 "metadata": {
  "kernelspec": {
   "display_name": "Python 3",
   "language": "python",
   "name": "python3"
  },
  "language_info": {
   "codemirror_mode": {
    "name": "ipython",
    "version": 3
   },
   "file_extension": ".py",
   "mimetype": "text/x-python",
   "name": "python",
   "nbconvert_exporter": "python",
   "pygments_lexer": "ipython3",
   "version": "3.6.7"
  }
 },
 "nbformat": 4,
 "nbformat_minor": 2
}
