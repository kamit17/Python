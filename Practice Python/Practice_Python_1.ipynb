{
 "cells": [
  {
   "cell_type": "code",
   "execution_count": null,
   "metadata": {},
   "outputs": [],
   "source": [
    "#1.Program to ask user for their name and age and print out when they will be 100\n",
    "\n",
    "name = input('Give me your name: ')\n",
    "#print('Your name is : ' + name)\n",
    "\n",
    "age = int(input('Enter your age: '))\n",
    "#print('your age is : '+ str(age))\n",
    "\n",
    "year = str((2018 -age) + 100)\n",
    "\n",
    "print(name + ', You will be  100 years old  in the year ' +year)\n",
    "\n"
   ]
  },
  {
   "cell_type": "code",
   "execution_count": null,
   "metadata": {},
   "outputs": [],
   "source": [
    "#1.a/bProgram to ask user for their name and age and print out when they will be 100\n",
    "\n",
    "name = input('Give me your name: ')\n",
    "#print('Your name is : ' + name)\n",
    "\n",
    "age = int(input('Enter your age: '))\n",
    "#print('your age is : '+ str(age))\n",
    "\n",
    "another = int(input('Please enter another input: '))\n",
    "i = 1\n",
    "while(i <= another):\n",
    "    year = str((2018 -age) + 100)\n",
    "    print('Your name is : '+ name +', your age is :' +str(age) +', and you will be 100 in ' +year)\n",
    "    i = i+1\n"
   ]
  },
  {
   "cell_type": "code",
   "execution_count": null,
   "metadata": {},
   "outputs": [],
   "source": [
    "#2.Program to check if number is even or odd\n",
    "x = int(input(\"Enter the first number: \"))\n",
    "\n",
    "if (x %2 == 0):\n",
    "    print(\"The number is even\")\n",
    "else:\n",
    "    print('The number is odd')\n"
   ]
  },
  {
   "cell_type": "code",
   "execution_count": null,
   "metadata": {},
   "outputs": [],
   "source": [
    "#2.1Program to check if number is even or odd\n",
    "x = int(input(\"Enter the  number: \"))\n",
    "\n",
    "test = x%2\n",
    "test4 = x%4\n",
    "if (test == 0):\n",
    "    print(\"The number is even\")\n",
    "    if test4==0:\n",
    "        print( 'The number is a multipe of 4')\n",
    "else:\n",
    "    print('The number is odd')"
   ]
  },
  {
   "cell_type": "code",
   "execution_count": null,
   "metadata": {},
   "outputs": [],
   "source": [
    "#2.2Program to check if number is even or odd\n",
    "x = int(input(\"Enter the first number: \"))\n",
    "y = int(input(\"Enter the second number: \"))\n",
    "\n",
    "if (x % y == 0):\n",
    "    print(\"The number is even\")\n",
    "else:\n",
    "    print('The number is odd')"
   ]
  },
  {
   "cell_type": "code",
   "execution_count": null,
   "metadata": {},
   "outputs": [],
   "source": [
    "# 3 . Program to print all elements that are less than 5\n",
    "a = [1,1,2,3,5,8,13,21,34,55,89]\n",
    "i = 0\n",
    "for i  in a:\n",
    "    if i < 5:\n",
    "        print(i)\n",
    "        i +=1\n"
   ]
  },
  {
   "cell_type": "code",
   "execution_count": null,
   "metadata": {},
   "outputs": [],
   "source": [
    "#3.1 Making a new list for elements less than 5 and printing it\n",
    "a = [1,1,2,3,5,8,13,21,34,55,89]\n",
    "new_list=[]\n",
    "for i in a:\n",
    "    if i < 5:\n",
    "        new_list.append(i)\n",
    "print(new_list)\n"
   ]
  },
  {
   "cell_type": "code",
   "execution_count": null,
   "metadata": {},
   "outputs": [],
   "source": [
    "#3.2 Trying to write it in one line of code\n",
    "a = [1,1,2,3,5,8,13,21,34,55,89]\n",
    "b = []\n",
    "b.append([i for i in a if i < 5])\n",
    "print(b)\n"
   ]
  },
  {
   "cell_type": "code",
   "execution_count": null,
   "metadata": {},
   "outputs": [],
   "source": [
    "#3.3 Making a new list for elements less than 5 and printing it\n",
    "a = [1,1,2,3,5,8,13,21,34,55,89]\n",
    "num = int(input(\"Enter a number: \"))\n",
    "new_list=[]\n",
    "for i in a:\n",
    "    if i < num:\n",
    "        new_list.append(i)\n",
    "print(new_list)"
   ]
  },
  {
   "cell_type": "code",
   "execution_count": null,
   "metadata": {},
   "outputs": [],
   "source": [
    "#4. Program to print Divisors\n",
    "num = int(input('Enter a number: '))\n",
    "divisor_list= []\n",
    "x = range(2,num)\n",
    "for i in x:\n",
    "    if(num % i ==0):\n",
    "        divisor_list.append(i)\n",
    "print(divisor_list)\n",
    "\n",
    "#divisor_list.append([i for i in range(2,num) if num % i ==0])\n",
    "#print(divisor_list)"
   ]
  },
  {
   "cell_type": "code",
   "execution_count": null,
   "metadata": {},
   "outputs": [],
   "source": []
  },
  {
   "cell_type": "code",
   "execution_count": null,
   "metadata": {},
   "outputs": [],
   "source": [
    "#5.Returns common elements between lists\n",
    "a = [1, 1, 2, 3, 5, 8, 13, 21, 34, 55, 89]\n",
    "b = [1, 2, 3, 4, 5, 6, 7, 8, 9, 10, 11, 12, 13]\n",
    "c=[]\n",
    "for i in a:\n",
    "    if i in b:\n",
    "        if i in c:\n",
    "            print('Duplicated values are ', i)\n",
    "        else:\n",
    "            c.append(i)\n",
    "print('The common elements are: ',c)\n",
    "            "
   ]
  },
  {
   "cell_type": "code",
   "execution_count": null,
   "metadata": {},
   "outputs": [],
   "source": [
    "#5.a Returns common elements between randomly generated\n",
    "import random\n",
    "a= random.sample(range(1,30),11)\n",
    "b = random.sample(range(1,40),13)\n",
    "print(a)\n",
    "print(b)\n",
    "c=[]\n",
    "for i in a:\n",
    "    if i in b:\n",
    "        if i in c:\n",
    "            print('Duplicated values are ', i)\n",
    "        else:\n",
    "            c.append(i)\n",
    "print('The common elements are: ',c)\n",
    "            "
   ]
  },
  {
   "cell_type": "code",
   "execution_count": null,
   "metadata": {},
   "outputs": [],
   "source": [
    "#6.Program to check if string is palindrome or not\n",
    "word = str(input ('Enter a string: '))\n",
    "reverse = word [::-1]  #[::-1] slice takes care of inverting the string\n",
    "print(reverse)\n",
    "if word == reverse:\n",
    "    print('The word is palindrome')\n",
    "else:\n",
    "    print('The word is not palindrome')\n",
    "\n",
    "    \n"
   ]
  },
  {
   "cell_type": "code",
   "execution_count": null,
   "metadata": {},
   "outputs": [],
   "source": [
    "#6.Program to check if string is palindrome or not using loops and function\n",
    "def reverse(word):\n",
    "    x = ''\n",
    "    for i in range(len(word)):\n",
    "        print(x)\n",
    "        x +=word[len(word)-1-i] # Reversing the string and storing it in x\n",
    "        #print('x after the condition: ',x) #Testing x value after every iteration\n",
    "        \n",
    "    return x\n",
    "    \n",
    "word = input(\"Enter a string: \")\n",
    "x = reverse(word)\n",
    "if x == word:\n",
    "    print('This is palindrome')\n",
    "else:\n",
    "    print('This is not palindrome')\n"
   ]
  },
  {
   "cell_type": "code",
   "execution_count": null,
   "metadata": {},
   "outputs": [],
   "source": [
    "#Testing the for loop condition for earlier problem .\n",
    "x =''\n",
    "word = '121'\n",
    "for i in range (len(word)):\n",
    "    x += word[len(word)-1-i]\n",
    "print (x)\n"
   ]
  },
  {
   "cell_type": "code",
   "execution_count": null,
   "metadata": {},
   "outputs": [],
   "source": [
    "#6. Program to check if a number is palindrome or not using try catch\n",
    "num = input ('Enter a string: ')\n",
    "try:\n",
    "    val = int(num)\n",
    "    if num==str(num) [::-1]:#[a:b:c] means slice from a (inclusive) to b (exclusive) with step size c\n",
    "        print('The Number is palindrome')\n",
    "    else:\n",
    "        print('The Number is not palindrome')\n",
    "except ValueError:\n",
    "    print('The number is not a valid number,Try again')\n"
   ]
  },
  {
   "cell_type": "code",
   "execution_count": null,
   "metadata": {},
   "outputs": [],
   "source": [
    "#num = 12321\n",
    "num = int(input('Enter any number: '))\n",
    "temp = num\n",
    "rev = 0\n",
    "while temp != 0:\n",
    "    rev = (rev*10) + (temp%10)\n",
    "    print('Rev is now: ',rev)\n",
    "    print('Temp is now : ',temp)\n",
    "    temp = temp //10\n",
    "    print('Temp is now after iteration : ',temp)\n",
    "if num == rev:\n",
    "    print('Palindrome')\n",
    "else:\n",
    "    print('not palindrome')"
   ]
  },
  {
   "cell_type": "code",
   "execution_count": null,
   "metadata": {},
   "outputs": [],
   "source": []
  }
 ],
 "metadata": {
  "kernelspec": {
   "display_name": "Python 3",
   "language": "python",
   "name": "python3"
  },
  "language_info": {
   "codemirror_mode": {
    "name": "ipython",
    "version": 3
   },
   "file_extension": ".py",
   "mimetype": "text/x-python",
   "name": "python",
   "nbconvert_exporter": "python",
   "pygments_lexer": "ipython3",
   "version": "3.6.7"
  }
 },
 "nbformat": 4,
 "nbformat_minor": 2
}
