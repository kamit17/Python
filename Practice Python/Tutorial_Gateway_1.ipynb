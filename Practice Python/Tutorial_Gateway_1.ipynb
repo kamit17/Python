{
 "cells": [
  {
   "cell_type": "code",
   "execution_count": null,
   "metadata": {},
   "outputs": [],
   "source": [
    "#cube of a number\n",
    "def cube(a):\n",
    "    cube_number = a**3\n",
    "    return cube_number\n",
    "\n",
    "number = float(input('Enter the number that you need to find cube of:'))\n",
    "print('The cube of {0} is {1}'.format(number,cube(number)))"
   ]
  },
  {
   "cell_type": "code",
   "execution_count": null,
   "metadata": {},
   "outputs": [],
   "source": [
    "#print natural numbers\n",
    "def natural(a):\n",
    "    for i in range(1,a+1):\n",
    "        print(i,end = ' ')\n",
    "        i= i +1\n",
    "natural(10)\n"
   ]
  },
  {
   "cell_type": "code",
   "execution_count": null,
   "metadata": {},
   "outputs": [],
   "source": [
    "#print natural numbers using while loop\n",
    "def natural(n):\n",
    "    i = 1\n",
    "    while (i <=n):\n",
    "        print(i, end = ' ')\n",
    "        i = i + 1\n",
    "natural(10)\n",
    "        "
   ]
  },
  {
   "cell_type": "code",
   "execution_count": null,
   "metadata": {},
   "outputs": [],
   "source": [
    "# Python Program to Print Natural Numbers in Reverse Order\n",
    "def reverse(a):\n",
    "    i = a\n",
    "    while (i >= 1):\n",
    "        print(i,end = ' ')\n",
    "        i = i - 1\n",
    "reverse(10)"
   ]
  },
  {
   "cell_type": "code",
   "execution_count": null,
   "metadata": {},
   "outputs": [],
   "source": [
    "#Python Program to find Sum and Average of N Natural Numbers using For Loop\n",
    "def sum(n):\n",
    "   \n",
    "    sum = 0\n",
    "    avg = 0\n",
    "    for i in range(1,n+1):\n",
    "        sum = sum + i\n",
    "    print('The sum of first {0} numbers is:  {1}'.format(n,sum))\n",
    "    \n",
    "   \n",
    "    avg = sum / n\n",
    "    print('The average  of first {0} numbers is:  {1}'.format(n,avg))\n",
    "\n",
    "   \n",
    "n = int(input(\"Enter a number: \"))\n",
    "sum(n)\n",
    "   "
   ]
  },
  {
   "cell_type": "code",
   "execution_count": null,
   "metadata": {},
   "outputs": [],
   "source": [
    "#Python Program to find Sum and Average of N Natural Numbers using while Loop\n",
    "def sum(n):\n",
    "    sum = 0\n",
    "    avg = 0\n",
    "    total_numbers = n\n",
    "    \n",
    "    while (n >=0):\n",
    "        sum = sum + n\n",
    "        n = n -1\n",
    "\n",
    "    print('Sum is:',sum)\n",
    "    \n",
    "    avg = sum / total_numbers\n",
    "    print('The average  of first {0} numbers is:  {1}'.format(total_numbers,avg))\n",
    "    \n",
    "n = int(input('Enter a number: '))\n",
    "sum(n)"
   ]
  },
  {
   "cell_type": "code",
   "execution_count": null,
   "metadata": {},
   "outputs": [],
   "source": [
    "#Leap year\n",
    "\n",
    "def year(year):\n",
    "    if ((year % 400 == 0) or ((year % 4 == 0) and (year % 100 != 0)) ):\n",
    "        print('Leap year')\n",
    "    else:\n",
    "        print('Non leap')\n",
    "n = int(input('Enter the year: '))\n",
    "year(n)"
   ]
  },
  {
   "cell_type": "code",
   "execution_count": null,
   "metadata": {},
   "outputs": [],
   "source": [
    "#list of leap years in a range\n",
    "def year(x,y):\n",
    "    #start = 0 \n",
    "    sum = 0\n",
    "    for i in range(x, y):\n",
    "        #print(x,y)\n",
    "        if((i % 400 == 0) or ((i %4 == 0) and (i % 100 !=0))):\n",
    "            \n",
    "            print (i, end = ' ')\n",
    "            sum = sum + 1\n",
    "            i = i + 1   \n",
    "    print('\\nThe total number of years  is : ',sum)\n",
    "\n",
    "\n",
    "           \n",
    "    \n",
    "initial = int(input('Enter the initial year: '))\n",
    "final = int(input('Enter the  final year: '))\n",
    "print('The leap years in between ',initial,'and', final, 'are: ')\n",
    "\n",
    "year(initial,final)\n"
   ]
  },
  {
   "cell_type": "code",
   "execution_count": null,
   "metadata": {},
   "outputs": [],
   "source": [
    "# odd or even\n",
    "def test(x):\n",
    "    if x %2 == 0:\n",
    "        print('{0} is an even number'.format(x))\n",
    "    else:\n",
    "        print('{0} is and odd number'.format(x))\n",
    "\n",
    "n = int(input('Enter any number: '))\n",
    "test(n)"
   ]
  },
  {
   "cell_type": "code",
   "execution_count": null,
   "metadata": {},
   "outputs": [],
   "source": [
    "#Even numbers from 1 to 100\n",
    "\n",
    "for i in range(1,100+1):\n",
    "    if ( i % 2 == 0):\n",
    "        print(i, end = ' ')\n",
    "        i = i +1\n",
    "        "
   ]
  },
  {
   "cell_type": "code",
   "execution_count": null,
   "metadata": {},
   "outputs": [],
   "source": [
    "# odd numbers\n",
    "for i in range(1,100+1):\n",
    "    if ( i % 2 != 0):\n",
    "        print(i, end = ' ')\n",
    "        i = i +1"
   ]
  },
  {
   "cell_type": "code",
   "execution_count": null,
   "metadata": {},
   "outputs": [],
   "source": [
    "# positive or negative\n",
    "def test(x):\n",
    "    if x <=0:\n",
    "        print('positive')\n",
    "    else:\n",
    "        print('negative')\n",
    "x = int(input('Enter any number'))\n",
    "test(x)"
   ]
  },
  {
   "cell_type": "code",
   "execution_count": null,
   "metadata": {},
   "outputs": [],
   "source": [
    "#profit or loss\n",
    "def test(x, y, z):\n",
    "    if ( x > y):\n",
    "        z = x - y\n",
    "        print('The profit is: ',z)\n",
    "    elif( y > x):\n",
    "        z = y - x\n",
    "        print('The loss is:',z) \n",
    "    else:\n",
    "        return 0\n",
    "x = float(input('Enter the selling price: '))\n",
    "y = float(input('Enter the cost price: '))\n",
    "z = 0\n",
    "test(x,y,z)\n",
    "        "
   ]
  },
  {
   "cell_type": "code",
   "execution_count": null,
   "metadata": {},
   "outputs": [],
   "source": [
    "#square of a number\n",
    "x = float(input('Enter the number: '))\n",
    "square = x **2\n",
    "print('The square of the {0} is {1}:'.format(x,square))"
   ]
  },
  {
   "cell_type": "code",
   "execution_count": null,
   "metadata": {},
   "outputs": [],
   "source": [
    "#square root\n",
    "x = float(input('Enter the number: '))\n",
    "square = x **(1/2)\n",
    "print('The square of the {0} is {1}:'.format(x,square))\n"
   ]
  },
  {
   "cell_type": "code",
   "execution_count": null,
   "metadata": {},
   "outputs": [],
   "source": [
    "#compound interest\n",
    "def compound_interest(p,n,r,t):\n",
    "    return (p *(1+r/n)**(n*t))\n",
    "\n",
    "p = float(input('Enter the principal: '))\n",
    "n = int(input('Enter the number of years: '))\n",
    "r = float(input('Enter te interest rate:'))\n",
    "t = int(input('Enter the time: '))\n",
    "print('Compound interest is :$',compound_interest(p,n,r,t))\n"
   ]
  },
  {
   "cell_type": "code",
   "execution_count": null,
   "metadata": {},
   "outputs": [],
   "source": [
    "#Python Program to Check Number is Divisible by 5 and 11\n",
    "\n",
    "def div(x):\n",
    "    if (x % 5 == 0 ) and (x %11 ==0):\n",
    "        print('Given Number {0} is divisible by both 5 and 11'.format(x))\n",
    "    else:\n",
    "        print('Given Number {0} is not divisble by both 5 and 11'.format(x))\n",
    "n = int(input('Enter the digit to be checked: '))\n",
    "div(n)"
   ]
  },
  {
   "cell_type": "code",
   "execution_count": null,
   "metadata": {},
   "outputs": [],
   "source": [
    "#power of a number\n",
    "def power(x,y):\n",
    "    pow = x**y\n",
    "    return pow\n",
    "    \n",
    "    \n",
    "    \n",
    "n = int(input('Enter the number whose power you want to find: '))\n",
    "exp = int(input('Enter the power you want to find: '))\n",
    "print('The power of {0} to {1} is : '.format(n,exp),power(n,exp))"
   ]
  },
  {
   "cell_type": "code",
   "execution_count": null,
   "metadata": {},
   "outputs": [],
   "source": [
    "#power using for loop\n",
    "n = int(input('Enter any positive integer: '))\n",
    "exp = int(input('Enter an exponent  value: '))\n",
    "power = 1\n",
    "\n",
    "for i in range (1, exp + 1):\n",
    "    power = power * n\n",
    "print('The power of {0} to {1} is  =  {2} : '.format(n,exp,power))"
   ]
  },
  {
   "cell_type": "code",
   "execution_count": null,
   "metadata": {},
   "outputs": [],
   "source": [
    "#using while loop\n",
    "n = int(input('Enter any positive integer: '))\n",
    "exp = int(input('Enter an exponent  value: '))\n",
    "power = 1\n",
    "i = 1\n",
    "while (i <= exp):\n",
    "    power = power * n\n",
    "    i = i + 1\n",
    "    \n",
    "print('The result  of {0} to  power {1}  is  =  {2} : '.format(n,exp,power))\n",
    "\n",
    "    \n"
   ]
  },
  {
   "cell_type": "code",
   "execution_count": null,
   "metadata": {},
   "outputs": [],
   "source": [
    "#multiplication table\n",
    "# from 8 to 10 using for loop\n",
    "\n",
    "for i in range(8,11):\n",
    "    for j in range(1,11):\n",
    "        print('{0} * {1} = {2}'.format(i,j,i * j))\n",
    "    print('==============')"
   ]
  },
  {
   "cell_type": "code",
   "execution_count": null,
   "metadata": {},
   "outputs": [],
   "source": [
    "def mul(x,y):\n",
    "    product = 0\n",
    "    for i in range(x,y+1):\n",
    "        for j in range(1,11):\n",
    "            product =  i * j\n",
    "           \n",
    "            print('{0} * {1} ={2}'.format(i,j,product))\n",
    "            j = j +1\n",
    "            \n",
    "            #print('{0} * {1} = {2}'.format(i,j,i * j))\n",
    "        i = i + 1\n",
    "        print('+++++++++++')\n",
    "        \n",
    "mul(8,10)"
   ]
  },
  {
   "cell_type": "code",
   "execution_count": null,
   "metadata": {},
   "outputs": [],
   "source": [
    "\n",
    "product = 0\n",
    "n = int(input ('a number: '))\n",
    "for i in range(1,10):\n",
    "    product= n * i\n",
    "    print(n ,'*' ,i ,'=', product)\n",
    "    i = i +1\n",
    "    "
   ]
  },
  {
   "cell_type": "code",
   "execution_count": null,
   "metadata": {},
   "outputs": [],
   "source": [
    "# roots of a quadratic equation\n",
    "#ax^2 + bx + c = 0.discrimnant = b^2-(4ac)\n",
    "#D >0 two distinct real roots\n",
    "#D < 0 two distinct complex roots . no real solutions\n",
    "#D = 0 - two real and equal roots\n",
    "\n",
    "import math\n",
    "import cmath\n",
    "def quad(a,b,c):\n",
    "    discriminant = (b**2)-(4 * a *c)\n",
    "    print('The discriminat is : ',discriminant)\n",
    "    if discriminant > 0:\n",
    "        print('Two distinct real roots')\n",
    "        root1 = (-b + math.sqrt(discriminant)/ (2 * a))\n",
    "        root2 = (-b - math.sqrt(discriminant) / (2 * a))\n",
    "        return(root1,root2)\n",
    "    elif(discriminant == 0):\n",
    "        print('Two real and equal roots')\n",
    "        root1 = root2 = -b / (2 * a)\n",
    "        return(root1,root2)\n",
    "    elif(discriminant < 0):\n",
    "        print('Two complex roots. No real solution')\n",
    "        root1 = (-b-cmath.sqrt(discriminant)/(2*a))\n",
    "        root2 = (-b+cmath.sqrt(discriminant)/(2*a))\n",
    "        return (root1,root2)\n",
    "\n",
    "#ef(1,5,6)\n",
    "x= float(input('Enter the value of a: '))\n",
    "y =float(input('Enter the values of  b: '))\n",
    "z = float(input('Enter the values of  c: '))\n",
    "print('The roots are: ',quad(x,y,z))\n",
    "        "
   ]
  },
  {
   "cell_type": "code",
   "execution_count": null,
   "metadata": {},
   "outputs": [],
   "source": [
    "#Student Grade\n",
    "english = float(input(\" Please enter English Marks: \"))\n",
    "math = float(input(\" Please enter Math score: \"))\n",
    "computers = float(input(\" Please enter Computer Marks: \"))\n",
    "physics = float(input(\" Please enter Physics Marks: \"))\n",
    "chemistry = float(input(\" Please enter Chemistry Marks: \"))\n",
    "\n",
    "total = english + math + computers + physics + chemistry\n",
    "percentage = (total / 500) * 100\n",
    "\n",
    "print(\"Total Marks = %.2f\"  %total)\n",
    "print(\"Marks Percentage = %.2f\"  %percentage)\n",
    "\n",
    "if(percentage >= 90):\n",
    "    print(\"A Grade\")\n",
    "elif(percentage >= 80):\n",
    "    print(\"B Grade\")\n",
    "elif(percentage >= 70):\n",
    "    print(\"C Grade\")\n",
    "elif(percentage >= 60):\n",
    "    print(\"D Grade\")\n",
    "elif(percentage >= 40):\n",
    "    print(\"E Grade\")\n",
    "else:\n",
    "    print(\"Fail”)\n"
   ]
  },
  {
   "cell_type": "code",
   "execution_count": null,
   "metadata": {},
   "outputs": [],
   "source": [
    "#simple interest\n",
    "def si(p,r,t):\n",
    "    simple_interest = (p * r * t)/100\n",
    "    return simple_interest\n",
    "\n",
    "principal = float(input('Enter the principal: '))\n",
    "rate = float(input('Enter the interest rate: '))\n",
    "time = int(input('Enter the time: '))\n",
    "\n",
    "print('The Simple interest is: ',si(principal,rate,time))"
   ]
  },
  {
   "cell_type": "code",
   "execution_count": null,
   "metadata": {},
   "outputs": [],
   "source": [
    "#sum on Natural numbers\n",
    "def nat_sum(x):\n",
    "    total = 0\n",
    "    for i in range(1,x+1):\n",
    "        total = total + i\n",
    "        #i = i + 1\n",
    "    return(total)\n",
    "\n",
    "n = int(input('Enter the natural number: '))\n",
    "print('The sum of first {0} natural numbers is :{1}  '.format(n,(nat_sum(n))))\n"
   ]
  },
  {
   "cell_type": "code",
   "execution_count": null,
   "metadata": {},
   "outputs": [],
   "source": [
    "#Sum of even and odd numbers .\n",
    "def sum_even_odd(x):\n",
    "    even_sum = 0\n",
    "    odd_sum = 0\n",
    "    for i in range(1,x+1):\n",
    "        if(i % 2 == 0):\n",
    "            even_sum = even_sum + i\n",
    "            \n",
    "        else:\n",
    "            odd_sum = odd_sum + i\n",
    "    print('even_sum',even_sum)\n",
    "    print('odd_sum',odd_sum)\n",
    "\n",
    "l = int(input('Enter the limit: '))  \n",
    "sum_even_odd(l)\n",
    "\n",
    "    \n",
    "\n",
    "\n"
   ]
  },
  {
   "cell_type": "code",
   "execution_count": null,
   "metadata": {},
   "outputs": [],
   "source": []
  }
 ],
 "metadata": {
  "kernelspec": {
   "display_name": "Python 3",
   "language": "python",
   "name": "python3"
  },
  "language_info": {
   "codemirror_mode": {
    "name": "ipython",
    "version": 3
   },
   "file_extension": ".py",
   "mimetype": "text/x-python",
   "name": "python",
   "nbconvert_exporter": "python",
   "pygments_lexer": "ipython3",
   "version": "3.6.7"
  }
 },
 "nbformat": 4,
 "nbformat_minor": 2
}
