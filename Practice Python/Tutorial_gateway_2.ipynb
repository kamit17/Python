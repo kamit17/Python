{
 "cells": [
  {
   "cell_type": "code",
   "execution_count": null,
   "metadata": {},
   "outputs": [],
   "source": [
    "#Count number of digits in a number:\n",
    "num = int(input('Enter any number: '))\n",
    "count = 0\n",
    "while(num > 0):\n",
    "    num = num //10\n",
    "    count = count+1\n",
    "print('the number of digits is : ',count)"
   ]
  },
  {
   "cell_type": "code",
   "execution_count": null,
   "metadata": {},
   "outputs": [],
   "source": [
    "#number of digits using function\n",
    "\n",
    "def count(num):\n",
    "    count = 0\n",
    "    while(num > 0):\n",
    "        num = num //10\n",
    "        count = count + 1\n",
    "    print(count)\n",
    "count(1234)"
   ]
  },
  {
   "cell_type": "code",
   "execution_count": null,
   "metadata": {},
   "outputs": [],
   "source": [
    "#Count number of digits using recursion\n",
    "\n",
    "count = 0\n",
    "def counting(num):\n",
    "    global count\n",
    "    if(num >0):\n",
    "        count = count + 1\n",
    "        counting(num //10)\n",
    "    return count\n",
    "    \n",
    "num = int(input('Ener any number: '))\n",
    "count = counting(num)\n",
    "print('The number of digits in given number is {0}'.format(count))"
   ]
  },
  {
   "cell_type": "code",
   "execution_count": null,
   "metadata": {},
   "outputs": [],
   "source": [
    "#fibonacci Series\n",
    "#every number is the sum of the two preceding ones\n",
    "num = int(input('Enter a number: '))\n",
    "\n",
    "#initializing first and second values of the series\n",
    "\n",
    "i = 0\n",
    "first_value = 0\n",
    "second_value = 1\n",
    "\n",
    "#find and display fibonacci series\n",
    "\n",
    "while ( i < num):\n",
    "    if ( i <= 1):\n",
    "        next = i\n",
    "    else:\n",
    "        next = first_value+ second_value\n",
    "        first_value = second_value\n",
    "        second_value = next\n",
    "    print(next)\n",
    "    i = i + 1\n"
   ]
  },
  {
   "cell_type": "code",
   "execution_count": null,
   "metadata": {},
   "outputs": [],
   "source": [
    "#Fibonacci using for loop\n",
    "num = int(input('Enter a number: '))\n",
    "\n",
    "#initializing first and second values of the series\n",
    "\n",
    "i = 0\n",
    "first_value = 0\n",
    "second_value = 1\n",
    "\n",
    "#find and display fibonacci series\n",
    "for i in range(0,num):\n",
    "    if i <=1:\n",
    "        \n",
    "        next = i\n",
    "    else:\n",
    "        \n",
    "        next = first_value+ second_value\n",
    "        first_value = second_value\n",
    "        second_value = next\n",
    "    print(next)\n"
   ]
  },
  {
   "cell_type": "code",
   "execution_count": null,
   "metadata": {},
   "outputs": [],
   "source": [
    "#fibonacci using recursion\n",
    "\n",
    "def fibonacci(num):\n",
    "    if(num == 0):\n",
    "        return 0\n",
    "    elif(num == 1):\n",
    "        return 1\n",
    "    else:\n",
    "        return(fibonacci(num - 2)+ fibonacci(num - 1))\n",
    "    \n",
    "num = int(input('Enter the range: '))\n",
    "\n",
    "for num in range(0,num):\n",
    "    print(fibonacci(num), end = ' ')"
   ]
  },
  {
   "cell_type": "code",
   "execution_count": null,
   "metadata": {},
   "outputs": [],
   "source": [
    "#factors of a number\n",
    "#Integers that are completely divisible by a given number (it means remainder = 0) are called as factors.\n",
    "num = int(input('Enter any number: '))\n",
    "print('Factors of the number {0} are: '.format(num))\n",
    "for i in range(1,num+1):\n",
    "    if num % i == 0 :\n",
    "        print('{0}'.format(i))"
   ]
  },
  {
   "cell_type": "code",
   "execution_count": null,
   "metadata": {},
   "outputs": [],
   "source": [
    "#factorial of a number\n",
    "#n! = n * (n-1) * (n -2) * …….* 1\n",
    "n = int(input('Enter the number: '))\n",
    "fact = 1\n",
    "for i in range(1,n+1):\n",
    "    fact = fact * i\n",
    "print('Factorial is ',fact)\n",
    "\n"
   ]
  },
  {
   "cell_type": "code",
   "execution_count": null,
   "metadata": {},
   "outputs": [],
   "source": [
    "#factorial using while loop\n",
    "n = int(input('Enter the number: '))\n",
    "fact = 1\n",
    "i = 1\n",
    "\n",
    "while i <= n:\n",
    "    fact = fact  * i\n",
    "    i = i + 1\n",
    "print('Factorial is ',fact)"
   ]
  },
  {
   "cell_type": "code",
   "execution_count": null,
   "metadata": {},
   "outputs": [],
   "source": [
    "#Factorial using function\n",
    "def factorial(num):\n",
    "    fact = 1\n",
    "    for i in range(1,n+1):\n",
    "        fact = fact * i\n",
    "    return fact\n",
    "\n",
    "n = int(input('Enter any number: '))\n",
    "print('the factorial of {0} is {1}'.format(n,factorial(n)))"
   ]
  },
  {
   "cell_type": "code",
   "execution_count": null,
   "metadata": {},
   "outputs": [],
   "source": [
    "#factorial using recursion\n",
    "def factorial(num):\n",
    "    if num == 0 or num == 1:\n",
    "        return 1\n",
    "    else:\n",
    "        return num * factorial(num - 1)\n",
    "n = int(input('Enter any number: '))\n",
    "print('the factorial of {0} is {1}'.format(n,factorial(n)))"
   ]
  },
  {
   "cell_type": "code",
   "execution_count": null,
   "metadata": {},
   "outputs": [],
   "source": [
    "#factorial using built in function\n",
    "import math\n",
    "number = int(input('Enter a number: '))\n",
    "fact = math.factorial(number)\n",
    "\n",
    "print('Factorial of {0} is {1}'.format(number,fact))"
   ]
  },
  {
   "cell_type": "code",
   "execution_count": null,
   "metadata": {},
   "outputs": [],
   "source": [
    "#first digit of a  number\n",
    "num = int(input('Enter any number: '))\n",
    "first_digit = num\n",
    "while(first_digit >=10):\n",
    "    first_digit = first_digit //10\n",
    "    \n",
    "#print(first_digit)\n",
    "print('The first digit of the number {0} is {1}'.format(num,first_digit))\n"
   ]
  },
  {
   "cell_type": "code",
   "execution_count": null,
   "metadata": {},
   "outputs": [],
   "source": [
    "#first_digit using functions\n",
    "def first_digit(number):\n",
    "    while(number >=10):\n",
    "        number = number //10\n",
    "    return number\n",
    "\n",
    "num = int(input('Enter any number: '))\n",
    "\n",
    "first_digit = first_digit(num)\n",
    "print('The first digit of the number {0} is {1}'.format(num,first_digit))\n",
    "\n"
   ]
  },
  {
   "cell_type": "code",
   "execution_count": null,
   "metadata": {},
   "outputs": [],
   "source": [
    "#GCD of two numbers\n",
    "'''#GCD :Given two integers, the GCD is the largest positive integer \n",
    "that divides the numbers without a remainder. \n",
    "For example, the GCD of 32 and 24 is 8.'''\n",
    "\n",
    "n1 = 48\n",
    "n2 = 36\n",
    "if (n1>n2):\n",
    "    smaller = n2\n",
    "else:\n",
    "    smaller = n1\n",
    "i = 1\n",
    "while(i <= smaller):\n",
    "    if ( n1 % i == 0 and n2 % i == 0):\n",
    "        gcd = i\n",
    "    i = i + 1\n",
    "print('GCD = ', gcd)\n"
   ]
  },
  {
   "cell_type": "code",
   "execution_count": null,
   "metadata": {},
   "outputs": [],
   "source": [
    "a = float(input('Enter first value a: '))\n",
    "b = float(input('Enter second value b: '))\n",
    "\n",
    "i = 1\n",
    "while(i <= a and i <=b):\n",
    "    if ( a % i == 0 and b % i == 0):\n",
    "        gcd = i\n",
    "    i = i + 1\n",
    "    \n",
    "print('GCD of {0} and {1} is {2}'.format(a,b,gcd))"
   ]
  },
  {
   "cell_type": "code",
   "execution_count": null,
   "metadata": {},
   "outputs": [],
   "source": [
    "#GCD using temp variable\n",
    "a= float(input('Enter first value a: '))\n",
    "b = float(input('Enter second value b: '))\n",
    "num1 = a\n",
    "num2 = b\n",
    "while ( b !=0):\n",
    "    temp = b\n",
    "    b = a % b\n",
    "    a = temp\n",
    "gcd = a\n",
    "print('GCD of {0} and {1} is {2}'.format(num1,num2,gcd))"
   ]
  },
  {
   "cell_type": "code",
   "execution_count": null,
   "metadata": {},
   "outputs": [],
   "source": [
    "#GCD without using temp variable\n",
    "a= float(input('Enter first value a: '))\n",
    "b = float(input('Enter second value b: '))\n",
    "num1 = a\n",
    "num2 = b\n",
    "if (a == 0 ):\n",
    "    print('HCF of {0} and {1} is {2}'.format(num1, num2,num2))\n",
    "\n",
    "while(b !=0):\n",
    "    if(a > b):\n",
    "        a = a-b\n",
    "    else:\n",
    "        b = b - a\n",
    "gcd = a\n",
    "print('GCD of {0} and {1} is {2}'.format(num1,num2,gcd))"
   ]
  },
  {
   "cell_type": "code",
   "execution_count": null,
   "metadata": {},
   "outputs": [],
   "source": [
    "#GCD using recursion\n",
    "def gcd(a,b):\n",
    "    if ( b == 0):\n",
    "        return a\n",
    "    else:\n",
    "        return gcd(b,a%b)\n",
    "num1  = float(input('Enter the first value: '))\n",
    "num2 = float(input('Enter the second value: '))\n",
    "\n",
    "gcd = gcd(num1, num2)\n",
    "print('The GCD of {0} and {1} is {2}'.format(num1,num2,gcd))"
   ]
  },
  {
   "cell_type": "code",
   "execution_count": null,
   "metadata": {},
   "outputs": [],
   "source": []
  }
 ],
 "metadata": {
  "kernelspec": {
   "display_name": "Python 3",
   "language": "python",
   "name": "python3"
  },
  "language_info": {
   "codemirror_mode": {
    "name": "ipython",
    "version": 3
   },
   "file_extension": ".py",
   "mimetype": "text/x-python",
   "name": "python",
   "nbconvert_exporter": "python",
   "pygments_lexer": "ipython3",
   "version": "3.6.7"
  }
 },
 "nbformat": 4,
 "nbformat_minor": 2
}
