{
 "cells": [
  {
   "cell_type": "code",
   "execution_count": null,
   "metadata": {},
   "outputs": [],
   "source": [
    "items = ['red','orange','yellow','green']\n",
    "for item in items:\n",
    "    print(item)"
   ]
  },
  {
   "cell_type": "code",
   "execution_count": null,
   "metadata": {},
   "outputs": [],
   "source": [
    "'''in this version number does not change'''\n",
    "items = ['red','orange','yellow','green']\n",
    "number = 1\n",
    "for item in items:\n",
    "    print(number,item)"
   ]
  },
  {
   "cell_type": "code",
   "execution_count": null,
   "metadata": {},
   "outputs": [],
   "source": [
    "items = ['red','orange','yellow','green']\n",
    "number = 1\n",
    "for item in items:  #print numbered entries\n",
    "    print(number,item)\n",
    "    number = number + 1"
   ]
  },
  {
   "cell_type": "code",
   "execution_count": null,
   "metadata": {},
   "outputs": [],
   "source": [
    "def m(x):\n",
    "    return 5*x\n",
    "y = 3\n",
    "print(m(y) + m(2*y-1))"
   ]
  },
  {
   "cell_type": "code",
   "execution_count": null,
   "metadata": {},
   "outputs": [],
   "source": [
    "#finding slope of a line\n",
    " #m = y2-y1/x2-x1\n",
    "    \n",
    "def slope(x1,y1,x2,y2):\n",
    "    return float((y2-y1)/(x2-x1))\n",
    "\n",
    "x1=0\n",
    "x2=-3\n",
    "y1=5\n",
    "y2=4\n",
    "\n",
    "print('Slope is: ',slope(x1,y1,x2,y2))\n"
   ]
  },
  {
   "cell_type": "code",
   "execution_count": null,
   "metadata": {},
   "outputs": [],
   "source": [
    "pip install matplotlib"
   ]
  },
  {
   "cell_type": "code",
   "execution_count": null,
   "metadata": {},
   "outputs": [],
   "source": [
    "print('The first price is : ',input(float(first price)))"
   ]
  },
  {
   "cell_type": "code",
   "execution_count": null,
   "metadata": {},
   "outputs": [],
   "source": [
    "\n",
    "printfirstprice = input()\n",
    "print('The first price is : ',(float(firstprice)))\n",
    "\n",
    "secondprice= input()\n",
    "print('The Second price is : ',(float(secondprice)))\n",
    "\n",
    "discount = input()\n",
    "print('The discount is : ',(float(discount)))"
   ]
  },
  {
   "cell_type": "code",
   "execution_count": null,
   "metadata": {},
   "outputs": [],
   "source": [
    "def call(actual):\n",
    "    print('First price is : ')\n",
    "    FirstPrice = float(input())\n",
    "    print('Discount is : ')\n",
    "    Discount = float(input())\n",
    "    \n",
    "\n"
   ]
  },
  {
   "cell_type": "code",
   "execution_count": null,
   "metadata": {},
   "outputs": [],
   "source": [
    "\n",
    "def actual(FirstPrice,discount):\n",
    "    return(1-(discount/100))*FirstPrice"
   ]
  },
  {
   "cell_type": "code",
   "execution_count": null,
   "metadata": {},
   "outputs": [],
   "source": []
  }
 ],
 "metadata": {
  "kernelspec": {
   "display_name": "Python 3",
   "language": "python",
   "name": "python3"
  },
  "language_info": {
   "codemirror_mode": {
    "name": "ipython",
    "version": 3
   },
   "file_extension": ".py",
   "mimetype": "text/x-python",
   "name": "python",
   "nbconvert_exporter": "python",
   "pygments_lexer": "ipython3",
   "version": "3.6.7"
  }
 },
 "nbformat": 4,
 "nbformat_minor": 2
}
