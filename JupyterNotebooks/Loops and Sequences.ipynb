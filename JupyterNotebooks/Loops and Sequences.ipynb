{
 "cells": [
  {
   "cell_type": "code",
   "execution_count": 1,
   "metadata": {},
   "outputs": [
    {
     "name": "stdout",
     "output_type": "stream",
     "text": [
      "red\n",
      "orange\n",
      "yellow\n",
      "green\n"
     ]
    }
   ],
   "source": [
    "items = ['red','orange','yellow','green']\n",
    "for item in items:\n",
    "    print(item)"
   ]
  },
  {
   "cell_type": "code",
   "execution_count": 2,
   "metadata": {},
   "outputs": [
    {
     "name": "stdout",
     "output_type": "stream",
     "text": [
      "1 red\n",
      "1 orange\n",
      "1 yellow\n",
      "1 green\n"
     ]
    }
   ],
   "source": [
    "'''in this version number does not change'''\n",
    "items = ['red','orange','yellow','green']\n",
    "number = 1\n",
    "for item in items:\n",
    "    print(number,item)"
   ]
  },
  {
   "cell_type": "code",
   "execution_count": 10,
   "metadata": {},
   "outputs": [
    {
     "name": "stdout",
     "output_type": "stream",
     "text": [
      "1 red\n",
      "2 orange\n",
      "3 yellow\n",
      "4 green\n"
     ]
    }
   ],
   "source": [
    "items = ['red','orange','yellow','green']\n",
    "number = 1\n",
    "for item in items:  #print numbered entries\n",
    "    print(number,item)\n",
    "    number = number + 1"
   ]
  },
  {
   "cell_type": "code",
   "execution_count": 1,
   "metadata": {},
   "outputs": [
    {
     "name": "stdout",
     "output_type": "stream",
     "text": [
      "40\n"
     ]
    }
   ],
   "source": [
    "def m(x):\n",
    "    return 5*x\n",
    "y = 3\n",
    "print(m(y) + m(2*y-1))"
   ]
  },
  {
   "cell_type": "code",
   "execution_count": 6,
   "metadata": {},
   "outputs": [
    {
     "name": "stdout",
     "output_type": "stream",
     "text": [
      "Slope is:  0.3333333333333333\n"
     ]
    }
   ],
   "source": [
    "#finding slope of a line\n",
    " #m = y2-y1/x2-x1\n",
    "    \n",
    "def slope(x1,y1,x2,y2):\n",
    "    return float((y2-y1)/(x2-x1))\n",
    "\n",
    "x1=0\n",
    "x2=-3\n",
    "y1=5\n",
    "y2=4\n",
    "\n",
    "print('Slope is: ',slope(x1,y1,x2,y2))\n"
   ]
  },
  {
   "cell_type": "code",
   "execution_count": 7,
   "metadata": {},
   "outputs": [
    {
     "name": "stdout",
     "output_type": "stream",
     "text": [
      "\n",
      "The following command must be run outside of the IPython shell:\n",
      "\n",
      "    $ pip install matplotlib\n",
      "\n",
      "The Python package manager (pip) can only be used from outside of IPython.\n",
      "Please reissue the `pip` command in a separate terminal or command prompt.\n",
      "\n",
      "See the Python documentation for more information on how to install packages:\n",
      "\n",
      "    https://docs.python.org/3/installing/\n"
     ]
    }
   ],
   "source": [
    "pip install matplotlib"
   ]
  },
  {
   "cell_type": "code",
   "execution_count": 8,
   "metadata": {},
   "outputs": [
    {
     "ename": "SyntaxError",
     "evalue": "invalid syntax (<ipython-input-8-8c7bdb25731d>, line 1)",
     "output_type": "error",
     "traceback": [
      "\u001b[1;36m  File \u001b[1;32m\"<ipython-input-8-8c7bdb25731d>\"\u001b[1;36m, line \u001b[1;32m1\u001b[0m\n\u001b[1;33m    print('The first price is : ',input(float(first price)))\u001b[0m\n\u001b[1;37m                                                        ^\u001b[0m\n\u001b[1;31mSyntaxError\u001b[0m\u001b[1;31m:\u001b[0m invalid syntax\n"
     ]
    }
   ],
   "source": [
    "print('The first price is : ',input(float(first price)))"
   ]
  },
  {
   "cell_type": "code",
   "execution_count": 10,
   "metadata": {},
   "outputs": [
    {
     "name": "stdout",
     "output_type": "stream",
     "text": [
      "23.29\n",
      "The first price is :  23.29\n",
      "22.49\n",
      "The Second price is :  22.49\n",
      "5\n",
      "The discount is :  5.0\n"
     ]
    }
   ],
   "source": [
    "\n",
    "printfirstprice = input()\n",
    "print('The first price is : ',(float(firstprice)))\n",
    "\n",
    "secondprice= input()\n",
    "print('The Second price is : ',(float(secondprice)))\n",
    "\n",
    "discount = input()\n",
    "print('The discount is : ',(float(discount)))"
   ]
  },
  {
   "cell_type": "code",
   "execution_count": null,
   "metadata": {},
   "outputs": [],
   "source": [
    "def call(actual):\n",
    "    print('First price is : ')\n",
    "    FirstPrice = float(input())\n",
    "    print('Discount is : ')\n",
    "    Discount = float(input())\n",
    "    \n",
    "\n"
   ]
  },
  {
   "cell_type": "code",
   "execution_count": null,
   "metadata": {},
   "outputs": [],
   "source": [
    "\n",
    "def actual(FirstPrice,discount):\n",
    "    return(1-(discount/100))*FirstPrice"
   ]
  },
  {
   "cell_type": "code",
   "execution_count": null,
   "metadata": {},
   "outputs": [],
   "source": []
  }
 ],
 "metadata": {
  "kernelspec": {
   "display_name": "Python 3",
   "language": "python",
   "name": "python3"
  },
  "language_info": {
   "codemirror_mode": {
    "name": "ipython",
    "version": 3
   },
   "file_extension": ".py",
   "mimetype": "text/x-python",
   "name": "python",
   "nbconvert_exporter": "python",
   "pygments_lexer": "ipython3",
   "version": "3.6.5"
  }
 },
 "nbformat": 4,
 "nbformat_minor": 2
}
