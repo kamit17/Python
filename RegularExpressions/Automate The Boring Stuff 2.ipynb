{
 "cells": [
  {
   "cell_type": "code",
   "execution_count": null,
   "metadata": {},
   "outputs": [],
   "source": [
    "#matching a  pattern optionally\n",
    "import re\n",
    "\n",
    "batRegex = re.compile(r'Bat(wo)?man')\n",
    "mo1 = batRegex.search('The adventures of Batman')\n",
    "print(mo1.group())\n",
    "mo2 = batRegex.search(\"The Adventures of Batwoman\")\n",
    "print(mo2.group())\n"
   ]
  },
  {
   "cell_type": "code",
   "execution_count": null,
   "metadata": {},
   "outputs": [],
   "source": [
    "#maching zero or more with Star\n",
    "batRegex = re.compile(r'Bat(wo)*man')\n",
    "mo1 = batRegex.search('The adventures of Batman')\n",
    "print(mo1.group())\n",
    "mo2 = batRegex.search(\"The Adventures of Batwoman\")\n",
    "print(mo2.group())\n",
    "mo3 = batRegex.search(\"The Adventures of Batwowoman\")\n",
    "print(mo3.group())\n",
    "\n",
    "\n"
   ]
  },
  {
   "cell_type": "code",
   "execution_count": null,
   "metadata": {},
   "outputs": [],
   "source": [
    "#Matching One or More with the Plus\n",
    "batRegex = re.compile(r'Bat(wo)+man')\n",
    "mo1 = batRegex.search(\"The Adventures of Batwoman\")\n",
    "print(mo1.group())\n",
    "mo2 = batRegex.search(\"The Adventures of Batwowowowowowowowowowowowowowowowowowowowowowowowowowowowowoman\")\n",
    "print(mo2.group())\n",
    "mo3 = batRegex.search(\"The Adventures of Batman\")\n",
    "mo3 ==None\n",
    "#print(mo3.group())\n",
    "\n",
    "\n",
    "\n"
   ]
  },
  {
   "cell_type": "code",
   "execution_count": null,
   "metadata": {},
   "outputs": [],
   "source": [
    "#Matching Specific Repetitions with Curly Brackets\n",
    "haRegex = re.compile(r'(Ha){3,5}')\n",
    "mo1 = haRegex.search('HaHaHaHaHaHa')\n",
    "print(mo1.group())"
   ]
  },
  {
   "cell_type": "code",
   "execution_count": null,
   "metadata": {},
   "outputs": [],
   "source": [
    "#Greedy and Non Greedy matching\n",
    "nongreedyHaRegex = re.compile(r'(Ha){3,5}?')\n",
    "mo2 = nongreedyHaRegex.search('HaHaHaHaHa')\n",
    "print(mo2.group())"
   ]
  },
  {
   "cell_type": "code",
   "execution_count": null,
   "metadata": {},
   "outputs": [],
   "source": []
  }
 ],
 "metadata": {
  "kernelspec": {
   "display_name": "Python 3",
   "language": "python",
   "name": "python3"
  },
  "language_info": {
   "codemirror_mode": {
    "name": "ipython",
    "version": 3
   },
   "file_extension": ".py",
   "mimetype": "text/x-python",
   "name": "python",
   "nbconvert_exporter": "python",
   "pygments_lexer": "ipython3",
   "version": "3.6.4"
  }
 },
 "nbformat": 4,
 "nbformat_minor": 2
}
