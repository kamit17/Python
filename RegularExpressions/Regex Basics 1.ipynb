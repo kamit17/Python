{
 "cells": [
  {
   "cell_type": "markdown",
   "metadata": {},
   "source": [
    "# Wild Cards used in regular expressions\n"
   ]
  },
  {
   "cell_type": "code",
   "execution_count": null,
   "metadata": {},
   "outputs": [],
   "source": [
    ". - matches single character (except newline)\n",
    "\\w - matches any letter, digit or underscore (just one)\n",
    "\\s - matches exactly on whitespace character\n",
    "\\t - tab\n",
    "\\d - matches digits from 0 to 9\n",
    "\\n - newline\n",
    "[xy] - x or y\n",
    "[a-zA-Z] - matches letters from (a to z) or (A to Z)\n",
    "\\A - matches the start of the string\n",
    "\\b -matches the beginning or end of the string.\n",
    "\n"
   ]
  },
  {
   "cell_type": "markdown",
   "metadata": {},
   "source": [
    "# Python Regex match"
   ]
  },
  {
   "cell_type": "code",
   "execution_count": null,
   "metadata": {},
   "outputs": [],
   "source": [
    "#Method Match\n",
    "\n",
    "import re\n",
    "\n",
    "pattern = r'Cheese'\n",
    "text = 'Cheese is a diary product derived from milk'\n",
    "print(re.match(pattern, text).span())"
   ]
  },
  {
   "cell_type": "markdown",
   "metadata": {},
   "source": [
    "# Python regex search"
   ]
  },
  {
   "cell_type": "code",
   "execution_count": null,
   "metadata": {},
   "outputs": [],
   "source": [
    "#re.search(pattern,text)\n",
    "#returns the start and the end of the word need to be found in the string sequence\n",
    "\n",
    "import re\n",
    "\n",
    "pattern = r'Cheese'\n",
    "text = \"Do you know that: Cheese is a dairy product derived from milk that is produced in a wide..\"\n",
    "\n",
    "print(re.search(pattern, text).span())\n"
   ]
  },
  {
   "cell_type": "markdown",
   "metadata": {},
   "source": [
    "# python regular expression findall"
   ]
  },
  {
   "cell_type": "code",
   "execution_count": null,
   "metadata": {},
   "outputs": [],
   "source": [
    "#Search for a pttern and extract ehe whole sentence containintg the word\n",
    "#Program searches for the word milk and extracts the sentence \n",
    "import re\n",
    "\n",
    "pattern = r'([^.]*milk[^.]*)'\n",
    "text = \"Do you know that: Cheese is a dairy product derived from milk that is produced in a wide..\"\n",
    "\n",
    "print(re.findall(pattern, text))"
   ]
  },
  {
   "cell_type": "code",
   "execution_count": 1,
   "metadata": {},
   "outputs": [],
   "source": []
  },
  {
   "cell_type": "code",
   "execution_count": null,
   "metadata": {},
   "outputs": [],
   "source": []
  }
 ],
 "metadata": {
  "kernelspec": {
   "display_name": "Python 3",
   "language": "python",
   "name": "python3"
  },
  "language_info": {
   "codemirror_mode": {
    "name": "ipython",
    "version": 3
   },
   "file_extension": ".py",
   "mimetype": "text/x-python",
   "name": "python",
   "nbconvert_exporter": "python",
   "pygments_lexer": "ipython3",
   "version": "3.6.4"
  }
 },
 "nbformat": 4,
 "nbformat_minor": 2
}
