{
 "cells": [
  {
   "cell_type": "markdown",
   "metadata": {},
   "source": [
    "# Python Regex to match dates"
   ]
  },
  {
   "cell_type": "code",
   "execution_count": null,
   "metadata": {},
   "outputs": [],
   "source": [
    "import re"
   ]
  },
  {
   "cell_type": "code",
   "execution_count": null,
   "metadata": {},
   "outputs": [],
   "source": [
    "# Regex matching dd/mm/yyyy\n",
    "#[\\d]{1,2} - match one or two digits\n",
    "#[\\d]{4} - match exactly 4 digits\n",
    "#separator is /\n",
    "\n",
    "\n",
    "import re\n",
    "\n",
    "# Matching capital letters\n",
    "\n",
    "str = \"\"\"COBOL is a compiled English-like computer programming language designed for business use. 122. On 10/10/2015 is a big date unlike 1/11/2010 \"\"\"\n",
    "\n",
    "all = re.findall(r\"[\\d]{1,2}/[\\d]{1,2}/[\\d]{4}\", str)\n",
    "\n",
    "for s in all:\n",
    "    print(s)\n"
   ]
  },
  {
   "cell_type": "code",
   "execution_count": null,
   "metadata": {},
   "outputs": [],
   "source": [
    "#Date format = dd-mm-yyyy\n",
    "#[\\d]{1,2} - match one or two digits\n",
    "#separator is -\n",
    "\n",
    "import re\n",
    "\n",
    "str = \"\"\"COBOL is a compiled English-like computer programming language designed for business use. 122. On 10-10-15 is a big date unlike 1-11-10 \"\"\"\n",
    "\n",
    "all = re.findall(r'[\\d]{1,2}-[\\d]{1,2}-[\\d]{2}',str)\n",
    "\n",
    "for s in all:\n",
    "    print(s)"
   ]
  },
  {
   "cell_type": "code",
   "execution_count": null,
   "metadata": {},
   "outputs": [],
   "source": [
    "#Date format - dd/november/yyyy dd/ month/yyyy\n",
    "#[ADFJMNOS]\\w* - Match big letter from ADFJMNOS followed by another letters\n",
    "import re\n",
    "\n",
    "# Matching capital letters\n",
    "\n",
    "str = \"\"\"COBOL is a compiled English-like computer programming language designed for business use. 122. On 10 October 2015 is a big date unlike 1 NOV 2010 \"\"\"\n",
    "\n",
    "all = re.findall(r\"[\\d]{1,2} [ADFJMNOS]\\w* [\\d]{4}\", str) \n",
    "#all = re.findall(r\"[\\d]{1,2} [a-z A-Z]\\w* [\\d]{4}\", str) # This also works\n",
    "\n",
    "\n",
    "for s in all:\n",
    "    print(s)\n"
   ]
  },
  {
   "cell_type": "markdown",
   "metadata": {},
   "source": [
    "# Python regex match examples"
   ]
  },
  {
   "cell_type": "code",
   "execution_count": null,
   "metadata": {},
   "outputs": [],
   "source": [
    "#Matching sentences single line string\n",
    "\n",
    "\n",
    "#finds all sentecnes separated by dot,exclamation mark or question mark\n",
    "\n",
    "import re\n",
    "\n",
    "str = \"\"\"Python is an interpreted high-level programming language for general-purpose programming? Created by Guido van Rossum and first released in 1991! Python has a design philosophy that emphasizes code readability, and a syntax that allows programmers to express concepts in fewer lines of code, notably using ...\"\"\"\n",
    "\n",
    "pattern = re.findall(r'\\w+[^.!?]*[.!?]',str)\n",
    "\n",
    "for s in pattern:\n",
    "    print(s)\n",
    "\n"
   ]
  },
  {
   "cell_type": "code",
   "execution_count": null,
   "metadata": {},
   "outputs": [],
   "source": [
    "#matching e-mail address using group\n",
    "\n",
    "import re\n",
    "email_address = 'Please contact us at : support@python.org'\n",
    "match = re.search(r'([\\w\\.]+)@([\\w\\.-]+)',email_address)\n",
    "                  \n",
    "if match:\n",
    "    print(match.group())#the whole matched text\n",
    "    print(match.group(1))#the username (group1)\n",
    "    print(match.group(2))"
   ]
  },
  {
   "cell_type": "code",
   "execution_count": null,
   "metadata": {},
   "outputs": [],
   "source": [
    "import re\n",
    "line = \"dance more\"\n",
    "result = re.match(r'[^\\d+]',line)\n",
    "print(result)"
   ]
  },
  {
   "cell_type": "code",
   "execution_count": null,
   "metadata": {},
   "outputs": [],
   "source": [
    "string = '\\n dreamer'\n",
    "result = re.search(r'\\w+',string,re.MULTILINE)\n",
    "print(result.group())"
   ]
  },
  {
   "cell_type": "code",
   "execution_count": null,
   "metadata": {},
   "outputs": [],
   "source": [
    "#python program to monetize numbers using thousand separator commas\n",
    "\n",
    "import re\n",
    "number = input('Enter your number')\n",
    "\n",
    "def monetizer(number):\n",
    "    #This functin adds a thousand separator using comma characters.\n",
    "    number = str(number)\n",
    "    try:\n",
    "        if type(int(number))== int:\n",
    "        #Format into groups of three from the right to the left\n",
    "            pattern = re.compile(r'\\d{1,3}(?=(\\d{3})+(?!\\d))')\n",
    "        \n",
    "        #substitute with a comma then return\n",
    "            return pattern.sub(r'\\g<0>,',number)\n",
    "    except:\n",
    "        return \"Not Number\"\n",
    "#Function call, passing in number as argument\n",
    "print(monetizer(number))"
   ]
  },
  {
   "cell_type": "code",
   "execution_count": null,
   "metadata": {},
   "outputs": [],
   "source": [
    "\n",
    "\n",
    "import re\n",
    "pattern = re.compile(r'\\[on|off\\]')\n",
    "print(re.search(pattern, \"Mono: Playback 65 [75%] [-16.50dB][on]\"))\n",
    "\n",
    "#Returns a Match Object!\n",
    "print(re.search(pattern, \"Nada...:-(\"))\n",
    "                    "
   ]
  },
  {
   "cell_type": "code",
   "execution_count": 1,
   "metadata": {},
   "outputs": [
    {
     "ename": "NameError",
     "evalue": "name 'string' is not defined",
     "output_type": "error",
     "traceback": [
      "\u001b[0;31m---------------------------------------------------------------------------\u001b[0m",
      "\u001b[0;31mNameError\u001b[0m                                 Traceback (most recent call last)",
      "\u001b[0;32m<ipython-input-1-5cb2f6997e52>\u001b[0m in \u001b[0;36m<module>\u001b[0;34m()\u001b[0m\n\u001b[1;32m     17\u001b[0m \u001b[0mpattern\u001b[0m \u001b[0;34m=\u001b[0m \u001b[0;34mr'\\'?([-a-zA-Z0-9.`?{}]+@\\w+\\.\\w+)\\'?'\u001b[0m\u001b[0;34m\u001b[0m\u001b[0m\n\u001b[1;32m     18\u001b[0m \u001b[0;34m\u001b[0m\u001b[0m\n\u001b[0;32m---> 19\u001b[0;31m \u001b[0mtest_email\u001b[0m\u001b[0;34m(\u001b[0m\u001b[0mpattern\u001b[0m\u001b[0;34m)\u001b[0m\u001b[0;34m\u001b[0m\u001b[0m\n\u001b[0m\u001b[1;32m     20\u001b[0m \u001b[0;34m\u001b[0m\u001b[0m\n\u001b[1;32m     21\u001b[0m \u001b[0;34m\u001b[0m\u001b[0m\n",
      "\u001b[0;32m<ipython-input-1-5cb2f6997e52>\u001b[0m in \u001b[0;36mtest_email\u001b[0;34m(your_pattern)\u001b[0m\n\u001b[1;32m     10\u001b[0m         \u001b[0;32mif\u001b[0m \u001b[0;32mnot\u001b[0m \u001b[0mre\u001b[0m\u001b[0;34m.\u001b[0m\u001b[0mmatch\u001b[0m\u001b[0;34m(\u001b[0m\u001b[0mpattern\u001b[0m\u001b[0;34m,\u001b[0m \u001b[0memail\u001b[0m\u001b[0;34m)\u001b[0m\u001b[0;34m:\u001b[0m\u001b[0;34m\u001b[0m\u001b[0m\n\u001b[1;32m     11\u001b[0m             \u001b[0mprint\u001b[0m\u001b[0;34m(\u001b[0m\u001b[0;34m\"No matching pattern\"\u001b[0m\u001b[0;34m)\u001b[0m\u001b[0;34m\u001b[0m\u001b[0m\n\u001b[0;32m---> 12\u001b[0;31m         \u001b[0;32melif\u001b[0m \u001b[0;32mnot\u001b[0m \u001b[0mstring\u001b[0m\u001b[0;34m:\u001b[0m\u001b[0;34m\u001b[0m\u001b[0m\n\u001b[0m\u001b[1;32m     13\u001b[0m             \u001b[0mprint\u001b[0m\u001b[0;34m(\u001b[0m\u001b[0;34m\"Forgot to enter a pattern\"\u001b[0m\u001b[0;34m)\u001b[0m\u001b[0;34m\u001b[0m\u001b[0m\n\u001b[1;32m     14\u001b[0m         \u001b[0;32melse\u001b[0m\u001b[0;34m:\u001b[0m\u001b[0;34m\u001b[0m\u001b[0m\n",
      "\u001b[0;31mNameError\u001b[0m: name 'string' is not defined"
     ]
    }
   ],
   "source": [
    "#e-mail matching regex\n",
    "\n",
    "import re\n",
    "\n",
    "def test_email(your_pattern):\n",
    "    pattern = re.compile(your_pattern)\n",
    "    emails = [\"john@google.com\",\"python-list@python.org\",'wha.`1an?ug{}ly@email.com']\n",
    "    \n",
    "    for email in emails:\n",
    "        if not re.match(pattern, email):\n",
    "            print(\"No matching pattern\")\n",
    "        elif not string:\n",
    "            print(\"Forgot to enter a pattern\")\n",
    "        else:\n",
    "            print(\"Pattern found\")\n",
    "   \n",
    "pattern = r'\\'?([-a-zA-Z0-9.`?{}]+@\\w+\\.\\w+)\\'?'\n",
    "    \n",
    "test_email(pattern)\n",
    "\n",
    "    "
   ]
  },
  {
   "cell_type": "markdown",
   "metadata": {},
   "source": [
    "# IP Address substitution in Python Script"
   ]
  },
  {
   "cell_type": "code",
   "execution_count": null,
   "metadata": {},
   "outputs": [],
   "source": [
    "import re\n",
    "\n",
    "pattern = re.compile(r'\\b(?:[0-9]{1,3}\\.){3}[0-9]{1,3}\\b')"
   ]
  }
 ],
 "metadata": {
  "kernelspec": {
   "display_name": "Python 3",
   "language": "python",
   "name": "python3"
  },
  "language_info": {
   "codemirror_mode": {
    "name": "ipython",
    "version": 3
   },
   "file_extension": ".py",
   "mimetype": "text/x-python",
   "name": "python",
   "nbconvert_exporter": "python",
   "pygments_lexer": "ipython3",
   "version": "3.7.0"
  }
 },
 "nbformat": 4,
 "nbformat_minor": 2
}
