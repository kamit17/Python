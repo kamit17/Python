{
 "cells": [
  {
   "cell_type": "markdown",
   "metadata": {},
   "source": [
    "# Python Regex to match dates"
   ]
  },
  {
   "cell_type": "code",
   "execution_count": 23,
   "metadata": {},
   "outputs": [],
   "source": [
    "import re"
   ]
  },
  {
   "cell_type": "code",
   "execution_count": null,
   "metadata": {},
   "outputs": [],
   "source": [
    "# Regex matching dd/mm/yyyy\n",
    "#[\\d]{1,2} - match one or two digits\n",
    "#[\\d]{4} - match exactly 4 digits\n",
    "#separator is /\n",
    "\n",
    "\n",
    "import re\n",
    "\n",
    "# Matching capital letters\n",
    "\n",
    "str = \"\"\"COBOL is a compiled English-like computer programming language designed for business use. 122. On 10/10/2015 is a big date unlike 1/11/2010 \"\"\"\n",
    "\n",
    "all = re.findall(r\"[\\d]{1,2}/[\\d]{1,2}/[\\d]{4}\", str)\n",
    "\n",
    "for s in all:\n",
    "    print(s)\n"
   ]
  },
  {
   "cell_type": "code",
   "execution_count": null,
   "metadata": {},
   "outputs": [],
   "source": [
    "#Date format = dd-mm-yyyy\n",
    "#[\\d]{1,2} - match one or two digits\n",
    "#separator is -\n",
    "\n",
    "import re\n",
    "\n",
    "str = \"\"\"COBOL is a compiled English-like computer programming language designed for business use. 122. On 10-10-15 is a big date unlike 1-11-10 \"\"\"\n",
    "\n",
    "all = re.findall(r'[\\d]{1,2}-[\\d]{1,2}-[\\d]{2}',str)\n",
    "\n",
    "for s in all:\n",
    "    print(s)"
   ]
  },
  {
   "cell_type": "code",
   "execution_count": null,
   "metadata": {},
   "outputs": [],
   "source": [
    "#Date format - dd/november/yyyy dd/ month/yyyy\n",
    "#[ADFJMNOS]\\w* - Match big letter from ADFJMNOS followed by another letters\n",
    "import re\n",
    "\n",
    "# Matching capital letters\n",
    "\n",
    "str = \"\"\"COBOL is a compiled English-like computer programming language designed for business use. 122. On 10 October 2015 is a big date unlike 1 NOV 2010 \"\"\"\n",
    "\n",
    "all = re.findall(r\"[\\d]{1,2} [ADFJMNOS]\\w* [\\d]{4}\", str) \n",
    "#all = re.findall(r\"[\\d]{1,2} [a-z A-Z]\\w* [\\d]{4}\", str) # This also works\n",
    "\n",
    "\n",
    "for s in all:\n",
    "    print(s)\n"
   ]
  },
  {
   "cell_type": "markdown",
   "metadata": {},
   "source": [
    "# Python regex match examples"
   ]
  },
  {
   "cell_type": "code",
   "execution_count": null,
   "metadata": {},
   "outputs": [],
   "source": [
    "#Matching sentences single line string\n",
    "\n",
    "\n",
    "#finds all sentecnes separated by dot,exclamation mark or question mark\n",
    "\n",
    "import re\n",
    "\n",
    "str = \"\"\"Python is an interpreted high-level programming language for general-purpose programming? Created by Guido van Rossum and first released in 1991! Python has a design philosophy that emphasizes code readability, and a syntax that allows programmers to express concepts in fewer lines of code, notably using ...\"\"\"\n",
    "\n",
    "pattern = re.findall(r'\\w+[^.!?]*[.!?]',str)\n",
    "\n",
    "for s in pattern:\n",
    "    print(s)\n",
    "\n"
   ]
  },
  {
   "cell_type": "code",
   "execution_count": null,
   "metadata": {},
   "outputs": [],
   "source": [
    "#matching e-mail address using group\n",
    "\n",
    "import re\n",
    "email_address = 'Please contact us at : support@python.org'\n",
    "match = re.search(r'([\\w\\.]+)@([\\w\\.-]+)',email_address)\n",
    "                  \n",
    "if match:\n",
    "    print(match.group())#the whole matched text\n",
    "    print(match.group(1))#the username (group1)\n",
    "    print(match.group(2))"
   ]
  },
  {
   "cell_type": "code",
   "execution_count": null,
   "metadata": {},
   "outputs": [],
   "source": [
    "import re\n",
    "line = \"dance more\"\n",
    "result = re.match(r'[^\\d+]',line)\n",
    "print(result)"
   ]
  },
  {
   "cell_type": "code",
   "execution_count": 24,
   "metadata": {},
   "outputs": [
    {
     "name": "stdout",
     "output_type": "stream",
     "text": [
      "dreamer\n"
     ]
    }
   ],
   "source": [
    "string = '\\n dreamer'\n",
    "result = re.search(r'\\w+',string,re.MULTILINE)\n",
    "print(result.group())"
   ]
  },
  {
   "cell_type": "code",
   "execution_count": null,
   "metadata": {},
   "outputs": [],
   "source": []
  }
 ],
 "metadata": {
  "kernelspec": {
   "display_name": "Python 3",
   "language": "python",
   "name": "python3"
  },
  "language_info": {
   "codemirror_mode": {
    "name": "ipython",
    "version": 3
   },
   "file_extension": ".py",
   "mimetype": "text/x-python",
   "name": "python",
   "nbconvert_exporter": "python",
   "pygments_lexer": "ipython3",
   "version": "3.6.4"
  }
 },
 "nbformat": 4,
 "nbformat_minor": 2
}
