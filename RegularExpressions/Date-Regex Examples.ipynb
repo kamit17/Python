{
 "cells": [
  {
   "cell_type": "markdown",
   "metadata": {},
   "source": [
    "# Python Regex to match dates"
   ]
  },
  {
   "cell_type": "code",
   "execution_count": null,
   "metadata": {},
   "outputs": [],
   "source": [
    "# Regex matching dd/mm/yyyy\n",
    "#[\\d]{1,2} - match one or two digits\n",
    "#[\\d]{4} - match exactly 4 digits\n",
    "#separator is /\n",
    "\n",
    "\n",
    "import re\n",
    "\n",
    "# Matching capital letters\n",
    "\n",
    "str = \"\"\"COBOL is a compiled English-like computer programming language designed for business use. 122. On 10/10/2015 is a big date unlike 1/11/2010 \"\"\"\n",
    "\n",
    "all = re.findall(r\"[\\d]{1,2}/[\\d]{1,2}/[\\d]{4}\", str)\n",
    "\n",
    "for s in all:\n",
    "    print(s)\n"
   ]
  },
  {
   "cell_type": "code",
   "execution_count": null,
   "metadata": {},
   "outputs": [],
   "source": [
    "#Date format = dd-mm-yyyy\n",
    "#[\\d]{1,2} - match one or two digits\n",
    "#separator is -\n",
    "\n",
    "import re\n",
    "\n",
    "str = \"\"\"COBOL is a compiled English-like computer programming language designed for business use. 122. On 10-10-15 is a big date unlike 1-11-10 \"\"\"\n",
    "\n",
    "all = re.findall(r'[\\d]{1,2}-[\\d]{1,2}-[\\d]{2}',str)\n",
    "\n",
    "for s in all:\n",
    "    print(s)"
   ]
  },
  {
   "cell_type": "code",
   "execution_count": null,
   "metadata": {},
   "outputs": [],
   "source": [
    "#Date format - dd/november/yyyy dd/ month/yyyy\n",
    "#[ADFJMNOS]\\w* - Match big letter from ADFJMNOS followed by another letters\n",
    "import re\n",
    "\n",
    "# Matching capital letters\n",
    "\n",
    "str = \"\"\"COBOL is a compiled English-like computer programming language designed for business use. 122. On 10 October 2015 is a big date unlike 1 NOV 2010 \"\"\"\n",
    "\n",
    "all = re.findall(r\"[\\d]{1,2} [ADFJMNOS]\\w* [\\d]{4}\", str) \n",
    "#all = re.findall(r\"[\\d]{1,2} [a-z A-Z]\\w* [\\d]{4}\", str) # This also works\n",
    "\n",
    "\n",
    "for s in all:\n",
    "    print(s)\n"
   ]
  },
  {
   "cell_type": "code",
   "execution_count": null,
   "metadata": {},
   "outputs": [],
   "source": []
  },
  {
   "cell_type": "code",
   "execution_count": null,
   "metadata": {},
   "outputs": [],
   "source": []
  }
 ],
 "metadata": {
  "kernelspec": {
   "display_name": "Python 3",
   "language": "python",
   "name": "python3"
  },
  "language_info": {
   "codemirror_mode": {
    "name": "ipython",
    "version": 3
   },
   "file_extension": ".py",
   "mimetype": "text/x-python",
   "name": "python",
   "nbconvert_exporter": "python",
   "pygments_lexer": "ipython3",
   "version": "3.6.4"
  }
 },
 "nbformat": 4,
 "nbformat_minor": 2
}
