{
 "cells": [
  {
   "cell_type": "markdown",
   "metadata": {},
   "source": [
    "# Regular Expressions Groups"
   ]
  },
  {
   "cell_type": "code",
   "execution_count": null,
   "metadata": {},
   "outputs": [],
   "source": [
    "Groups are very useful when you need to work with complex regular Expressions\n",
    "\n",
    "Regular Expressions groups\n",
    "(\\w+) : Capturing group(search for letters)\n",
    "(?P\\w+) : Capturing group named myreg\n",
    "(?:...) : Non capturing group\n",
    "\\NN : match the NN'th captured group\n",
    "(?P=Y) : Match the named group Y\n",
    "(?#...) Comment*\n"
   ]
  },
  {
   "cell_type": "code",
   "execution_count": null,
   "metadata": {},
   "outputs": [],
   "source": [
    "Python regex use groups\n",
    "Groups can be used to separate your results. \n",
    "For examples when you search for dates, sentences groups are very useful."
   ]
  },
  {
   "cell_type": "code",
   "execution_count": null,
   "metadata": {},
   "outputs": [],
   "source": [
    "#method group returns the group depending on their number\n",
    "\n",
    "import re\n",
    "\n",
    "pattern = r'(number).(\\d+).(\\w+).(\\d+)'\n",
    "text = 'test string number 212 alpha 34'\n",
    "print(re.findall(pattern, text))\n",
    "print(re.search(pattern, text).group())\n",
    "print(re.search(pattern, text).group(1))\n",
    "print(re.search(pattern, text).group(2))"
   ]
  },
  {
   "cell_type": "code",
   "execution_count": null,
   "metadata": {},
   "outputs": [],
   "source": [
    "#non Capturing group\n",
    "\n",
    "import re\n",
    "\n",
    "pattern = r'(number).(?:\\d+)'\n",
    "\n",
    "text = 'test string number 212 alpha 34'\n",
    "print(re.findall(pattern, text))\n",
    "print(re.search(pattern, text).group())\n",
    "print(re.search(pattern, text).group(1))\n",
    "\n"
   ]
  },
  {
   "cell_type": "markdown",
   "metadata": {},
   "source": [
    "# Regular Expression Assertions\n"
   ]
  },
  {
   "cell_type": "code",
   "execution_count": null,
   "metadata": {},
   "outputs": [],
   "source": [
    "^\tStart of string\n",
    "\\A\tStart of string, ignores m flag\n",
    "$\tEnd of string\n",
    "\\Z\tEnd of string, ignores m flag\n",
    "\\b\tWord boundary\n",
    "\\B\tNon-word boundary\n",
    "(?=...)\tPositive lookahead\n",
    "(?!...)\tNegative lookahead\n",
    "(?<=...)\tPositive lookbehind\n",
    "(?<!...)\tNegative lookbehind\n",
    "(?()|)\tConditional"
   ]
  },
  {
   "cell_type": "code",
   "execution_count": null,
   "metadata": {},
   "outputs": [],
   "source": [
    "#Positive lookbehind\n",
    "#Catch if the first group is the word - number and then return only the second group:\n",
    "\n",
    "import re\n",
    "\n",
    "pattern = r'(?<=number).\\d+'\n",
    "text = 'test string number 21'\n",
    "print(re.findall(pattern, text))\n",
    "print(re.search(pattern, text).group())\n"
   ]
  },
  {
   "cell_type": "code",
   "execution_count": null,
   "metadata": {},
   "outputs": [],
   "source": [
    "##Negative lookahead\n",
    "\n",
    "#Catch if the first group is not the word - test and then return only the second group:\n",
    "\n",
    "\n",
    "import re\n",
    "\n",
    "pattern = r\"(?!test).\\d+\"\n",
    "text = \"test string number 21\"\n",
    "print(re.findall(pattern, text))\n",
    "print(re.search(pattern, text).group())"
   ]
  },
  {
   "cell_type": "code",
   "execution_count": null,
   "metadata": {},
   "outputs": [],
   "source": [
    "Regex Other\n",
    "\\n - newline\n",
    "\\r - Carriage return\n",
    "\\t - Tab"
   ]
  },
  {
   "cell_type": "markdown",
   "metadata": {},
   "source": [
    "# Python Regex Flags\n"
   ]
  },
  {
   "cell_type": "code",
   "execution_count": null,
   "metadata": {},
   "outputs": [],
   "source": [
    "i\tIgnore case\n",
    "m\t^ and $ match start and end of line\n",
    "s\t. matches newline as well\n",
    "x\tAllow spaces and comments\n",
    "L\tLocale character classes\n",
    "u\tUnicode character classes\n",
    "(?iL)\tSet flags within regex\n"
   ]
  },
  {
   "cell_type": "code",
   "execution_count": null,
   "metadata": {},
   "outputs": [],
   "source": [
    "#Examples using flags in python\n",
    "\n",
    "import re\n",
    "pattern = r'\\d'\n",
    "text = 'test string: 21'\n",
    "print(re.findall(pattern, text,re.I | re.DOTALL))"
   ]
  },
  {
   "cell_type": "code",
   "execution_count": null,
   "metadata": {},
   "outputs": [],
   "source": []
  }
 ],
 "metadata": {
  "kernelspec": {
   "display_name": "Python 3",
   "language": "python",
   "name": "python3"
  },
  "language_info": {
   "codemirror_mode": {
    "name": "ipython",
    "version": 3
   },
   "file_extension": ".py",
   "mimetype": "text/x-python",
   "name": "python",
   "nbconvert_exporter": "python",
   "pygments_lexer": "ipython3",
   "version": "3.6.4"
  }
 },
 "nbformat": 4,
 "nbformat_minor": 2
}
