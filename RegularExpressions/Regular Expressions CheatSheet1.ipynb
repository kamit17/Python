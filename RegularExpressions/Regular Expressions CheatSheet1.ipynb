{
 "cells": [
  {
   "cell_type": "markdown",
   "metadata": {},
   "source": [
    "# Regex Basic Examples\n"
   ]
  },
  {
   "cell_type": "code",
   "execution_count": null,
   "metadata": {},
   "outputs": [],
   "source": [
    ".  : Any character (except newline)\n",
    "x :  The character x\n",
    "xyz : The string xyz\n",
    "x|y : x or y\n",
    "x* : character x  - 0 or more times\n",
    "\\ ; Escapes a special character like ($,*)"
   ]
  },
  {
   "cell_type": "code",
   "execution_count": null,
   "metadata": {},
   "outputs": [],
   "source": [
    "Use module re to search.\n",
    "\n",
    "Methods of module re\n",
    "\n",
    "match - works by matching from the beginning of the string. Return special object - `<_sre.SRE_Match object - you need to use method span() or group() in order to get the information from this object.\n",
    "search - this method returns the first match otherwise return None. Return special object - `<_sre.SRE_Match object - you need to use method span() or group() in order to get the information from this object.\n",
    "findall - search regex for more than one (non-overlapping) match in the string. Return a list with values."
   ]
  },
  {
   "cell_type": "code",
   "execution_count": null,
   "metadata": {},
   "outputs": [],
   "source": [
    "#Example to find any character\n",
    "import re\n",
    "\n",
    "pattern =r'.'\n",
    "text = \"test string: 21\"\n",
    "print(re.match(pattern,text).span())  #matches words from beginning of the string.span() returns a tuple containing the start and end of match\n",
    "print(re.search(pattern,text).group()) #returns the first match\n",
    "print(re.findall(pattern,text))  #searches for more than one . Returns list"
   ]
  },
  {
   "cell_type": "code",
   "execution_count": null,
   "metadata": {},
   "outputs": [],
   "source": [
    "#find one or another word\n",
    "\n",
    "import re\n",
    "pattern = r'number|21'\n",
    "text = 'test.string 21'\n",
    "print(re.match(pattern,text)) #returns none since start of string is not 21\n",
    "print(re.search(pattern,text)) # returns the first found of both\n",
    "print(re.findall(pattern,text)) # returns al of them"
   ]
  },
  {
   "cell_type": "markdown",
   "metadata": {},
   "source": [
    "# Regular Expressions Quantifiers\n",
    "\n"
   ]
  },
  {
   "cell_type": "code",
   "execution_count": null,
   "metadata": {},
   "outputs": [],
   "source": [
    "\n",
    "*  -- 0 or more matches of a character\n",
    "+  -- 1 or more matches of a character\n",
    "?  -- 0 or 1 character\n",
    "{m} -- exactly m characters\n",
    "{m,n} -- Betwwen m and n characters\n",
    "{m,}  --m or more characters\n",
    "{,n} -- upto n characters"
   ]
  },
  {
   "cell_type": "code",
   "execution_count": null,
   "metadata": {},
   "outputs": [],
   "source": [
    "\n",
    "#find 0 or more digits\n",
    "\n",
    "import re\n",
    "pattern1 = r\"\\d*\"\n",
    "text = \"test string number 21\"\n",
    "print(re.match(pattern, text).span())  #matches words from beginning of the string.span() returns a tuple containing the start and end of match\n",
    "print(re.search(pattern, text).group()) #returns the first match\n",
    "print(re.findall(pattern, text))  #searches for more than one . Returns list\n",
    "\n",
    "\n"
   ]
  },
  {
   "cell_type": "code",
   "execution_count": null,
   "metadata": {},
   "outputs": [],
   "source": [
    "#find 1 or more digits\n",
    "\n",
    "import re\n",
    "pattern = r\"\\d+\"\n",
    "text = \"test string number 21\"\n",
    "print(re.match(pattern, text))  #matches words from beginning of the string.\n",
    "print(re.search(pattern, text)) #returns the first match\n",
    "print(re.findall(pattern, text))  #searches for more than one . Returns list\n",
    "\n"
   ]
  },
  {
   "cell_type": "code",
   "execution_count": null,
   "metadata": {},
   "outputs": [],
   "source": [
    "#search one digit\n",
    "\n",
    "import re\n",
    "pattern = r\"\\d?\"\n",
    "text = 'test string number 21'\n",
    "print(re.match(pattern,text))\n",
    "print(re.search(pattern,text))\n",
    "print(re.findall(pattern,text))\n"
   ]
  },
  {
   "cell_type": "code",
   "execution_count": null,
   "metadata": {},
   "outputs": [],
   "source": [
    "#find exact number of characters\n",
    "\n",
    "import re\n",
    "pattern = r\"\\w{3}\"  #find string of 3 letters\n",
    "text = \"test string number 32\"\n",
    "print(re.match(pattern, text))\n",
    "print(re.search(pattern,text))\n",
    "print(re.findall(pattern,text))"
   ]
  },
  {
   "cell_type": "code",
   "execution_count": null,
   "metadata": {},
   "outputs": [],
   "source": [
    "#find exact number of characters\n",
    "\n",
    "import re\n",
    "#pattern = r\"\\w{3}\"  #find string of 3 letters\n",
    "pattern = r'\\w{2,4}'\n",
    "text = \"test string number 32\"\n",
    "print(re.match(pattern, text))\n",
    "print(re.search(pattern,text))\n",
    "print(re.findall(pattern,text))"
   ]
  },
  {
   "cell_type": "markdown",
   "metadata": {},
   "source": [
    "# Regular Expressions Character Classes"
   ]
  },
  {
   "cell_type": "code",
   "execution_count": null,
   "metadata": {},
   "outputs": [],
   "source": [
    "[xyz]: one character of x,y,z\n",
    "[^xyz]: one Character except x,y,z\n",
    "[\\b]: Backspace Character\n",
    "[\\d]: one digit\n",
    "[\\D]: one non-digit\n",
    "[\\s]: one white space\n",
    "[\\S]: one non-whitespace\n",
    "[\\w]: one word character\n",
    "[\\W]: one non-word character\n",
    "    "
   ]
  },
  {
   "cell_type": "code",
   "execution_count": null,
   "metadata": {},
   "outputs": [],
   "source": [
    "#search for list of characters\n",
    "#search for x,y,z and 2\n",
    "\n",
    "import re\n",
    "pattern = r'[xyz2]'\n",
    "text = \"test string number 32 xylophone yellow zambia\"\n",
    "print(re.match(pattern, text))\n",
    "print(re.search(pattern,text))\n",
    "print(re.findall(pattern,text))"
   ]
  },
  {
   "cell_type": "code",
   "execution_count": null,
   "metadata": {},
   "outputs": [],
   "source": [
    "#Search except for some characters\n",
    "\n",
    "import re\n",
    "\n",
    "pattern = r'[^teststringu\\s]' \n",
    "text = \"test string number 32 xylophone yellow zambia\"\n",
    "print(re.match(pattern, text))\n",
    "print(re.search(pattern,text))\n",
    "print(re.findall(pattern,text))"
   ]
  },
  {
   "cell_type": "code",
   "execution_count": null,
   "metadata": {},
   "outputs": [],
   "source": []
  }
 ],
 "metadata": {
  "kernelspec": {
   "display_name": "Python 3",
   "language": "python",
   "name": "python3"
  },
  "language_info": {
   "codemirror_mode": {
    "name": "ipython",
    "version": 3
   },
   "file_extension": ".py",
   "mimetype": "text/x-python",
   "name": "python",
   "nbconvert_exporter": "python",
   "pygments_lexer": "ipython3",
   "version": "3.6.4"
  }
 },
 "nbformat": 4,
 "nbformat_minor": 2
}
