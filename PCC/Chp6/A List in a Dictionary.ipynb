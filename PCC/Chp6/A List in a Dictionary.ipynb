{
 "cells": [
  {
   "cell_type": "code",
   "execution_count": null,
   "metadata": {},
   "outputs": [],
   "source": [
    "#You can nest a list inside a dictionary any time you want more \n",
    "#than one value to be associated with a single key in a dictionary.\n",
    "\n",
    "#store information about a pizza being ordered.\n",
    "pizza = {'crust':'thick',\n",
    "        'toppings':['mushrooms','extra cheese'],\n",
    "}\n",
    "\n",
    "#summarize the order.\n",
    "\n",
    "print('You ordered a '+ pizza['crust']+' -crust pizza'+\n",
    "     ' with the following toppings:')\n",
    "\n",
    "for topping in pizza['toppings']:\n",
    "    print('\\t' + topping)"
   ]
  },
  {
   "cell_type": "code",
   "execution_count": null,
   "metadata": {},
   "outputs": [],
   "source": [
    "favourite_languages = {\n",
    "    'jen':['python','ruby'],\n",
    "    'sarah':['c'],\n",
    "    'edward':['ruby','go'],\n",
    "    'phil':['python','haskell'],\n",
    "}\n",
    "\n",
    "#we use the variable name languages to hold each value from the dictionary\n",
    "for name,languages in favourite_languages.items():\n",
    "    print('\\n'+name.title()+\"'s favourite languages are:\")\n",
    "    \n",
    "#run through each person’s list of favorite languages.\n",
    "    for language in languages:\n",
    "        print('\\t'+language.title())"
   ]
  },
  {
   "cell_type": "code",
   "execution_count": null,
   "metadata": {},
   "outputs": [],
   "source": []
  }
 ],
 "metadata": {
  "kernelspec": {
   "display_name": "Python 3",
   "language": "python",
   "name": "python3"
  },
  "language_info": {
   "codemirror_mode": {
    "name": "ipython",
    "version": 3
   },
   "file_extension": ".py",
   "mimetype": "text/x-python",
   "name": "python",
   "nbconvert_exporter": "python",
   "pygments_lexer": "ipython3",
   "version": "3.6.7"
  }
 },
 "nbformat": 4,
 "nbformat_minor": 2
}
