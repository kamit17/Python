{
 "cells": [
  {
   "cell_type": "markdown",
   "metadata": {},
   "source": [
    "# Wild Cards used in regular expressions\n"
   ]
  },
  {
   "cell_type": "code",
   "execution_count": null,
   "metadata": {},
   "outputs": [],
   "source": [
    ". - matches single character (except newline)\n",
    "\\w - matches any letter, digit or underscore (just one)\n",
    "\\s - matches exactly on whitespace character\n",
    "\\t - tab\n",
    "\\d - matches digits from 0 to 9\n",
    "\\n - newline\n",
    "[xy] - x or y\n",
    "[a-zA-Z] - matches letters from (a to z) or (A to Z)\n",
    "\\A - matches the start of the string\n",
    "\\b -matches the beginning or end of the string.\n",
    "\n"
   ]
  },
  {
   "cell_type": "markdown",
   "metadata": {},
   "source": [
    "# Python Regex match"
   ]
  },
  {
   "cell_type": "code",
   "execution_count": 3,
   "metadata": {},
   "outputs": [],
   "source": [
    "import re"
   ]
  },
  {
   "cell_type": "code",
   "execution_count": null,
   "metadata": {},
   "outputs": [],
   "source": [
    "#Method Match\n",
    "\n",
    "import re\n",
    "\n",
    "pattern = r'Cheese'\n",
    "text = 'Cheese is a diary product derived from milk'\n",
    "print(re.match(pattern, text).span())"
   ]
  },
  {
   "cell_type": "code",
   "execution_count": null,
   "metadata": {},
   "outputs": [],
   "source": [
    "pattern = re.compile(r'\\w+')\n",
    "\n",
    "string = \"This is regex\"\n",
    "\n",
    "result = pattern.match(string)\n",
    "print(result.group())"
   ]
  },
  {
   "cell_type": "code",
   "execution_count": null,
   "metadata": {},
   "outputs": [],
   "source": [
    "pattern = re.compile(r'\\w+')\n",
    "\n",
    "string = \"This is regex\"\n",
    "\n",
    "result = pattern.match(string)\n",
    "print(result.group())"
   ]
  },
  {
   "cell_type": "code",
   "execution_count": 4,
   "metadata": {},
   "outputs": [
    {
     "data": {
      "text/plain": [
       "'911 Response'"
      ]
     },
     "execution_count": 4,
     "metadata": {},
     "output_type": "execute_result"
    }
   ],
   "source": [
    "def regex(string):\n",
    "    \"\"\"This functin returns at least one matching digit\"\"\"\n",
    "    \n",
    "    pattern = re.compile(r'\\d+ \\w+')\n",
    "    result = pattern.match(string)\n",
    "    if result:\n",
    "        return result.group()\n",
    "    return None\n",
    "\n",
    "#call our function , passing in our string\n",
    "regex('911 Response')"
   ]
  },
  {
   "cell_type": "markdown",
   "metadata": {},
   "source": [
    "# Python regex search"
   ]
  },
  {
   "cell_type": "code",
   "execution_count": null,
   "metadata": {},
   "outputs": [],
   "source": [
    "#re.search(pattern,text)\n",
    "#returns the start and the end of the word need to be found in the string sequence\n",
    "\n",
    "import re\n",
    "\n",
    "pattern = r'Cheese'\n",
    "text = \"Do you know that: Cheese is a dairy product derived from milk that is produced in a wide..\"\n",
    "\n",
    "print(re.search(pattern, text).span())\n"
   ]
  },
  {
   "cell_type": "code",
   "execution_count": null,
   "metadata": {},
   "outputs": [],
   "source": [
    "string = '\\n dreamer'\n",
    "result = re.search(r'\\w+',string,re.MULTILINE)\n",
    "print(result.group())"
   ]
  },
  {
   "cell_type": "markdown",
   "metadata": {},
   "source": [
    "# python regular expression findall"
   ]
  },
  {
   "cell_type": "code",
   "execution_count": null,
   "metadata": {},
   "outputs": [],
   "source": [
    "#Search for a pttern and extract ehe whole sentence containintg the word\n",
    "#Program searches for the word milk and extracts the sentence \n",
    "import re\n",
    "\n",
    "pattern = r'([^.]*milk[^.]*)'\n",
    "text = \"Do you know that: Cheese is a dairy product derived from milk that is produced in a wide..\"\n",
    "\n",
    "print(re.findall(pattern, text))"
   ]
  },
  {
   "cell_type": "code",
   "execution_count": 9,
   "metadata": {},
   "outputs": [
    {
     "data": {
      "text/plain": [
       "['finding', 'Nemo', 'finding', 'Dory']"
      ]
     },
     "execution_count": 9,
     "metadata": {},
     "output_type": "execute_result"
    }
   ],
   "source": [
    "import re\n",
    "\n",
    "def finder(string):\n",
    "    \"\"\"This fucntion finds all the words in a given string\"\"\"\n",
    "    result_list = re.findall(r'\\w+',string)\n",
    "    return result_list\n",
    "\n",
    "#Call finder function , passing in the string argument\n",
    "finder(\"finding Nemo, finding Dory\")"
   ]
  },
  {
   "cell_type": "code",
   "execution_count": 11,
   "metadata": {},
   "outputs": [
    {
     "name": "stdout",
     "output_type": "stream",
     "text": [
      "['120000', '140000', '10000']\n"
     ]
    }
   ],
   "source": [
    "#to search for people with 5 or 6 figure salaries\n",
    "\n",
    "import re\n",
    "salaries = '120000 140000 10000 1000 200'\n",
    "\n",
    "result_list = re.findall(r'\\d{5,6}',salaries)\n",
    "\n",
    "print(result_list)"
   ]
  },
  {
   "cell_type": "markdown",
   "metadata": {},
   "source": [
    "# re.split()"
   ]
  },
  {
   "cell_type": "code",
   "execution_count": 5,
   "metadata": {},
   "outputs": [
    {
     "name": "stdout",
     "output_type": "stream",
     "text": [
      "['John Doe Jane Doe Jin Du Chin Doe']\n"
     ]
    }
   ],
   "source": [
    "#The re.split() splits a string into a list delimited by the passed pattern\n",
    "text = \"John Doe Jane Doe Jin Du Chin Doe\"\n",
    "\n",
    "results = re.split(r'\\n+',text)\n",
    "print(results)"
   ]
  },
  {
   "cell_type": "markdown",
   "metadata": {},
   "source": [
    "# re.sub() method"
   ]
  },
  {
   "cell_type": "code",
   "execution_count": 12,
   "metadata": {},
   "outputs": [
    {
     "name": "stdout",
     "output_type": "stream",
     "text": [
      "regex regex regex regex\n"
     ]
    }
   ],
   "source": [
    "import re\n",
    "\n",
    "pattern = re.compile(r'\\w+') #match only alphanumberic characters\n",
    "input_string = \"Lorem ipsum kabra ipsum\"\n",
    "result = pattern.sub(\"regex\",input_string)\n",
    "print(result)"
   ]
  },
  {
   "cell_type": "code",
   "execution_count": null,
   "metadata": {},
   "outputs": [],
   "source": []
  }
 ],
 "metadata": {
  "kernelspec": {
   "display_name": "Python 3",
   "language": "python",
   "name": "python3"
  },
  "language_info": {
   "codemirror_mode": {
    "name": "ipython",
    "version": 3
   },
   "file_extension": ".py",
   "mimetype": "text/x-python",
   "name": "python",
   "nbconvert_exporter": "python",
   "pygments_lexer": "ipython3",
   "version": "3.7.0"
  }
 },
 "nbformat": 4,
 "nbformat_minor": 2
}
