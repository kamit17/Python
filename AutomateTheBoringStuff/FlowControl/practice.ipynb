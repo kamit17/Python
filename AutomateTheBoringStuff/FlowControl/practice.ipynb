{
 "cells": [
  {
   "cell_type": "code",
   "execution_count": 2,
   "metadata": {},
   "outputs": [
    {
     "name": "stdout",
     "output_type": "stream",
     "text": [
      "10\n"
     ]
    }
   ],
   "source": [
    "total2= 0\n",
    "j =1\n",
    "while j<5:\n",
    "    total2 += j\n",
    "    j+=1\n",
    "print(total2)\n",
    "\n",
    "    "
   ]
  },
  {
   "cell_type": "code",
   "execution_count": 3,
   "metadata": {},
   "outputs": [
    {
     "name": "stdout",
     "output_type": "stream",
     "text": [
      "17\n"
     ]
    }
   ],
   "source": [
    "given_list = [5,4,4,3,1,-2,-3,-5]\n",
    "#find sum of only positive numbers in the list\n",
    "total3=0\n",
    "i = 0\n",
    "while given_list[i] > 0:\n",
    "    total3 +=given_list[i]\n",
    "    i += 1\n",
    "    \n",
    "print(total3)"
   ]
  },
  {
   "cell_type": "code",
   "execution_count": 4,
   "metadata": {},
   "outputs": [
    {
     "name": "stdout",
     "output_type": "stream",
     "text": [
      "17\n"
     ]
    }
   ],
   "source": [
    "new_list = [5,4,4,3,1]\n",
    "total4 =0\n",
    "i = 0\n",
    "while i < len(new_list) and new_list[i] > 0:\n",
    "    total4 += new_list[i]\n",
    "    i += 1\n",
    "print(total4)"
   ]
  },
  {
   "cell_type": "code",
   "execution_count": 5,
   "metadata": {},
   "outputs": [
    {
     "name": "stdout",
     "output_type": "stream",
     "text": [
      "17\n"
     ]
    }
   ],
   "source": [
    "new_list2 = [5,4,4,3,1,-2,-3,-4]\n",
    "total5 =0\n",
    "for element in new_list2:\n",
    "    if element <= 0:\n",
    "        break\n",
    "    total5 += element\n",
    "print(total5)\n"
   ]
  },
  {
   "cell_type": "code",
   "execution_count": 7,
   "metadata": {},
   "outputs": [
    {
     "name": "stdout",
     "output_type": "stream",
     "text": [
      "17\n"
     ]
    }
   ],
   "source": [
    "#new_list2 = [5,4,4,3,1,-2,-3,-4]\n",
    "total6 = 0\n",
    "i = 0\n",
    "while True:\n",
    "    total6 += new_list2[i]\n",
    "    i += 1\n",
    "    if new_list2[i] <=0:\n",
    "        break\n",
    "print(total6)\n",
    "    "
   ]
  },
  {
   "cell_type": "code",
   "execution_count": null,
   "metadata": {},
   "outputs": [],
   "source": [
    "new_list3 = [7,5,4,4,3,1,-2,-3,-5,-7]\n",
    "total7 = 0\n",
    "i = len(new_list3) - 1\n",
    "while new_list3[i] < 0:\n",
    "    total7 = new_list3[i]\n",
    "    i -=1\n",
    "print(total7)"
   ]
  },
  {
   "cell_type": "code",
   "execution_count": null,
   "metadata": {},
   "outputs": [],
   "source": [
    "new_list3 = [7,5,4,4,3,1,-2,-3,-5,-7]\n",
    "total7 = 0\n",
    "i = len(new_list3) - 1\n",
    "while new_list3[i] < 0:\n",
    "    total7 = new_list3[i]\n",
    "    i -=1\n",
    "print(total7)"
   ]
  },
  {
   "cell_type": "code",
   "execution_count": null,
   "metadata": {},
   "outputs": [],
   "source": []
  }
 ],
 "metadata": {
  "kernelspec": {
   "display_name": "Python 3",
   "language": "python",
   "name": "python3"
  },
  "language_info": {
   "codemirror_mode": {
    "name": "ipython",
    "version": 3
   },
   "file_extension": ".py",
   "mimetype": "text/x-python",
   "name": "python",
   "nbconvert_exporter": "python",
   "pygments_lexer": "ipython3",
   "version": "3.6.4"
  }
 },
 "nbformat": 4,
 "nbformat_minor": 2
}
