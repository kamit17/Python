{
 "cells": [
  {
   "cell_type": "code",
   "execution_count": 1,
   "metadata": {},
   "outputs": [
    {
     "name": "stdout",
     "output_type": "stream",
     "text": [
      "Hello World!\n",
      "\n",
      "\n",
      "\n"
     ]
    }
   ],
   "source": [
    "file = open('hello.txt','r')\n",
    "for each in file:\n",
    "    print(each)"
   ]
  },
  {
   "cell_type": "code",
   "execution_count": null,
   "metadata": {},
   "outputs": [],
   "source": [
    "#Generating Random Quiz files\n",
    "#Step1 : Store the Quiz data in a Dictionary\n",
    "Creates 35 different quizzes.\n",
    "\n",
    "Creates 50 multiple-choice questions for each quiz, in random order.\n",
    "\n",
    "Provides the correct answer and three random wrong answers for each question, in random order.\n",
    "\n",
    "Writes the quizzes to 35 text files.\n",
    "\n",
    "Writes the answer keys to 35 text files.\n",
    "\n",
    "This means the code will need to do the following:\n",
    "\n",
    "Store the states and their capitals in a dictionary.\n",
    "\n",
    "Call open(), write(), and close() for the quiz and answer key text files.\n",
    "\n",
    "Use random.shuffle() to randomize the order of the questions and multiple-choice options."
   ]
  }
 ],
 "metadata": {
  "kernelspec": {
   "display_name": "Python 3",
   "language": "python",
   "name": "python3"
  },
  "language_info": {
   "codemirror_mode": {
    "name": "ipython",
    "version": 3
   },
   "file_extension": ".py",
   "mimetype": "text/x-python",
   "name": "python",
   "nbconvert_exporter": "python",
   "pygments_lexer": "ipython3",
   "version": "3.6.7"
  }
 },
 "nbformat": 4,
 "nbformat_minor": 2
}
