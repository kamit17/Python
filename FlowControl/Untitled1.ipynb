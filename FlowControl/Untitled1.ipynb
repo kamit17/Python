{
 "cells": [
  {
   "cell_type": "code",
   "execution_count": 2,
   "metadata": {},
   "outputs": [],
   "source": [
    "d={}\n",
    "d[\"George\"] = 24\n",
    "d[\"TOM\"] = 32\n",
    "d['Jenny'] = 16\n"
   ]
  },
  {
   "cell_type": "code",
   "execution_count": 3,
   "metadata": {},
   "outputs": [
    {
     "name": "stdout",
     "output_type": "stream",
     "text": [
      "key:\n",
      "George\n",
      "Value\n",
      "24\n",
      "key:\n",
      "TOM\n",
      "Value\n",
      "32\n",
      "key:\n",
      "Jenny\n",
      "Value\n",
      "16\n"
     ]
    }
   ],
   "source": [
    "# how to iterate over key-value pairs\n",
    "for key,value in d.items():\n",
    "    print(\"key:\")\n",
    "    print(key)\n",
    "\n",
    "    print('Value')\n",
    "    print(value)\n",
    "    "
   ]
  },
  {
   "cell_type": "code",
   "execution_count": null,
   "metadata": {},
   "outputs": [],
   "source": []
  }
 ],
 "metadata": {
  "kernelspec": {
   "display_name": "Python 3",
   "language": "python",
   "name": "python3"
  },
  "language_info": {
   "codemirror_mode": {
    "name": "ipython",
    "version": 3
   },
   "file_extension": ".py",
   "mimetype": "text/x-python",
   "name": "python",
   "nbconvert_exporter": "python",
   "pygments_lexer": "ipython3",
   "version": "3.6.4"
  }
 },
 "nbformat": 4,
 "nbformat_minor": 2
}
